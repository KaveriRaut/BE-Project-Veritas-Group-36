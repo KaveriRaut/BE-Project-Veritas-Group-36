{
 "cells": [
  {
   "cell_type": "code",
   "execution_count": 17,
   "metadata": {},
   "outputs": [],
   "source": [
    "import numpy as np\n",
    "import warnings\n",
    "warnings.filterwarnings('ignore')\n",
    "import pandas as pd"
   ]
  },
  {
   "cell_type": "code",
   "execution_count": 18,
   "metadata": {},
   "outputs": [
    {
     "data": {
      "text/html": [
       "<div>\n",
       "<style scoped>\n",
       "    .dataframe tbody tr th:only-of-type {\n",
       "        vertical-align: middle;\n",
       "    }\n",
       "\n",
       "    .dataframe tbody tr th {\n",
       "        vertical-align: top;\n",
       "    }\n",
       "\n",
       "    .dataframe thead th {\n",
       "        text-align: right;\n",
       "    }\n",
       "</style>\n",
       "<table border=\"1\" class=\"dataframe\">\n",
       "  <thead>\n",
       "    <tr style=\"text-align: right;\">\n",
       "      <th></th>\n",
       "      <th>Company Name</th>\n",
       "      <th>Similar Name</th>\n",
       "      <th>Same/Different</th>\n",
       "      <th>Category</th>\n",
       "      <th>Country same or not</th>\n",
       "      <th>Parent same or not</th>\n",
       "      <th>Unnamed: 6</th>\n",
       "    </tr>\n",
       "  </thead>\n",
       "  <tbody>\n",
       "    <tr>\n",
       "      <th>0</th>\n",
       "      <td>HARRIS COUNTY CSCD</td>\n",
       "      <td>HARRIS COUNTY</td>\n",
       "      <td>same</td>\n",
       "      <td>one word missing</td>\n",
       "      <td>same</td>\n",
       "      <td>NaN</td>\n",
       "      <td>NaN</td>\n",
       "    </tr>\n",
       "    <tr>\n",
       "      <th>1</th>\n",
       "      <td>HARRIS COUNTY CSCD</td>\n",
       "      <td>HARRIS COUNTY ITC</td>\n",
       "      <td>same</td>\n",
       "      <td>last word different</td>\n",
       "      <td>same</td>\n",
       "      <td>NaN</td>\n",
       "      <td>NaN</td>\n",
       "    </tr>\n",
       "    <tr>\n",
       "      <th>2</th>\n",
       "      <td>RICHLAND COUNTY EMERGENCY SERVICES</td>\n",
       "      <td>LANDER COUNTY EMERGENCY SERVICES</td>\n",
       "      <td>different</td>\n",
       "      <td>first word different</td>\n",
       "      <td>same</td>\n",
       "      <td>NaN</td>\n",
       "      <td>NaN</td>\n",
       "    </tr>\n",
       "    <tr>\n",
       "      <th>3</th>\n",
       "      <td>CS RECURSOS GEOTERMICO ICE</td>\n",
       "      <td>CS RECURSOS GEOTAARMICO ICE</td>\n",
       "      <td>same</td>\n",
       "      <td>mispell</td>\n",
       "      <td>same</td>\n",
       "      <td>NaN</td>\n",
       "      <td>NaN</td>\n",
       "    </tr>\n",
       "    <tr>\n",
       "      <th>4</th>\n",
       "      <td>HARRIS COUNTY ITC</td>\n",
       "      <td>HARRIS COUNTY</td>\n",
       "      <td>same</td>\n",
       "      <td>one word missing</td>\n",
       "      <td>same</td>\n",
       "      <td>NaN</td>\n",
       "      <td>NaN</td>\n",
       "    </tr>\n",
       "    <tr>\n",
       "      <th>...</th>\n",
       "      <td>...</td>\n",
       "      <td>...</td>\n",
       "      <td>...</td>\n",
       "      <td>...</td>\n",
       "      <td>...</td>\n",
       "      <td>...</td>\n",
       "      <td>...</td>\n",
       "    </tr>\n",
       "    <tr>\n",
       "      <th>423</th>\n",
       "      <td>MITSUI BUSSAN CHEMICALS</td>\n",
       "      <td>MITSUI BUSSAN METALS</td>\n",
       "      <td>different</td>\n",
       "      <td>NaN</td>\n",
       "      <td>NaN</td>\n",
       "      <td>NaN</td>\n",
       "      <td>NaN</td>\n",
       "    </tr>\n",
       "    <tr>\n",
       "      <th>424</th>\n",
       "      <td>SUMITOMO MITSUI DS ASSET MANAGEMENT (HK)</td>\n",
       "      <td>SUMITOMO MITSUI DS ASSET MANAGEMENT</td>\n",
       "      <td>same</td>\n",
       "      <td>one word missing</td>\n",
       "      <td>NaN</td>\n",
       "      <td>NaN</td>\n",
       "      <td>NaN</td>\n",
       "    </tr>\n",
       "    <tr>\n",
       "      <th>425</th>\n",
       "      <td>MITSUI SUMITOMO INSURANCE (CHINA)</td>\n",
       "      <td>MITSUI SUMITOMO INSURANCE (THAILAND BRANCH)</td>\n",
       "      <td>different</td>\n",
       "      <td>belongs to diffferent region</td>\n",
       "      <td>NaN</td>\n",
       "      <td>NaN</td>\n",
       "      <td>NaN</td>\n",
       "    </tr>\n",
       "    <tr>\n",
       "      <th>426</th>\n",
       "      <td>MITSUI SUMITOMO INSURANCE</td>\n",
       "      <td>MITSUI SUMITOMO INSURANCE (CHINA)</td>\n",
       "      <td>different</td>\n",
       "      <td>belongs to diffferent region</td>\n",
       "      <td>NaN</td>\n",
       "      <td>NaN</td>\n",
       "      <td>NaN</td>\n",
       "    </tr>\n",
       "    <tr>\n",
       "      <th>427</th>\n",
       "      <td>MITSUI SEAFOODS</td>\n",
       "      <td>MITSUISOKO (U )</td>\n",
       "      <td>different</td>\n",
       "      <td>NaN</td>\n",
       "      <td>NaN</td>\n",
       "      <td>NaN</td>\n",
       "      <td>NaN</td>\n",
       "    </tr>\n",
       "  </tbody>\n",
       "</table>\n",
       "<p>428 rows × 7 columns</p>\n",
       "</div>"
      ],
      "text/plain": [
       "                                 Company Name  \\\n",
       "0                          HARRIS COUNTY CSCD   \n",
       "1                          HARRIS COUNTY CSCD   \n",
       "2          RICHLAND COUNTY EMERGENCY SERVICES   \n",
       "3                  CS RECURSOS GEOTERMICO ICE   \n",
       "4                           HARRIS COUNTY ITC   \n",
       "..                                        ...   \n",
       "423                   MITSUI BUSSAN CHEMICALS   \n",
       "424  SUMITOMO MITSUI DS ASSET MANAGEMENT (HK)   \n",
       "425         MITSUI SUMITOMO INSURANCE (CHINA)   \n",
       "426                 MITSUI SUMITOMO INSURANCE   \n",
       "427                           MITSUI SEAFOODS   \n",
       "\n",
       "                                    Similar Name Same/Different  \\\n",
       "0                                  HARRIS COUNTY           same   \n",
       "1                              HARRIS COUNTY ITC           same   \n",
       "2               LANDER COUNTY EMERGENCY SERVICES      different   \n",
       "3                    CS RECURSOS GEOTAARMICO ICE           same   \n",
       "4                                 HARRIS COUNTY            same   \n",
       "..                                           ...            ...   \n",
       "423                         MITSUI BUSSAN METALS      different   \n",
       "424          SUMITOMO MITSUI DS ASSET MANAGEMENT           same   \n",
       "425  MITSUI SUMITOMO INSURANCE (THAILAND BRANCH)      different   \n",
       "426            MITSUI SUMITOMO INSURANCE (CHINA)      different   \n",
       "427                              MITSUISOKO (U )      different   \n",
       "\n",
       "                         Category Country same or not Parent same or not  \\\n",
       "0                one word missing                same                NaN   \n",
       "1             last word different                same                NaN   \n",
       "2            first word different                same                NaN   \n",
       "3                         mispell                same                NaN   \n",
       "4                one word missing                same                NaN   \n",
       "..                            ...                 ...                ...   \n",
       "423                           NaN                 NaN                NaN   \n",
       "424              one word missing                 NaN                NaN   \n",
       "425  belongs to diffferent region                 NaN                NaN   \n",
       "426  belongs to diffferent region                 NaN                NaN   \n",
       "427                           NaN                 NaN                NaN   \n",
       "\n",
       "    Unnamed: 6  \n",
       "0          NaN  \n",
       "1          NaN  \n",
       "2          NaN  \n",
       "3          NaN  \n",
       "4          NaN  \n",
       "..         ...  \n",
       "423        NaN  \n",
       "424        NaN  \n",
       "425        NaN  \n",
       "426        NaN  \n",
       "427        NaN  \n",
       "\n",
       "[428 rows x 7 columns]"
      ]
     },
     "execution_count": 18,
     "metadata": {},
     "output_type": "execute_result"
    }
   ],
   "source": [
    "df = pd.read_csv('../input/Dataset for training.csv')\n",
    "df"
   ]
  },
  {
   "cell_type": "code",
   "execution_count": 19,
   "metadata": {},
   "outputs": [
    {
     "data": {
      "text/plain": [
       "Index(['Company Name', 'Similar Name', 'Same/Different', 'Category',\n",
       "       'Country same or not', 'Parent same or not', 'Unnamed: 6'],\n",
       "      dtype='object')"
      ]
     },
     "execution_count": 19,
     "metadata": {},
     "output_type": "execute_result"
    }
   ],
   "source": [
    "df.columns"
   ]
  },
  {
   "cell_type": "code",
   "execution_count": 20,
   "metadata": {},
   "outputs": [],
   "source": [
    "from thefuzz import fuzz"
   ]
  },
  {
   "cell_type": "code",
   "execution_count": 21,
   "metadata": {},
   "outputs": [],
   "source": [
    "#Function to calculate simple ratio\n",
    "def calculate_ratio(row):\n",
    "    return fuzz.ratio(row['Company Name'], row['Similar Name'])\n",
    "\n",
    "#Function to calculate partial ratio\n",
    "def calculate_partial_ratio(row):\n",
    "    return fuzz.partial_ratio(row['Company Name'], row['Similar Name'])\n",
    "\n",
    "\n",
    "# Function to calculate token sort ratio\n",
    "def calculate_token_sort_ratio(row):\n",
    "    return fuzz.token_sort_ratio(row['Company Name'], row['Similar Name'])\n",
    "\n",
    "# Function to calculate token set ratio\n",
    "def calculate_token_set_ratio(row):\n",
    "    return fuzz.token_set_ratio(row['Company Name'], row['Similar Name'])"
   ]
  },
  {
   "cell_type": "code",
   "execution_count": 22,
   "metadata": {},
   "outputs": [],
   "source": [
    "# Add new columns for simple ratio, partial ratio, token sort ratio and token set ratio\n",
    "df['Simple Ratio'] = df.apply(calculate_ratio, axis=1)\n",
    "df['partial Ratio'] = df.apply(calculate_partial_ratio, axis=1)\n",
    "df['Token Sort Ratio'] = df.apply(calculate_token_sort_ratio, axis=1)\n",
    "df['Token Set Ratio'] = df.apply(calculate_token_set_ratio, axis=1)"
   ]
  },
  {
   "cell_type": "code",
   "execution_count": 23,
   "metadata": {},
   "outputs": [
    {
     "name": "stdout",
     "output_type": "stream",
     "text": [
      "                                 Company Name  \\\n",
      "0                          HARRIS COUNTY CSCD   \n",
      "1                          HARRIS COUNTY CSCD   \n",
      "2          RICHLAND COUNTY EMERGENCY SERVICES   \n",
      "3                  CS RECURSOS GEOTERMICO ICE   \n",
      "4                           HARRIS COUNTY ITC   \n",
      "..                                        ...   \n",
      "423                   MITSUI BUSSAN CHEMICALS   \n",
      "424  SUMITOMO MITSUI DS ASSET MANAGEMENT (HK)   \n",
      "425         MITSUI SUMITOMO INSURANCE (CHINA)   \n",
      "426                 MITSUI SUMITOMO INSURANCE   \n",
      "427                           MITSUI SEAFOODS   \n",
      "\n",
      "                                    Similar Name Same/Different  \\\n",
      "0                                  HARRIS COUNTY           same   \n",
      "1                              HARRIS COUNTY ITC           same   \n",
      "2               LANDER COUNTY EMERGENCY SERVICES      different   \n",
      "3                    CS RECURSOS GEOTAARMICO ICE           same   \n",
      "4                                 HARRIS COUNTY            same   \n",
      "..                                           ...            ...   \n",
      "423                         MITSUI BUSSAN METALS      different   \n",
      "424          SUMITOMO MITSUI DS ASSET MANAGEMENT           same   \n",
      "425  MITSUI SUMITOMO INSURANCE (THAILAND BRANCH)      different   \n",
      "426            MITSUI SUMITOMO INSURANCE (CHINA)      different   \n",
      "427                              MITSUISOKO (U )      different   \n",
      "\n",
      "                         Category Country same or not Parent same or not  \\\n",
      "0                one word missing                same                NaN   \n",
      "1             last word different                same                NaN   \n",
      "2            first word different                same                NaN   \n",
      "3                         mispell                same                NaN   \n",
      "4                one word missing                same                NaN   \n",
      "..                            ...                 ...                ...   \n",
      "423                           NaN                 NaN                NaN   \n",
      "424              one word missing                 NaN                NaN   \n",
      "425  belongs to diffferent region                 NaN                NaN   \n",
      "426  belongs to diffferent region                 NaN                NaN   \n",
      "427                           NaN                 NaN                NaN   \n",
      "\n",
      "    Unnamed: 6  Simple Ratio  partial Ratio  Token Sort Ratio  Token Set Ratio  \n",
      "0          NaN            84            100                84              100  \n",
      "1          NaN            86             94                74               87  \n",
      "2          NaN            91             97                91               91  \n",
      "3          NaN            94             92                94               94  \n",
      "4          NaN            90            100                87              100  \n",
      "..         ...           ...            ...               ...              ...  \n",
      "423        NaN            84             82                84               84  \n",
      "424        NaN            93            100                96              100  \n",
      "425        NaN            84             92                78               89  \n",
      "426        NaN            86            100                89              100  \n",
      "427        NaN            60             72                67               67  \n",
      "\n",
      "[428 rows x 11 columns]\n"
     ]
    }
   ],
   "source": [
    "print(df)"
   ]
  },
  {
   "cell_type": "code",
   "execution_count": 24,
   "metadata": {},
   "outputs": [],
   "source": [
    "# output training_dataset with all fields considered \n",
    "# ('Company Name', 'Similar Name', 'Same/Different', 'Category','Country same or not', 'Parent same or not','Unnamed: 6','Simple Ratio', 'partial Ratio', 'Token Sort Ratio', 'Token Set Ratio')\n",
    "df.to_csv('../output/training_dataset.csv', index=False)"
   ]
  },
  {
   "cell_type": "code",
   "execution_count": 25,
   "metadata": {},
   "outputs": [
    {
     "data": {
      "text/plain": [
       "Index(['Company Name', 'Similar Name', 'Same/Different', 'Category',\n",
       "       'Country same or not', 'Parent same or not', 'Unnamed: 6',\n",
       "       'Simple Ratio', 'partial Ratio', 'Token Sort Ratio', 'Token Set Ratio'],\n",
       "      dtype='object')"
      ]
     },
     "execution_count": 25,
     "metadata": {},
     "output_type": "execute_result"
    }
   ],
   "source": [
    "df.columns"
   ]
  },
  {
   "cell_type": "code",
   "execution_count": 26,
   "metadata": {},
   "outputs": [],
   "source": [
    "# Drop the specified columns\n",
    "columns_to_drop = ['Category', 'Country same or not', 'Parent same or not','Unnamed: 6']\n",
    "df.drop(columns_to_drop, axis=1, inplace=True)"
   ]
  },
  {
   "cell_type": "code",
   "execution_count": 27,
   "metadata": {},
   "outputs": [
    {
     "data": {
      "text/plain": [
       "0      1\n",
       "1      1\n",
       "2      0\n",
       "3      1\n",
       "4      1\n",
       "      ..\n",
       "423    0\n",
       "424    1\n",
       "425    0\n",
       "426    0\n",
       "427    0\n",
       "Name: Same/Different, Length: 428, dtype: int64"
      ]
     },
     "execution_count": 27,
     "metadata": {},
     "output_type": "execute_result"
    }
   ],
   "source": [
    "# Replace 'same' with 1 and 'different' with 0\n",
    "df.replace({'same': 1, 'different': 0}, inplace=True)\n",
    "df['Same/Different']"
   ]
  },
  {
   "cell_type": "code",
   "execution_count": 28,
   "metadata": {},
   "outputs": [],
   "source": [
    "# Rename the 'Same/Different' column to 'Target'\n",
    "df.rename(columns={'Same/Different': 'Target'}, inplace=True)"
   ]
  },
  {
   "cell_type": "code",
   "execution_count": 29,
   "metadata": {},
   "outputs": [],
   "source": [
    "# output training_dataset with only required fields like \n",
    "# ('Company Name', 'Similar Name', 'Same/Different','Simple Ratio', 'partial Ratio', 'Token Sort Ratio', 'Token Set Ratio')\n",
    "df.to_csv('../output/temp_training_dataset.csv', index=False)"
   ]
  },
  {
   "cell_type": "code",
   "execution_count": null,
   "metadata": {},
   "outputs": [],
   "source": []
  },
  {
   "cell_type": "code",
   "execution_count": null,
   "metadata": {},
   "outputs": [],
   "source": []
  }
 ],
 "metadata": {
  "kernelspec": {
   "display_name": "Python 3",
   "language": "python",
   "name": "python3"
  },
  "language_info": {
   "codemirror_mode": {
    "name": "ipython",
    "version": 3
   },
   "file_extension": ".py",
   "mimetype": "text/x-python",
   "name": "python",
   "nbconvert_exporter": "python",
   "pygments_lexer": "ipython3",
   "version": "3.11.3"
  }
 },
 "nbformat": 4,
 "nbformat_minor": 2
}
