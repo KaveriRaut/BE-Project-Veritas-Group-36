{
 "cells": [
  {
   "cell_type": "code",
   "execution_count": 1,
   "metadata": {},
   "outputs": [],
   "source": [
    "import numpy as np\n",
    "import warnings\n",
    "warnings.filterwarnings('ignore')\n",
    "import pandas as pd"
   ]
  },
  {
   "cell_type": "code",
   "execution_count": 2,
   "metadata": {},
   "outputs": [
    {
     "data": {
      "text/html": [
       "<div>\n",
       "<style scoped>\n",
       "    .dataframe tbody tr th:only-of-type {\n",
       "        vertical-align: middle;\n",
       "    }\n",
       "\n",
       "    .dataframe tbody tr th {\n",
       "        vertical-align: top;\n",
       "    }\n",
       "\n",
       "    .dataframe thead th {\n",
       "        text-align: right;\n",
       "    }\n",
       "</style>\n",
       "<table border=\"1\" class=\"dataframe\">\n",
       "  <thead>\n",
       "    <tr style=\"text-align: right;\">\n",
       "      <th></th>\n",
       "      <th>Company Name</th>\n",
       "      <th>Similar Name</th>\n",
       "      <th>Target</th>\n",
       "      <th>Simple Ratio</th>\n",
       "      <th>partial Ratio</th>\n",
       "      <th>Token Sort Ratio</th>\n",
       "      <th>Token Set Ratio</th>\n",
       "    </tr>\n",
       "  </thead>\n",
       "  <tbody>\n",
       "    <tr>\n",
       "      <th>0</th>\n",
       "      <td>HARRIS COUNTY CSCD</td>\n",
       "      <td>HARRIS COUNTY</td>\n",
       "      <td>1</td>\n",
       "      <td>84</td>\n",
       "      <td>100</td>\n",
       "      <td>84</td>\n",
       "      <td>100</td>\n",
       "    </tr>\n",
       "    <tr>\n",
       "      <th>1</th>\n",
       "      <td>HARRIS COUNTY CSCD</td>\n",
       "      <td>HARRIS COUNTY ITC</td>\n",
       "      <td>1</td>\n",
       "      <td>86</td>\n",
       "      <td>94</td>\n",
       "      <td>74</td>\n",
       "      <td>87</td>\n",
       "    </tr>\n",
       "    <tr>\n",
       "      <th>2</th>\n",
       "      <td>RICHLAND COUNTY EMERGENCY SERVICES</td>\n",
       "      <td>LANDER COUNTY EMERGENCY SERVICES</td>\n",
       "      <td>0</td>\n",
       "      <td>91</td>\n",
       "      <td>97</td>\n",
       "      <td>91</td>\n",
       "      <td>91</td>\n",
       "    </tr>\n",
       "    <tr>\n",
       "      <th>3</th>\n",
       "      <td>CS RECURSOS GEOTERMICO ICE</td>\n",
       "      <td>CS RECURSOS GEOTAARMICO ICE</td>\n",
       "      <td>1</td>\n",
       "      <td>94</td>\n",
       "      <td>92</td>\n",
       "      <td>94</td>\n",
       "      <td>94</td>\n",
       "    </tr>\n",
       "    <tr>\n",
       "      <th>4</th>\n",
       "      <td>HARRIS COUNTY ITC</td>\n",
       "      <td>HARRIS COUNTY</td>\n",
       "      <td>1</td>\n",
       "      <td>90</td>\n",
       "      <td>100</td>\n",
       "      <td>87</td>\n",
       "      <td>100</td>\n",
       "    </tr>\n",
       "    <tr>\n",
       "      <th>...</th>\n",
       "      <td>...</td>\n",
       "      <td>...</td>\n",
       "      <td>...</td>\n",
       "      <td>...</td>\n",
       "      <td>...</td>\n",
       "      <td>...</td>\n",
       "      <td>...</td>\n",
       "    </tr>\n",
       "    <tr>\n",
       "      <th>423</th>\n",
       "      <td>MITSUI BUSSAN CHEMICALS</td>\n",
       "      <td>MITSUI BUSSAN METALS</td>\n",
       "      <td>0</td>\n",
       "      <td>84</td>\n",
       "      <td>82</td>\n",
       "      <td>84</td>\n",
       "      <td>84</td>\n",
       "    </tr>\n",
       "    <tr>\n",
       "      <th>424</th>\n",
       "      <td>SUMITOMO MITSUI DS ASSET MANAGEMENT (HK)</td>\n",
       "      <td>SUMITOMO MITSUI DS ASSET MANAGEMENT</td>\n",
       "      <td>1</td>\n",
       "      <td>93</td>\n",
       "      <td>100</td>\n",
       "      <td>96</td>\n",
       "      <td>100</td>\n",
       "    </tr>\n",
       "    <tr>\n",
       "      <th>425</th>\n",
       "      <td>MITSUI SUMITOMO INSURANCE (CHINA)</td>\n",
       "      <td>MITSUI SUMITOMO INSURANCE (THAILAND BRANCH)</td>\n",
       "      <td>0</td>\n",
       "      <td>84</td>\n",
       "      <td>92</td>\n",
       "      <td>78</td>\n",
       "      <td>89</td>\n",
       "    </tr>\n",
       "    <tr>\n",
       "      <th>426</th>\n",
       "      <td>MITSUI SUMITOMO INSURANCE</td>\n",
       "      <td>MITSUI SUMITOMO INSURANCE (CHINA)</td>\n",
       "      <td>0</td>\n",
       "      <td>86</td>\n",
       "      <td>100</td>\n",
       "      <td>89</td>\n",
       "      <td>100</td>\n",
       "    </tr>\n",
       "    <tr>\n",
       "      <th>427</th>\n",
       "      <td>MITSUI SEAFOODS</td>\n",
       "      <td>MITSUISOKO (U )</td>\n",
       "      <td>0</td>\n",
       "      <td>60</td>\n",
       "      <td>72</td>\n",
       "      <td>67</td>\n",
       "      <td>67</td>\n",
       "    </tr>\n",
       "  </tbody>\n",
       "</table>\n",
       "<p>428 rows × 7 columns</p>\n",
       "</div>"
      ],
      "text/plain": [
       "                                 Company Name  \\\n",
       "0                          HARRIS COUNTY CSCD   \n",
       "1                          HARRIS COUNTY CSCD   \n",
       "2          RICHLAND COUNTY EMERGENCY SERVICES   \n",
       "3                  CS RECURSOS GEOTERMICO ICE   \n",
       "4                           HARRIS COUNTY ITC   \n",
       "..                                        ...   \n",
       "423                   MITSUI BUSSAN CHEMICALS   \n",
       "424  SUMITOMO MITSUI DS ASSET MANAGEMENT (HK)   \n",
       "425         MITSUI SUMITOMO INSURANCE (CHINA)   \n",
       "426                 MITSUI SUMITOMO INSURANCE   \n",
       "427                           MITSUI SEAFOODS   \n",
       "\n",
       "                                    Similar Name  Target  Simple Ratio  \\\n",
       "0                                  HARRIS COUNTY       1            84   \n",
       "1                              HARRIS COUNTY ITC       1            86   \n",
       "2               LANDER COUNTY EMERGENCY SERVICES       0            91   \n",
       "3                    CS RECURSOS GEOTAARMICO ICE       1            94   \n",
       "4                                 HARRIS COUNTY        1            90   \n",
       "..                                           ...     ...           ...   \n",
       "423                         MITSUI BUSSAN METALS       0            84   \n",
       "424          SUMITOMO MITSUI DS ASSET MANAGEMENT       1            93   \n",
       "425  MITSUI SUMITOMO INSURANCE (THAILAND BRANCH)       0            84   \n",
       "426            MITSUI SUMITOMO INSURANCE (CHINA)       0            86   \n",
       "427                              MITSUISOKO (U )       0            60   \n",
       "\n",
       "     partial Ratio  Token Sort Ratio  Token Set Ratio  \n",
       "0              100                84              100  \n",
       "1               94                74               87  \n",
       "2               97                91               91  \n",
       "3               92                94               94  \n",
       "4              100                87              100  \n",
       "..             ...               ...              ...  \n",
       "423             82                84               84  \n",
       "424            100                96              100  \n",
       "425             92                78               89  \n",
       "426            100                89              100  \n",
       "427             72                67               67  \n",
       "\n",
       "[428 rows x 7 columns]"
      ]
     },
     "execution_count": 2,
     "metadata": {},
     "output_type": "execute_result"
    }
   ],
   "source": [
    "# training svm model on 'temp_training_dataset' csv file\n",
    "df = pd.read_csv('../output/temp_training_dataset.csv')\n",
    "df"
   ]
  },
  {
   "cell_type": "code",
   "execution_count": 3,
   "metadata": {},
   "outputs": [
    {
     "name": "stdout",
     "output_type": "stream",
     "text": [
      "(428, 7)\n"
     ]
    }
   ],
   "source": [
    "# confirming the dimensions of the dataset\n",
    "print(df.shape)"
   ]
  },
  {
   "cell_type": "code",
   "execution_count": 4,
   "metadata": {},
   "outputs": [
    {
     "name": "stdout",
     "output_type": "stream",
     "text": [
      "Company Name        object\n",
      "Similar Name        object\n",
      "Target               int64\n",
      "Simple Ratio         int64\n",
      "partial Ratio        int64\n",
      "Token Sort Ratio     int64\n",
      "Token Set Ratio      int64\n",
      "dtype: object\n"
     ]
    }
   ],
   "source": [
    "# Let’s also look at the data types of each attribute\n",
    "print(df.dtypes)"
   ]
  },
  {
   "cell_type": "code",
   "execution_count": 5,
   "metadata": {},
   "outputs": [
    {
     "data": {
      "text/html": [
       "<div>\n",
       "<style scoped>\n",
       "    .dataframe tbody tr th:only-of-type {\n",
       "        vertical-align: middle;\n",
       "    }\n",
       "\n",
       "    .dataframe tbody tr th {\n",
       "        vertical-align: top;\n",
       "    }\n",
       "\n",
       "    .dataframe thead th {\n",
       "        text-align: right;\n",
       "    }\n",
       "</style>\n",
       "<table border=\"1\" class=\"dataframe\">\n",
       "  <thead>\n",
       "    <tr style=\"text-align: right;\">\n",
       "      <th></th>\n",
       "      <th>Target</th>\n",
       "      <th>Simple Ratio</th>\n",
       "      <th>partial Ratio</th>\n",
       "      <th>Token Sort Ratio</th>\n",
       "      <th>Token Set Ratio</th>\n",
       "    </tr>\n",
       "  </thead>\n",
       "  <tbody>\n",
       "    <tr>\n",
       "      <th>count</th>\n",
       "      <td>428.000000</td>\n",
       "      <td>428.000000</td>\n",
       "      <td>428.000000</td>\n",
       "      <td>428.000000</td>\n",
       "      <td>428.000000</td>\n",
       "    </tr>\n",
       "    <tr>\n",
       "      <th>mean</th>\n",
       "      <td>0.450935</td>\n",
       "      <td>78.908879</td>\n",
       "      <td>91.556075</td>\n",
       "      <td>77.640187</td>\n",
       "      <td>90.502336</td>\n",
       "    </tr>\n",
       "    <tr>\n",
       "      <th>std</th>\n",
       "      <td>0.498169</td>\n",
       "      <td>20.338669</td>\n",
       "      <td>11.595612</td>\n",
       "      <td>20.618117</td>\n",
       "      <td>14.476582</td>\n",
       "    </tr>\n",
       "    <tr>\n",
       "      <th>min</th>\n",
       "      <td>0.000000</td>\n",
       "      <td>11.000000</td>\n",
       "      <td>46.000000</td>\n",
       "      <td>11.000000</td>\n",
       "      <td>29.000000</td>\n",
       "    </tr>\n",
       "    <tr>\n",
       "      <th>25%</th>\n",
       "      <td>0.000000</td>\n",
       "      <td>67.000000</td>\n",
       "      <td>86.000000</td>\n",
       "      <td>67.000000</td>\n",
       "      <td>86.000000</td>\n",
       "    </tr>\n",
       "    <tr>\n",
       "      <th>50%</th>\n",
       "      <td>0.000000</td>\n",
       "      <td>84.000000</td>\n",
       "      <td>97.000000</td>\n",
       "      <td>81.000000</td>\n",
       "      <td>100.000000</td>\n",
       "    </tr>\n",
       "    <tr>\n",
       "      <th>75%</th>\n",
       "      <td>1.000000</td>\n",
       "      <td>97.000000</td>\n",
       "      <td>100.000000</td>\n",
       "      <td>97.000000</td>\n",
       "      <td>100.000000</td>\n",
       "    </tr>\n",
       "    <tr>\n",
       "      <th>max</th>\n",
       "      <td>1.000000</td>\n",
       "      <td>100.000000</td>\n",
       "      <td>100.000000</td>\n",
       "      <td>100.000000</td>\n",
       "      <td>100.000000</td>\n",
       "    </tr>\n",
       "  </tbody>\n",
       "</table>\n",
       "</div>"
      ],
      "text/plain": [
       "           Target  Simple Ratio  partial Ratio  Token Sort Ratio  \\\n",
       "count  428.000000    428.000000     428.000000        428.000000   \n",
       "mean     0.450935     78.908879      91.556075         77.640187   \n",
       "std      0.498169     20.338669      11.595612         20.618117   \n",
       "min      0.000000     11.000000      46.000000         11.000000   \n",
       "25%      0.000000     67.000000      86.000000         67.000000   \n",
       "50%      0.000000     84.000000      97.000000         81.000000   \n",
       "75%      1.000000     97.000000     100.000000         97.000000   \n",
       "max      1.000000    100.000000     100.000000        100.000000   \n",
       "\n",
       "       Token Set Ratio  \n",
       "count       428.000000  \n",
       "mean         90.502336  \n",
       "std          14.476582  \n",
       "min          29.000000  \n",
       "25%          86.000000  \n",
       "50%         100.000000  \n",
       "75%         100.000000  \n",
       "max         100.000000  "
      ]
     },
     "execution_count": 5,
     "metadata": {},
     "output_type": "execute_result"
    }
   ],
   "source": [
    "df.describe()"
   ]
  },
  {
   "cell_type": "code",
   "execution_count": 6,
   "metadata": {},
   "outputs": [
    {
     "name": "stdout",
     "output_type": "stream",
     "text": [
      "Target\n",
      "0    235\n",
      "1    193\n",
      "dtype: int64\n"
     ]
    }
   ],
   "source": [
    "# class distribution : same:1 , different:0\n",
    "print(df.groupby('Target').size())\n",
    "# means we must have same no. of records count in both categories (more balanced model created)\n",
    "# diff. between same / diff record count must be minimum"
   ]
  },
  {
   "cell_type": "code",
   "execution_count": 7,
   "metadata": {},
   "outputs": [
    {
     "data": {
      "image/png": "[encoded data removed]",
      "text/plain": [
       "<Figure size 1200x1000 with 4 Axes>"
      ]
     },
     "metadata": {},
     "output_type": "display_data"
    }
   ],
   "source": [
    "# visualizations of individual attributes\n",
    "import matplotlib.pyplot as plt\n",
    "\n",
    "# Assuming 'Simple Ratio', 'Partial Ratio', 'Token Sort Ratio', 'Token Set Ratio' are the columns of interest\n",
    "ratio_columns = ['Simple Ratio', 'partial Ratio', 'Token Sort Ratio', 'Token Set Ratio']\n",
    "\n",
    "# Create separate histogram plots for each ratio column\n",
    "fig, axes = plt.subplots(nrows=2, ncols=2, figsize=(12, 10))\n",
    "axes = axes.flatten()\n",
    "\n",
    "for i, column in enumerate(ratio_columns):\n",
    "    axes[i].hist(df[column], bins=20, alpha=0.7)\n",
    "    axes[i].set_title(f'Histogram of {column}')\n",
    "    axes[i].set_xlabel('Value')\n",
    "    axes[i].set_ylabel('Frequency')\n",
    "    axes[i].grid(True)\n",
    "\n",
    "# Adjust layout and display the plots\n",
    "plt.tight_layout()\n",
    "plt.show()"
   ]
  },
  {
   "cell_type": "markdown",
   "metadata": {},
   "source": [
    "#### Observation: Most of records in dataset having values of these ratios ('Simple Ratio', 'partial Ratio', 'Token Sort Ratio', 'Token Set Ratio') as more than 70 till 90....hence it is challenging to recognize those records are matched or No-matched, as 100 value shows exact match but need mpore accuracy for prediction for values lie between 70 to 90."
   ]
  },
  {
   "cell_type": "code",
   "execution_count": 8,
   "metadata": {},
   "outputs": [],
   "source": [
    "# # Plot of Correlations Between Attributes from the Dataset.\n",
    "# import seaborn as sns\n",
    "# import matplotlib.pyplot as plt\n",
    "\n",
    "# # Assuming 'Simple Ratio', 'Partial Ratio', 'Token Sort Ratio', 'Token Set Ratio' are the columns of interest\n",
    "# ratio_columns = ['Simple Ratio', 'partial Ratio', 'Token Sort Ratio', 'Token Set Ratio','Target']\n",
    "\n",
    "# # Create a DataFrame with only the ratio columns\n",
    "# ratio_df = df[ratio_columns]\n",
    "\n",
    "# # Calculate the correlation matrix\n",
    "# correlation_matrix = ratio_df.corr()\n",
    "\n",
    "# # Plotting the correlation matrix using a heatmap\n",
    "# plt.figure(figsize=(8, 6))\n",
    "# sns.heatmap(correlation_matrix, annot=True, cmap='coolwarm', fmt='.2f', square=True)\n",
    "# plt.title('Correlation Matrix of Attributes')\n",
    "# plt.show()"
   ]
  },
  {
   "cell_type": "markdown",
   "metadata": {},
   "source": [
    "### Validation of Dataset: \n",
    "#### good idea to use a validation hold-out set. This is a sample of the data that we hold back from our analysis and modeling. We will use 80% of the dataset for modeling and hold back 20% for validation."
   ]
  },
  {
   "cell_type": "code",
   "execution_count": 9,
   "metadata": {},
   "outputs": [
    {
     "data": {
      "text/plain": [
       "Index(['Company Name', 'Similar Name', 'Target', 'Simple Ratio',\n",
       "       'partial Ratio', 'Token Sort Ratio', 'Token Set Ratio'],\n",
       "      dtype='object')"
      ]
     },
     "execution_count": 9,
     "metadata": {},
     "output_type": "execute_result"
    }
   ],
   "source": [
    "df.columns"
   ]
  },
  {
   "cell_type": "code",
   "execution_count": 10,
   "metadata": {},
   "outputs": [],
   "source": [
    "# Apply label encoding to 'Company Name' and 'Similar Name' columns\n",
    "# from sklearn.preprocessing import LabelEncoder\n",
    "\n",
    "# label_encoder = LabelEncoder()\n",
    "# df['Company Name'] = label_encoder.fit_transform(df['Company Name'])\n",
    "# df['Similar Name'] = label_encoder.fit_transform(df['Similar Name'])"
   ]
  },
  {
   "cell_type": "markdown",
   "metadata": {},
   "source": [
    "#### Label encoding of attributes like 'Company Name', 'Similar Name' is not required as they are not unique and limited so cant encode them."
   ]
  },
  {
   "cell_type": "code",
   "execution_count": 11,
   "metadata": {},
   "outputs": [],
   "source": [
    "# for training model, we need to split the dataframe and also its features\n",
    "from sklearn.model_selection import train_test_split\n",
    "# Separate features and target variable\n",
    "features = [ 'Simple Ratio', 'partial Ratio', 'Token Sort Ratio', 'Token Set Ratio']\n",
    "xn = df[features] #independent features (input columns)\n",
    "yn = df['Target'] #dependent feature (output column)\n",
    "Xn_train, Xn_test, yn_train, yn_test = train_test_split(xn, yn, test_size=0.2, random_state=42)"
   ]
  },
  {
   "cell_type": "markdown",
   "metadata": {},
   "source": [
    "- The \"kernel\" in SVM defines the type of decision boundary used by the algorithm. (how the hyperplan seperating the classes will be like)\n",
    "- The Linear kernel is particularly useful for capturing linear relationships in the data.\n",
    "- The RBF kernel is particularly useful for capturing nonlinear relationships in the data.\n",
    "- The Poly kernel is particularly useful for capturing polynomial relationships in the data.\n",
    "- Customizing SVM Model with RBF Kernel and Gamma value -> Gamma is a parameter that influences the shape of the decision boundary."
   ]
  },
  {
   "cell_type": "code",
   "execution_count": 12,
   "metadata": {},
   "outputs": [
    {
     "name": "stdout",
     "output_type": "stream",
     "text": [
      "Accuracy: 0.5930232558139535\n",
      "Classification Report:\n",
      "               precision    recall  f1-score   support\n",
      "\n",
      "           0       0.57      0.74      0.65        43\n",
      "           1       0.63      0.44      0.52        43\n",
      "\n",
      "    accuracy                           0.59        86\n",
      "   macro avg       0.60      0.59      0.58        86\n",
      "weighted avg       0.60      0.59      0.58        86\n",
      "\n"
     ]
    }
   ],
   "source": [
    "from sklearn.svm import SVC\n",
    "from sklearn.metrics import accuracy_score, classification_report\n",
    "# Train SVM model  # linear: means try to capture linear relationship and draws linear hyperplane for classification of data\n",
    "svm_model = SVC(kernel='linear')  # You can try different kernels: 'linear', 'rbf', etc.\n",
    "svm_model.fit(Xn_train, yn_train)\n",
    "# Make predictions\n",
    "yn_pred = svm_model.predict(Xn_test)\n",
    "# Evaluate the model\n",
    "accuracy = accuracy_score(yn_test, yn_pred)\n",
    "report = classification_report(yn_test, yn_pred)\n",
    "print(f\"Accuracy: {accuracy}\")\n",
    "print(\"Classification Report:\\n\", report)"
   ]
  },
  {
   "cell_type": "code",
   "execution_count": 13,
   "metadata": {},
   "outputs": [
    {
     "name": "stdout",
     "output_type": "stream",
     "text": [
      "Accuracy (RBF Kernel): 0.627906976744186\n",
      "Classification Report (RBF Kernel):\n",
      "               precision    recall  f1-score   support\n",
      "\n",
      "           0       0.61      0.72      0.66        43\n",
      "           1       0.66      0.53      0.59        43\n",
      "\n",
      "    accuracy                           0.63        86\n",
      "   macro avg       0.63      0.63      0.62        86\n",
      "weighted avg       0.63      0.63      0.62        86\n",
      "\n"
     ]
    }
   ],
   "source": [
    "# 'rbf': flexibility in capturing nonlinear relationships between data\n",
    "svm_model_rbf = SVC(kernel='rbf')\n",
    "svm_model_rbf.fit(Xn_train, yn_train)\n",
    "\n",
    "yn_pred_rbf = svm_model_rbf.predict(Xn_test)\n",
    "\n",
    "accuracy_rbf = accuracy_score(yn_test, yn_pred_rbf)\n",
    "report_rbf = classification_report(yn_test, yn_pred_rbf)\n",
    "print(f\"Accuracy (RBF Kernel): {accuracy_rbf}\")\n",
    "print(\"Classification Report (RBF Kernel):\\n\", report_rbf)"
   ]
  },
  {
   "cell_type": "code",
   "execution_count": 14,
   "metadata": {},
   "outputs": [
    {
     "name": "stdout",
     "output_type": "stream",
     "text": [
      "Accuracy (Poly Kernel): 0.6162790697674418\n",
      "Classification Report (Poly Kernel):\n",
      "               precision    recall  f1-score   support\n",
      "\n",
      "           0       0.60      0.70      0.65        43\n",
      "           1       0.64      0.53      0.58        43\n",
      "\n",
      "    accuracy                           0.62        86\n",
      "   macro avg       0.62      0.62      0.61        86\n",
      "weighted avg       0.62      0.62      0.61        86\n",
      "\n"
     ]
    }
   ],
   "source": [
    "# Another nonlinear kernel option is the polynomial kernel. It captures polynomial relationships between features\n",
    "svm_model_poly = SVC(kernel='poly')\n",
    "svm_model_poly.fit(Xn_train, yn_train)\n",
    "\n",
    "yn_pred_poly = svm_model_poly.predict(Xn_test)\n",
    "\n",
    "accuracy_poly = accuracy_score(yn_test, yn_pred_poly)\n",
    "report_poly = classification_report(yn_test, yn_pred_poly)\n",
    "print(f\"Accuracy (Poly Kernel): {accuracy_poly}\")\n",
    "print(\"Classification Report (Poly Kernel):\\n\", report_poly)"
   ]
  },
  {
   "cell_type": "code",
   "execution_count": 15,
   "metadata": {},
   "outputs": [
    {
     "name": "stdout",
     "output_type": "stream",
     "text": [
      "Accuracy (RBF Kernel - Customized Gamma): 0.6627906976744186\n",
      "Classification Report (RBF Kernel - Customized Gamma):\n",
      "               precision    recall  f1-score   support\n",
      "\n",
      "           0       0.61      0.91      0.73        43\n",
      "           1       0.82      0.42      0.55        43\n",
      "\n",
      "    accuracy                           0.66        86\n",
      "   macro avg       0.71      0.66      0.64        86\n",
      "weighted avg       0.71      0.66      0.64        86\n",
      "\n"
     ]
    }
   ],
   "source": [
    "# Customizing Kernel Parameters: For both RBF and polynomial kernels, there are additional parameters you can tune, such as gamma for RBF\n",
    "# Example with RBF kernel and customized gamma value = 0.01\n",
    "svm_model_rbf_custom = SVC(kernel='rbf', gamma=0.01)  # Try different gamma values, we got 0.01 as best gamma value\n",
    "svm_model_rbf_custom.fit(Xn_train, yn_train)\n",
    "\n",
    "yn_pred_rbf_custom = svm_model_rbf_custom.predict(Xn_test)\n",
    "\n",
    "accuracy_rbf_custom = accuracy_score(yn_test, yn_pred_rbf_custom)\n",
    "report_rbf_custom = classification_report(yn_test, yn_pred_rbf_custom)\n",
    "print(f\"Accuracy (RBF Kernel - Customized Gamma): {accuracy_rbf_custom}\")\n",
    "print(\"Classification Report (RBF Kernel - Customized Gamma):\\n\", report_rbf_custom)\n"
   ]
  },
  {
   "cell_type": "markdown",
   "metadata": {},
   "source": [
    "##### Understanding Theory : \n",
    "\n",
    "- The \"kernel\" in SVM defines the type of decision boundary used by the algorithm. (how the hyperplan seperating the classes will be like)\n",
    "- The Linear kernel is particularly useful for capturing linear relationships in the data.\n",
    "- The RBF kernel is particularly useful for capturing nonlinear relationships in the data.\n",
    "- The Poly kernel is particularly useful for capturing polynomial relationships in the data.\n",
    "- Customizing SVM Model with RBF Kernel and Gamma value -> Gamma is a parameter that influences the shape of the decision boundary.\n",
    "\n",
    "Trying different kernels in Support Vector Machines (SVMs) involves using various mathematical functions to transform input data into a higher-dimensional space, aiming to find the optimal decision boundary for classification tasks.\n",
    "1. Radial Basis Function (RBF) Kernel:\n",
    "RBF kernel is often effective and commonly used due to its flexibility in capturing nonlinear relationships. Try using it instead of the linear kernel and evaluate its impact on accuracy.\n",
    "2. Polynomial Kernel:\n",
    "Another nonlinear kernel option is the polynomial kernel. It captures polynomial relationships between features. You can try this kernel as well.\n",
    "3. Customizing Kernel Parameters:\n",
    "For both RBF and polynomial kernels, there are additional parameters you can tune, such as gamma for RBF or degree for polynomial kernels. Trying different values for these parameters might further improve accuracy.\n",
    "Decreasing Gamma, Increasing Accuracy: In your case, decreasing the gamma value led to an increase in accuracy. This behavior often signifies that the previous gamma value might have caused the model to overfit the training data, impacting its performance on unseen or test data. Lower gamma values tend to generalize better to unseen data, hence improving accuracy."
   ]
  },
  {
   "cell_type": "markdown",
   "metadata": {},
   "source": [
    "### Try out trained model on New record"
   ]
  },
  {
   "cell_type": "code",
   "execution_count": 16,
   "metadata": {},
   "outputs": [
    {
     "data": {
      "text/html": [
       "<div>\n",
       "<style scoped>\n",
       "    .dataframe tbody tr th:only-of-type {\n",
       "        vertical-align: middle;\n",
       "    }\n",
       "\n",
       "    .dataframe tbody tr th {\n",
       "        vertical-align: top;\n",
       "    }\n",
       "\n",
       "    .dataframe thead th {\n",
       "        text-align: right;\n",
       "    }\n",
       "</style>\n",
       "<table border=\"1\" class=\"dataframe\">\n",
       "  <thead>\n",
       "    <tr style=\"text-align: right;\">\n",
       "      <th></th>\n",
       "      <th>Simple Ratio</th>\n",
       "      <th>partial Ratio</th>\n",
       "      <th>Token Sort Ratio</th>\n",
       "      <th>Token Set Ratio</th>\n",
       "    </tr>\n",
       "  </thead>\n",
       "  <tbody>\n",
       "    <tr>\n",
       "      <th>0</th>\n",
       "      <td>84</td>\n",
       "      <td>100</td>\n",
       "      <td>84</td>\n",
       "      <td>100</td>\n",
       "    </tr>\n",
       "  </tbody>\n",
       "</table>\n",
       "</div>"
      ],
      "text/plain": [
       "   Simple Ratio  partial Ratio  Token Sort Ratio  Token Set Ratio\n",
       "0            84            100                84              100"
      ]
     },
     "execution_count": 16,
     "metadata": {},
     "output_type": "execute_result"
    }
   ],
   "source": [
    "import pandas as pd\n",
    "from fuzzywuzzy import fuzz\n",
    "# give 'Company Name' and 'Similar Name' as input => we will find all the fuzzy ratios => this dataframe of ratios passed to a trained SVM model => get the target ouptut\n",
    "# Sample function to create a single record DataFrame with similarity ratios\n",
    "def create_single_record(company_name, similar_name):\n",
    "    data = {\n",
    "        'Simple Ratio': [fuzz.ratio(company_name, similar_name)],\n",
    "        'partial Ratio': [fuzz.partial_ratio(company_name, similar_name)],\n",
    "        'Token Sort Ratio': [fuzz.token_sort_ratio(company_name, similar_name)],\n",
    "        'Token Set Ratio': [fuzz.token_set_ratio(company_name, similar_name)]\n",
    "    }\n",
    "    single_record_df = pd.DataFrame(data)\n",
    "    return single_record_df\n",
    "\n",
    "# New Record example:\n",
    "single_record = create_single_record('HARRIS COUNTY CSCD', 'HARRIS COUNTY')\n",
    "single_record"
   ]
  },
  {
   "cell_type": "code",
   "execution_count": 17,
   "metadata": {},
   "outputs": [
    {
     "name": "stdout",
     "output_type": "stream",
     "text": [
      "Predicted Target: [1]\n",
      "Predicted Target: Matched\n"
     ]
    }
   ],
   "source": [
    "# Make predictions on the single_record DataFrame directly without encoding\n",
    "predicted_target = svm_model_rbf_custom.predict(single_record)\n",
    "# Print the predicted target\n",
    "print(\"Predicted Target:\", predicted_target)\n",
    "# Convert the predictions to match your specified output format\n",
    "if predicted_target == 0:\n",
    "    print(\"Predicted Target: No Match\")\n",
    "elif predicted_target == 1:\n",
    "    print(\"Predicted Target: Matched\")"
   ]
  },
  {
   "cell_type": "code",
   "execution_count": null,
   "metadata": {},
   "outputs": [],
   "source": []
  }
 ],
 "metadata": {
  "kernelspec": {
   "display_name": "Python 3",
   "language": "python",
   "name": "python3"
  },
  "language_info": {
   "codemirror_mode": {
    "name": "ipython",
    "version": 3
   },
   "file_extension": ".py",
   "mimetype": "text/x-python",
   "name": "python",
   "nbconvert_exporter": "python",
   "pygments_lexer": "ipython3",
   "version": "3.11.3"
  }
 },
 "nbformat": 4,
 "nbformat_minor": 2
}
