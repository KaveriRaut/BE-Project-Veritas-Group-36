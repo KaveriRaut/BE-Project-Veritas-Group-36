{
  "cells": [
    {
      "cell_type": "code",
      "execution_count": 19,
      "metadata": {
        "id": "BIlPC_ZskFuA"
      },
      "outputs": [],
      "source": [
        "import numpy as np\n",
        "import warnings\n",
        "warnings.filterwarnings('ignore')\n",
        "import pandas as pd"
      ]
    },
    {
      "cell_type": "code",
      "execution_count": 20,
      "metadata": {},
      "outputs": [
        {
          "name": "stdout",
          "output_type": "stream",
          "text": [
            "Defaulting to user installation because normal site-packages is not writeable\n",
            "Requirement already satisfied: pandas in c:\\users\\lenovo\\appdata\\roaming\\python\\python311\\site-packages (2.1.3)\n",
            "Requirement already satisfied: numpy<2,>=1.23.2 in c:\\users\\lenovo\\appdata\\roaming\\python\\python311\\site-packages (from pandas) (1.26.2)\n",
            "Requirement already satisfied: python-dateutil>=2.8.2 in c:\\users\\lenovo\\appdata\\roaming\\python\\python311\\site-packages (from pandas) (2.8.2)\n",
            "Requirement already satisfied: pytz>=2020.1 in c:\\users\\lenovo\\appdata\\roaming\\python\\python311\\site-packages (from pandas) (2023.3.post1)\n",
            "Requirement already satisfied: tzdata>=2022.1 in c:\\users\\lenovo\\appdata\\roaming\\python\\python311\\site-packages (from pandas) (2023.3)\n",
            "Requirement already satisfied: six>=1.5 in c:\\users\\lenovo\\appdata\\roaming\\python\\python311\\site-packages (from python-dateutil>=2.8.2->pandas) (1.16.0)\n",
            "Note: you may need to restart the kernel to use updated packages.\n"
          ]
        },
        {
          "name": "stderr",
          "output_type": "stream",
          "text": [
            "\n",
            "[notice] A new release of pip is available: 23.1.2 -> 23.3.1\n",
            "[notice] To update, run: python.exe -m pip install --upgrade pip\n"
          ]
        }
      ],
      "source": [
        "pip install pandas"
      ]
    },
    {
      "cell_type": "code",
      "execution_count": 21,
      "metadata": {},
      "outputs": [
        {
          "name": "stdout",
          "output_type": "stream",
          "text": [
            "Defaulting to user installation because normal site-packages is not writeable\n",
            "Requirement already satisfied: numpy in c:\\users\\lenovo\\appdata\\roaming\\python\\python311\\site-packages (1.26.2)\n",
            "Note: you may need to restart the kernel to use updated packages.\n"
          ]
        },
        {
          "name": "stderr",
          "output_type": "stream",
          "text": [
            "\n",
            "[notice] A new release of pip is available: 23.1.2 -> 23.3.1\n",
            "[notice] To update, run: python.exe -m pip install --upgrade pip\n"
          ]
        }
      ],
      "source": [
        "pip install numpy"
      ]
    },
    {
      "cell_type": "code",
      "execution_count": 22,
      "metadata": {
        "colab": {
          "base_uri": "https://localhost:8080/",
          "height": 545
        },
        "id": "D43UaNR0l4Ez",
        "outputId": "949d54b6-362b-4ee3-84fc-37443683eeb6"
      },
      "outputs": [
        {
          "data": {
            "text/html": [
              "<div>\n",
              "<style scoped>\n",
              "    .dataframe tbody tr th:only-of-type {\n",
              "        vertical-align: middle;\n",
              "    }\n",
              "\n",
              "    .dataframe tbody tr th {\n",
              "        vertical-align: top;\n",
              "    }\n",
              "\n",
              "    .dataframe thead th {\n",
              "        text-align: right;\n",
              "    }\n",
              "</style>\n",
              "<table border=\"1\" class=\"dataframe\">\n",
              "  <thead>\n",
              "    <tr style=\"text-align: right;\">\n",
              "      <th></th>\n",
              "      <th>CDB ID</th>\n",
              "      <th>OSC Account Name</th>\n",
              "      <th>Country Name</th>\n",
              "      <th>FY24 DAAL Account name (or Subsidiary)</th>\n",
              "      <th>FY24 Account Segmentation</th>\n",
              "      <th>DAAL NB</th>\n",
              "      <th>DAAL RB</th>\n",
              "    </tr>\n",
              "  </thead>\n",
              "  <tbody>\n",
              "    <tr>\n",
              "      <th>0</th>\n",
              "      <td>7425027</td>\n",
              "      <td>1976</td>\n",
              "      <td>PE</td>\n",
              "      <td>1976</td>\n",
              "      <td>Longtail</td>\n",
              "      <td>1976</td>\n",
              "      <td>1976</td>\n",
              "    </tr>\n",
              "    <tr>\n",
              "      <th>1</th>\n",
              "      <td>523314</td>\n",
              "      <td>37135</td>\n",
              "      <td>DO</td>\n",
              "      <td>37135</td>\n",
              "      <td>Longtail</td>\n",
              "      <td>37135</td>\n",
              "      <td>37135</td>\n",
              "    </tr>\n",
              "    <tr>\n",
              "      <th>2</th>\n",
              "      <td>1080194</td>\n",
              "      <td>44988</td>\n",
              "      <td>AR</td>\n",
              "      <td>44988</td>\n",
              "      <td>Longtail</td>\n",
              "      <td>44258</td>\n",
              "      <td>44258</td>\n",
              "    </tr>\n",
              "    <tr>\n",
              "      <th>3</th>\n",
              "      <td>7561885</td>\n",
              "      <td>50624412411</td>\n",
              "      <td>CR</td>\n",
              "      <td>50624412411</td>\n",
              "      <td>Longtail</td>\n",
              "      <td>50624412411</td>\n",
              "      <td>50624412411</td>\n",
              "    </tr>\n",
              "    <tr>\n",
              "      <th>4</th>\n",
              "      <td>7434745</td>\n",
              "      <td>ALLIANZ TECHNOLOGY OF AMERICA, INC.</td>\n",
              "      <td>US</td>\n",
              "      <td>ALLIANZ TECHNOLOGY OF AMERICA, INC.</td>\n",
              "      <td>Segment 2</td>\n",
              "      <td>ALLIANZ</td>\n",
              "      <td>ALLIANZ</td>\n",
              "    </tr>\n",
              "    <tr>\n",
              "      <th>...</th>\n",
              "      <td>...</td>\n",
              "      <td>...</td>\n",
              "      <td>...</td>\n",
              "      <td>...</td>\n",
              "      <td>...</td>\n",
              "      <td>...</td>\n",
              "      <td>...</td>\n",
              "    </tr>\n",
              "    <tr>\n",
              "      <th>229648</th>\n",
              "      <td>595924</td>\n",
              "      <td>WYCHAVON DISTRICT COUNCIL</td>\n",
              "      <td>GB</td>\n",
              "      <td>WYCHAVON DISTRICT COUNCIL</td>\n",
              "      <td>Segment 4</td>\n",
              "      <td>UKI COUNCIL</td>\n",
              "      <td>UKI COUNCIL</td>\n",
              "    </tr>\n",
              "    <tr>\n",
              "      <th>229649</th>\n",
              "      <td>1316172</td>\n",
              "      <td>WYCOMBE DISTRICT COUNCIL</td>\n",
              "      <td>GB</td>\n",
              "      <td>WYCOMBE DISTRICT COUNCIL</td>\n",
              "      <td>Segment 4</td>\n",
              "      <td>UKI COUNCIL</td>\n",
              "      <td>UKI COUNCIL</td>\n",
              "    </tr>\n",
              "    <tr>\n",
              "      <th>229650</th>\n",
              "      <td>1473192</td>\n",
              "      <td>WYRE BOROUGH COUNCIL</td>\n",
              "      <td>GB</td>\n",
              "      <td>WYRE BOROUGH COUNCIL</td>\n",
              "      <td>Segment 4</td>\n",
              "      <td>UKI COUNCIL</td>\n",
              "      <td>UKI COUNCIL</td>\n",
              "    </tr>\n",
              "    <tr>\n",
              "      <th>229651</th>\n",
              "      <td>956771</td>\n",
              "      <td>WYRE FOREST DISTRICT COUNCIL</td>\n",
              "      <td>GB</td>\n",
              "      <td>WYRE FOREST DISTRICT COUNCIL</td>\n",
              "      <td>Segment 4</td>\n",
              "      <td>UKI COUNCIL</td>\n",
              "      <td>UKI COUNCIL</td>\n",
              "    </tr>\n",
              "    <tr>\n",
              "      <th>229652</th>\n",
              "      <td>6759351</td>\n",
              "      <td>WYRE FOREST DISTRICT COUNCIL</td>\n",
              "      <td>GB</td>\n",
              "      <td>WYRE FOREST DISTRICT COUNCIL</td>\n",
              "      <td>Segment 4</td>\n",
              "      <td>UKI COUNCIL</td>\n",
              "      <td>UKI COUNCIL</td>\n",
              "    </tr>\n",
              "  </tbody>\n",
              "</table>\n",
              "<p>229653 rows × 7 columns</p>\n",
              "</div>"
            ],
            "text/plain": [
              "         CDB ID                      OSC Account Name Country Name  \\\n",
              "0       7425027                                  1976           PE   \n",
              "1        523314                                 37135           DO   \n",
              "2       1080194                                 44988           AR   \n",
              "3       7561885                           50624412411           CR   \n",
              "4       7434745   ALLIANZ TECHNOLOGY OF AMERICA, INC.           US   \n",
              "...         ...                                   ...          ...   \n",
              "229648   595924             WYCHAVON DISTRICT COUNCIL           GB   \n",
              "229649  1316172              WYCOMBE DISTRICT COUNCIL           GB   \n",
              "229650  1473192                  WYRE BOROUGH COUNCIL           GB   \n",
              "229651   956771          WYRE FOREST DISTRICT COUNCIL           GB   \n",
              "229652  6759351          WYRE FOREST DISTRICT COUNCIL           GB   \n",
              "\n",
              "       FY24 DAAL Account name (or Subsidiary) FY24 Account Segmentation  \\\n",
              "0                                        1976                  Longtail   \n",
              "1                                       37135                  Longtail   \n",
              "2                                       44988                  Longtail   \n",
              "3                                 50624412411                  Longtail   \n",
              "4         ALLIANZ TECHNOLOGY OF AMERICA, INC.                 Segment 2   \n",
              "...                                       ...                       ...   \n",
              "229648              WYCHAVON DISTRICT COUNCIL                 Segment 4   \n",
              "229649               WYCOMBE DISTRICT COUNCIL                 Segment 4   \n",
              "229650                   WYRE BOROUGH COUNCIL                 Segment 4   \n",
              "229651           WYRE FOREST DISTRICT COUNCIL                 Segment 4   \n",
              "229652           WYRE FOREST DISTRICT COUNCIL                 Segment 4   \n",
              "\n",
              "            DAAL NB      DAAL RB  \n",
              "0              1976         1976  \n",
              "1             37135        37135  \n",
              "2             44258        44258  \n",
              "3       50624412411  50624412411  \n",
              "4           ALLIANZ      ALLIANZ  \n",
              "...             ...          ...  \n",
              "229648  UKI COUNCIL  UKI COUNCIL  \n",
              "229649  UKI COUNCIL  UKI COUNCIL  \n",
              "229650  UKI COUNCIL  UKI COUNCIL  \n",
              "229651  UKI COUNCIL  UKI COUNCIL  \n",
              "229652  UKI COUNCIL  UKI COUNCIL  \n",
              "\n",
              "[229653 rows x 7 columns]"
            ]
          },
          "execution_count": 22,
          "metadata": {},
          "output_type": "execute_result"
        }
      ],
      "source": [
        "df = pd.read_csv('../input/daal_file.csv')\n",
        "df"
      ]
    },
    {
      "cell_type": "code",
      "execution_count": 23,
      "metadata": {
        "colab": {
          "base_uri": "https://localhost:8080/"
        },
        "id": "b5uuhDbJmH6b",
        "outputId": "5827b808-7027-49af-a091-8e560126a2f4"
      },
      "outputs": [
        {
          "name": "stdout",
          "output_type": "stream",
          "text": [
            "<class 'pandas.core.frame.DataFrame'>\n",
            "RangeIndex: 229653 entries, 0 to 229652\n",
            "Data columns (total 7 columns):\n",
            " #   Column                                  Non-Null Count   Dtype \n",
            "---  ------                                  --------------   ----- \n",
            " 0   CDB ID                                  226036 non-null  object\n",
            " 1   OSC Account Name                        229653 non-null  object\n",
            " 2   Country Name                            229518 non-null  object\n",
            " 3   FY24 DAAL Account name (or Subsidiary)  229653 non-null  object\n",
            " 4   FY24 Account Segmentation               229653 non-null  object\n",
            " 5   DAAL NB                                 229653 non-null  object\n",
            " 6   DAAL RB                                 229653 non-null  object\n",
            "dtypes: object(7)\n",
            "memory usage: 12.3+ MB\n"
          ]
        }
      ],
      "source": [
        "df.info()\n"
      ]
    },
    {
      "cell_type": "code",
      "execution_count": 24,
      "metadata": {
        "id": "e3fLidFxm07d"
      },
      "outputs": [],
      "source": [
        "# Drop multiple columns in place\n",
        "columns_to_drop = ['FY24 DAAL Account name (or Subsidiary)', 'DAAL RB']\n",
        "\n",
        "df.drop(columns_to_drop, axis=1, inplace=True)"
      ]
    },
    {
      "cell_type": "code",
      "execution_count": 25,
      "metadata": {
        "colab": {
          "base_uri": "https://localhost:8080/",
          "height": 423
        },
        "id": "92Tgp_cinh_M",
        "outputId": "a90faca3-e534-478c-d5b4-661f6bff1b67"
      },
      "outputs": [
        {
          "data": {
            "text/html": [
              "<div>\n",
              "<style scoped>\n",
              "    .dataframe tbody tr th:only-of-type {\n",
              "        vertical-align: middle;\n",
              "    }\n",
              "\n",
              "    .dataframe tbody tr th {\n",
              "        vertical-align: top;\n",
              "    }\n",
              "\n",
              "    .dataframe thead th {\n",
              "        text-align: right;\n",
              "    }\n",
              "</style>\n",
              "<table border=\"1\" class=\"dataframe\">\n",
              "  <thead>\n",
              "    <tr style=\"text-align: right;\">\n",
              "      <th></th>\n",
              "      <th>CDB ID</th>\n",
              "      <th>OSC Account Name</th>\n",
              "      <th>Country Name</th>\n",
              "      <th>FY24 Account Segmentation</th>\n",
              "      <th>DAAL NB</th>\n",
              "    </tr>\n",
              "  </thead>\n",
              "  <tbody>\n",
              "    <tr>\n",
              "      <th>0</th>\n",
              "      <td>7425027</td>\n",
              "      <td>1976</td>\n",
              "      <td>PE</td>\n",
              "      <td>Longtail</td>\n",
              "      <td>1976</td>\n",
              "    </tr>\n",
              "    <tr>\n",
              "      <th>1</th>\n",
              "      <td>523314</td>\n",
              "      <td>37135</td>\n",
              "      <td>DO</td>\n",
              "      <td>Longtail</td>\n",
              "      <td>37135</td>\n",
              "    </tr>\n",
              "    <tr>\n",
              "      <th>2</th>\n",
              "      <td>1080194</td>\n",
              "      <td>44988</td>\n",
              "      <td>AR</td>\n",
              "      <td>Longtail</td>\n",
              "      <td>44258</td>\n",
              "    </tr>\n",
              "    <tr>\n",
              "      <th>3</th>\n",
              "      <td>7561885</td>\n",
              "      <td>50624412411</td>\n",
              "      <td>CR</td>\n",
              "      <td>Longtail</td>\n",
              "      <td>50624412411</td>\n",
              "    </tr>\n",
              "    <tr>\n",
              "      <th>4</th>\n",
              "      <td>7434745</td>\n",
              "      <td>ALLIANZ TECHNOLOGY OF AMERICA, INC.</td>\n",
              "      <td>US</td>\n",
              "      <td>Segment 2</td>\n",
              "      <td>ALLIANZ</td>\n",
              "    </tr>\n",
              "    <tr>\n",
              "      <th>...</th>\n",
              "      <td>...</td>\n",
              "      <td>...</td>\n",
              "      <td>...</td>\n",
              "      <td>...</td>\n",
              "      <td>...</td>\n",
              "    </tr>\n",
              "    <tr>\n",
              "      <th>229648</th>\n",
              "      <td>595924</td>\n",
              "      <td>WYCHAVON DISTRICT COUNCIL</td>\n",
              "      <td>GB</td>\n",
              "      <td>Segment 4</td>\n",
              "      <td>UKI COUNCIL</td>\n",
              "    </tr>\n",
              "    <tr>\n",
              "      <th>229649</th>\n",
              "      <td>1316172</td>\n",
              "      <td>WYCOMBE DISTRICT COUNCIL</td>\n",
              "      <td>GB</td>\n",
              "      <td>Segment 4</td>\n",
              "      <td>UKI COUNCIL</td>\n",
              "    </tr>\n",
              "    <tr>\n",
              "      <th>229650</th>\n",
              "      <td>1473192</td>\n",
              "      <td>WYRE BOROUGH COUNCIL</td>\n",
              "      <td>GB</td>\n",
              "      <td>Segment 4</td>\n",
              "      <td>UKI COUNCIL</td>\n",
              "    </tr>\n",
              "    <tr>\n",
              "      <th>229651</th>\n",
              "      <td>956771</td>\n",
              "      <td>WYRE FOREST DISTRICT COUNCIL</td>\n",
              "      <td>GB</td>\n",
              "      <td>Segment 4</td>\n",
              "      <td>UKI COUNCIL</td>\n",
              "    </tr>\n",
              "    <tr>\n",
              "      <th>229652</th>\n",
              "      <td>6759351</td>\n",
              "      <td>WYRE FOREST DISTRICT COUNCIL</td>\n",
              "      <td>GB</td>\n",
              "      <td>Segment 4</td>\n",
              "      <td>UKI COUNCIL</td>\n",
              "    </tr>\n",
              "  </tbody>\n",
              "</table>\n",
              "<p>229653 rows × 5 columns</p>\n",
              "</div>"
            ],
            "text/plain": [
              "         CDB ID                      OSC Account Name Country Name  \\\n",
              "0       7425027                                  1976           PE   \n",
              "1        523314                                 37135           DO   \n",
              "2       1080194                                 44988           AR   \n",
              "3       7561885                           50624412411           CR   \n",
              "4       7434745   ALLIANZ TECHNOLOGY OF AMERICA, INC.           US   \n",
              "...         ...                                   ...          ...   \n",
              "229648   595924             WYCHAVON DISTRICT COUNCIL           GB   \n",
              "229649  1316172              WYCOMBE DISTRICT COUNCIL           GB   \n",
              "229650  1473192                  WYRE BOROUGH COUNCIL           GB   \n",
              "229651   956771          WYRE FOREST DISTRICT COUNCIL           GB   \n",
              "229652  6759351          WYRE FOREST DISTRICT COUNCIL           GB   \n",
              "\n",
              "       FY24 Account Segmentation      DAAL NB  \n",
              "0                       Longtail         1976  \n",
              "1                       Longtail        37135  \n",
              "2                       Longtail        44258  \n",
              "3                       Longtail  50624412411  \n",
              "4                      Segment 2      ALLIANZ  \n",
              "...                          ...          ...  \n",
              "229648                 Segment 4  UKI COUNCIL  \n",
              "229649                 Segment 4  UKI COUNCIL  \n",
              "229650                 Segment 4  UKI COUNCIL  \n",
              "229651                 Segment 4  UKI COUNCIL  \n",
              "229652                 Segment 4  UKI COUNCIL  \n",
              "\n",
              "[229653 rows x 5 columns]"
            ]
          },
          "execution_count": 25,
          "metadata": {},
          "output_type": "execute_result"
        }
      ],
      "source": [
        "df"
      ]
    },
    {
      "cell_type": "code",
      "execution_count": 26,
      "metadata": {
        "colab": {
          "base_uri": "https://localhost:8080/"
        },
        "id": "uF4QTrwqoBzv",
        "outputId": "03fccc19-04c5-43d8-ea0a-6d02820ad809"
      },
      "outputs": [
        {
          "name": "stdout",
          "output_type": "stream",
          "text": [
            "<class 'pandas.core.frame.DataFrame'>\n",
            "RangeIndex: 229653 entries, 0 to 229652\n",
            "Data columns (total 5 columns):\n",
            " #   Column                     Non-Null Count   Dtype \n",
            "---  ------                     --------------   ----- \n",
            " 0   CDB ID                     226036 non-null  object\n",
            " 1   OSC Account Name           229653 non-null  object\n",
            " 2   Country Name               229518 non-null  object\n",
            " 3   FY24 Account Segmentation  229653 non-null  object\n",
            " 4   DAAL NB                    229653 non-null  object\n",
            "dtypes: object(5)\n",
            "memory usage: 8.8+ MB\n"
          ]
        }
      ],
      "source": [
        "df.info()"
      ]
    },
    {
      "cell_type": "markdown",
      "metadata": {
        "id": "928VVWstrUir"
      },
      "source": [
        "#FIND DUPLICATE ROWS AND DROP DUPLICATE ROWS\n",
        "\n"
      ]
    },
    {
      "cell_type": "code",
      "execution_count": 27,
      "metadata": {
        "colab": {
          "base_uri": "https://localhost:8080/"
        },
        "id": "V8Xi4zSsFxOc",
        "outputId": "f532603c-34ea-4394-edb7-05cb35fe19e9"
      },
      "outputs": [
        {
          "data": {
            "text/plain": [
              "(229653, 5)"
            ]
          },
          "execution_count": 27,
          "metadata": {},
          "output_type": "execute_result"
        }
      ],
      "source": [
        "df.shape"
      ]
    },
    {
      "cell_type": "code",
      "execution_count": 28,
      "metadata": {
        "colab": {
          "base_uri": "https://localhost:8080/"
        },
        "id": "I6gFy72Enm7w",
        "outputId": "89f1d6ff-fdff-43ac-a12a-7d47c72a107c"
      },
      "outputs": [
        {
          "name": "stdout",
          "output_type": "stream",
          "text": [
            "Number of duplicate rows: 95373\n"
          ]
        }
      ],
      "source": [
        "# Check for duplicate rows without considering the 'CDB ID' column\n",
        "columns_to_check = ['OSC Account Name', 'Country Name', 'FY24 Account Segmentation', 'DAAL NB']\n",
        "duplicate_rows = df.duplicated(subset=columns_to_check, keep='first')\n",
        "\n",
        "# Count the number of duplicate rows\n",
        "num_duplicates = duplicate_rows.sum()\n",
        "\n",
        "print(f\"Number of duplicate rows: {num_duplicates}\")"
      ]
    },
    {
      "cell_type": "code",
      "execution_count": 29,
      "metadata": {
        "colab": {
          "base_uri": "https://localhost:8080/",
          "height": 475
        },
        "id": "6-x_HTMToFCK",
        "outputId": "50ad02dd-f771-4a16-d8b0-0792b4133c5d"
      },
      "outputs": [
        {
          "name": "stdout",
          "output_type": "stream",
          "text": [
            "Duplicate rows without considering 'CDB ID' column:\n"
          ]
        },
        {
          "data": {
            "text/html": [
              "<div>\n",
              "<style scoped>\n",
              "    .dataframe tbody tr th:only-of-type {\n",
              "        vertical-align: middle;\n",
              "    }\n",
              "\n",
              "    .dataframe tbody tr th {\n",
              "        vertical-align: top;\n",
              "    }\n",
              "\n",
              "    .dataframe thead th {\n",
              "        text-align: right;\n",
              "    }\n",
              "</style>\n",
              "<table border=\"1\" class=\"dataframe\">\n",
              "  <thead>\n",
              "    <tr style=\"text-align: right;\">\n",
              "      <th></th>\n",
              "      <th>CDB ID</th>\n",
              "      <th>OSC Account Name</th>\n",
              "      <th>Country Name</th>\n",
              "      <th>FY24 Account Segmentation</th>\n",
              "      <th>DAAL NB</th>\n",
              "    </tr>\n",
              "  </thead>\n",
              "  <tbody>\n",
              "    <tr>\n",
              "      <th>25</th>\n",
              "      <td>1194760</td>\n",
              "      <td>: FONDO DE SOLIDARIDAD E INVERSION SOCIAL</td>\n",
              "      <td>CL</td>\n",
              "      <td>Longtail</td>\n",
              "      <td>FONDO DE SOLIDARIDAD E INVERSION SOCIAL</td>\n",
              "    </tr>\n",
              "    <tr>\n",
              "      <th>29</th>\n",
              "      <td>281261</td>\n",
              "      <td>1 ACOS</td>\n",
              "      <td>US</td>\n",
              "      <td>Segment 1</td>\n",
              "      <td>USAF</td>\n",
              "    </tr>\n",
              "    <tr>\n",
              "      <th>33</th>\n",
              "      <td>1525067</td>\n",
              "      <td>1001-BDI DIVISION OF BELL MOBILITY</td>\n",
              "      <td>CA</td>\n",
              "      <td>Segment 1</td>\n",
              "      <td>BELL CANADA</td>\n",
              "    </tr>\n",
              "    <tr>\n",
              "      <th>34</th>\n",
              "      <td>80219</td>\n",
              "      <td>1001-BDI DIVISION OF BELL MOBILITY</td>\n",
              "      <td>CA</td>\n",
              "      <td>Segment 1</td>\n",
              "      <td>BELL CANADA</td>\n",
              "    </tr>\n",
              "    <tr>\n",
              "      <th>39</th>\n",
              "      <td>272584</td>\n",
              "      <td>1010 DATA INC</td>\n",
              "      <td>US</td>\n",
              "      <td>Longtail</td>\n",
              "      <td>1010 DATA INC</td>\n",
              "    </tr>\n",
              "    <tr>\n",
              "      <th>...</th>\n",
              "      <td>...</td>\n",
              "      <td>...</td>\n",
              "      <td>...</td>\n",
              "      <td>...</td>\n",
              "      <td>...</td>\n",
              "    </tr>\n",
              "    <tr>\n",
              "      <th>229638</th>\n",
              "      <td>698324</td>\n",
              "      <td>WELWYN HATFIELD COUNCIL</td>\n",
              "      <td>GB</td>\n",
              "      <td>Segment 4</td>\n",
              "      <td>UKI COUNCIL</td>\n",
              "    </tr>\n",
              "    <tr>\n",
              "      <th>229639</th>\n",
              "      <td>286635</td>\n",
              "      <td>WELWYN HATFIELD COUNCIL</td>\n",
              "      <td>GB</td>\n",
              "      <td>Segment 4</td>\n",
              "      <td>UKI COUNCIL</td>\n",
              "    </tr>\n",
              "    <tr>\n",
              "      <th>229647</th>\n",
              "      <td>647359</td>\n",
              "      <td>WYCHAVON DISTRICT COUNCIL</td>\n",
              "      <td>GB</td>\n",
              "      <td>Segment 4</td>\n",
              "      <td>UKI COUNCIL</td>\n",
              "    </tr>\n",
              "    <tr>\n",
              "      <th>229648</th>\n",
              "      <td>595924</td>\n",
              "      <td>WYCHAVON DISTRICT COUNCIL</td>\n",
              "      <td>GB</td>\n",
              "      <td>Segment 4</td>\n",
              "      <td>UKI COUNCIL</td>\n",
              "    </tr>\n",
              "    <tr>\n",
              "      <th>229652</th>\n",
              "      <td>6759351</td>\n",
              "      <td>WYRE FOREST DISTRICT COUNCIL</td>\n",
              "      <td>GB</td>\n",
              "      <td>Segment 4</td>\n",
              "      <td>UKI COUNCIL</td>\n",
              "    </tr>\n",
              "  </tbody>\n",
              "</table>\n",
              "<p>95373 rows × 5 columns</p>\n",
              "</div>"
            ],
            "text/plain": [
              "         CDB ID                           OSC Account Name Country Name  \\\n",
              "25      1194760  : FONDO DE SOLIDARIDAD E INVERSION SOCIAL           CL   \n",
              "29       281261                                     1 ACOS           US   \n",
              "33      1525067         1001-BDI DIVISION OF BELL MOBILITY           CA   \n",
              "34        80219         1001-BDI DIVISION OF BELL MOBILITY           CA   \n",
              "39       272584                              1010 DATA INC           US   \n",
              "...         ...                                        ...          ...   \n",
              "229638   698324                    WELWYN HATFIELD COUNCIL           GB   \n",
              "229639   286635                    WELWYN HATFIELD COUNCIL           GB   \n",
              "229647   647359                  WYCHAVON DISTRICT COUNCIL           GB   \n",
              "229648   595924                  WYCHAVON DISTRICT COUNCIL           GB   \n",
              "229652  6759351               WYRE FOREST DISTRICT COUNCIL           GB   \n",
              "\n",
              "       FY24 Account Segmentation                                  DAAL NB  \n",
              "25                      Longtail  FONDO DE SOLIDARIDAD E INVERSION SOCIAL  \n",
              "29                     Segment 1                                     USAF  \n",
              "33                     Segment 1                              BELL CANADA  \n",
              "34                     Segment 1                              BELL CANADA  \n",
              "39                      Longtail                            1010 DATA INC  \n",
              "...                          ...                                      ...  \n",
              "229638                 Segment 4                              UKI COUNCIL  \n",
              "229639                 Segment 4                              UKI COUNCIL  \n",
              "229647                 Segment 4                              UKI COUNCIL  \n",
              "229648                 Segment 4                              UKI COUNCIL  \n",
              "229652                 Segment 4                              UKI COUNCIL  \n",
              "\n",
              "[95373 rows x 5 columns]"
            ]
          },
          "execution_count": 29,
          "metadata": {},
          "output_type": "execute_result"
        }
      ],
      "source": [
        "# Filter and print the duplicate rows\n",
        "duplicate_df = df[duplicate_rows]\n",
        "print(\"Duplicate rows without considering 'CDB ID' column:\")\n",
        "duplicate_df"
      ]
    },
    {
      "cell_type": "code",
      "execution_count": 30,
      "metadata": {
        "id": "J70a5kNLp5SL"
      },
      "outputs": [],
      "source": [
        "# Drop duplicated rows keeping the first occurrence without considering first column\n",
        "columns_to_check = ['OSC Account Name', 'Country Name', 'FY24 Account Segmentation', 'DAAL NB']\n",
        "\n",
        "df = df.drop_duplicates(subset=columns_to_check, keep='first')"
      ]
    },
    {
      "cell_type": "code",
      "execution_count": 31,
      "metadata": {
        "colab": {
          "base_uri": "https://localhost:8080/"
        },
        "id": "yan2xjZ7rB-F",
        "outputId": "d26b3020-7654-401b-9ac0-f827ac855243"
      },
      "outputs": [
        {
          "data": {
            "text/plain": [
              "(134280, 5)"
            ]
          },
          "execution_count": 31,
          "metadata": {},
          "output_type": "execute_result"
        }
      ],
      "source": [
        "df.shape"
      ]
    },
    {
      "cell_type": "code",
      "execution_count": 32,
      "metadata": {
        "colab": {
          "base_uri": "https://localhost:8080/"
        },
        "id": "gvGA00HesT6y",
        "outputId": "d02230cf-3901-4c7f-db21-7a189fab5b0c"
      },
      "outputs": [
        {
          "name": "stdout",
          "output_type": "stream",
          "text": [
            "<class 'pandas.core.frame.DataFrame'>\n",
            "Index: 134280 entries, 0 to 229651\n",
            "Data columns (total 5 columns):\n",
            " #   Column                     Non-Null Count   Dtype \n",
            "---  ------                     --------------   ----- \n",
            " 0   CDB ID                     130666 non-null  object\n",
            " 1   OSC Account Name           134280 non-null  object\n",
            " 2   Country Name               134227 non-null  object\n",
            " 3   FY24 Account Segmentation  134280 non-null  object\n",
            " 4   DAAL NB                    134280 non-null  object\n",
            "dtypes: object(5)\n",
            "memory usage: 6.1+ MB\n"
          ]
        }
      ],
      "source": [
        "df.info()"
      ]
    },
    {
      "cell_type": "code",
      "execution_count": 33,
      "metadata": {
        "colab": {
          "base_uri": "https://localhost:8080/",
          "height": 510
        },
        "id": "aowJZXKpsWaj",
        "outputId": "bbd3d989-370b-4689-a5af-cab20f8cc111"
      },
      "outputs": [
        {
          "name": "stdout",
          "output_type": "stream",
          "text": [
            "Rows with null 'CDB ID':\n"
          ]
        },
        {
          "data": {
            "text/html": [
              "<div>\n",
              "<style scoped>\n",
              "    .dataframe tbody tr th:only-of-type {\n",
              "        vertical-align: middle;\n",
              "    }\n",
              "\n",
              "    .dataframe tbody tr th {\n",
              "        vertical-align: top;\n",
              "    }\n",
              "\n",
              "    .dataframe thead th {\n",
              "        text-align: right;\n",
              "    }\n",
              "</style>\n",
              "<table border=\"1\" class=\"dataframe\">\n",
              "  <thead>\n",
              "    <tr style=\"text-align: right;\">\n",
              "      <th></th>\n",
              "      <th>CDB ID</th>\n",
              "      <th>OSC Account Name</th>\n",
              "      <th>Country Name</th>\n",
              "      <th>FY24 Account Segmentation</th>\n",
              "      <th>DAAL NB</th>\n",
              "    </tr>\n",
              "  </thead>\n",
              "  <tbody>\n",
              "    <tr>\n",
              "      <th>152013</th>\n",
              "      <td>NaN</td>\n",
              "      <td>A. Kayser GmbH &amp; Co. KG Textile Filtermedien</td>\n",
              "      <td>DE</td>\n",
              "      <td>Segment 3</td>\n",
              "      <td>A. KAYSER GMBH &amp; CO. KG TEXTILE FILTERMEDIEN</td>\n",
              "    </tr>\n",
              "    <tr>\n",
              "      <th>152042</th>\n",
              "      <td>NaN</td>\n",
              "      <td>ALB SCHWEIZ AG</td>\n",
              "      <td>CH</td>\n",
              "      <td>Segment 3</td>\n",
              "      <td>ABB</td>\n",
              "    </tr>\n",
              "    <tr>\n",
              "      <th>152043</th>\n",
              "      <td>NaN</td>\n",
              "      <td>Abraxas Informatik AG</td>\n",
              "      <td>CH</td>\n",
              "      <td>Longtail</td>\n",
              "      <td>ABRAXAS INFORMATIK AG</td>\n",
              "    </tr>\n",
              "    <tr>\n",
              "      <th>152087</th>\n",
              "      <td>NaN</td>\n",
              "      <td>AIRBUS OPERATIONS GMBH Airbus Operations GmbH</td>\n",
              "      <td>DE</td>\n",
              "      <td>Segment 2</td>\n",
              "      <td>AIRBUS</td>\n",
              "    </tr>\n",
              "    <tr>\n",
              "      <th>152155</th>\n",
              "      <td>NaN</td>\n",
              "      <td>ALBA EUROPE</td>\n",
              "      <td>DE</td>\n",
              "      <td>Segment 3</td>\n",
              "      <td>ALBA EUROPE</td>\n",
              "    </tr>\n",
              "    <tr>\n",
              "      <th>...</th>\n",
              "      <td>...</td>\n",
              "      <td>...</td>\n",
              "      <td>...</td>\n",
              "      <td>...</td>\n",
              "      <td>...</td>\n",
              "    </tr>\n",
              "    <tr>\n",
              "      <th>224651</th>\n",
              "      <td>NaN</td>\n",
              "      <td>STATE STREET GLOBAL ADVISERS UK LTD</td>\n",
              "      <td>GB</td>\n",
              "      <td>Segment 5</td>\n",
              "      <td>STATE STREET CORP</td>\n",
              "    </tr>\n",
              "    <tr>\n",
              "      <th>224652</th>\n",
              "      <td>NaN</td>\n",
              "      <td>STATE STREET SERVICES (JERSEY) LTD</td>\n",
              "      <td>GB</td>\n",
              "      <td>Segment 5</td>\n",
              "      <td>STATE STREET CORP</td>\n",
              "    </tr>\n",
              "    <tr>\n",
              "      <th>224653</th>\n",
              "      <td>NaN</td>\n",
              "      <td>STATE STREET SERVICES LTD</td>\n",
              "      <td>GB</td>\n",
              "      <td>Segment 5</td>\n",
              "      <td>STATE STREET CORP</td>\n",
              "    </tr>\n",
              "    <tr>\n",
              "      <th>224654</th>\n",
              "      <td>NaN</td>\n",
              "      <td>STATE STREET TRUSTEES LTD</td>\n",
              "      <td>GB</td>\n",
              "      <td>Segment 5</td>\n",
              "      <td>STATE STREET CORP</td>\n",
              "    </tr>\n",
              "    <tr>\n",
              "      <th>229415</th>\n",
              "      <td>NaN</td>\n",
              "      <td>Biotechnology and Biological Sciences Research...</td>\n",
              "      <td>GB</td>\n",
              "      <td>Segment 4</td>\n",
              "      <td>UKI COUNCIL</td>\n",
              "    </tr>\n",
              "  </tbody>\n",
              "</table>\n",
              "<p>3614 rows × 5 columns</p>\n",
              "</div>"
            ],
            "text/plain": [
              "       CDB ID                                   OSC Account Name Country Name  \\\n",
              "152013    NaN       A. Kayser GmbH & Co. KG Textile Filtermedien           DE   \n",
              "152042    NaN                                     ALB SCHWEIZ AG           CH   \n",
              "152043    NaN                              Abraxas Informatik AG           CH   \n",
              "152087    NaN      AIRBUS OPERATIONS GMBH Airbus Operations GmbH           DE   \n",
              "152155    NaN                                        ALBA EUROPE           DE   \n",
              "...       ...                                                ...          ...   \n",
              "224651    NaN                STATE STREET GLOBAL ADVISERS UK LTD           GB   \n",
              "224652    NaN                 STATE STREET SERVICES (JERSEY) LTD           GB   \n",
              "224653    NaN                          STATE STREET SERVICES LTD           GB   \n",
              "224654    NaN                          STATE STREET TRUSTEES LTD           GB   \n",
              "229415    NaN  Biotechnology and Biological Sciences Research...           GB   \n",
              "\n",
              "       FY24 Account Segmentation                                       DAAL NB  \n",
              "152013                 Segment 3  A. KAYSER GMBH & CO. KG TEXTILE FILTERMEDIEN  \n",
              "152042                 Segment 3                                           ABB  \n",
              "152043                  Longtail                         ABRAXAS INFORMATIK AG  \n",
              "152087                 Segment 2                                        AIRBUS  \n",
              "152155                 Segment 3                                   ALBA EUROPE  \n",
              "...                          ...                                           ...  \n",
              "224651                 Segment 5                             STATE STREET CORP  \n",
              "224652                 Segment 5                             STATE STREET CORP  \n",
              "224653                 Segment 5                             STATE STREET CORP  \n",
              "224654                 Segment 5                             STATE STREET CORP  \n",
              "229415                 Segment 4                                   UKI COUNCIL  \n",
              "\n",
              "[3614 rows x 5 columns]"
            ]
          },
          "execution_count": 33,
          "metadata": {},
          "output_type": "execute_result"
        }
      ],
      "source": [
        "# Print rows with null values in the 'CDB ID' column\n",
        "rows_with_null_cdb_id = df[df['CDB ID'].isnull()]\n",
        "print(\"Rows with null 'CDB ID':\")\n",
        "rows_with_null_cdb_id"
      ]
    },
    {
      "cell_type": "code",
      "execution_count": 34,
      "metadata": {
        "colab": {
          "base_uri": "https://localhost:8080/"
        },
        "id": "YdOTEL09uaJg",
        "outputId": "8ee309bb-9f2d-459e-a164-ca2957034248"
      },
      "outputs": [
        {
          "name": "stdout",
          "output_type": "stream",
          "text": [
            "Rows with null 'Country Name':\n",
            "         CDB ID                                   OSC Account Name  \\\n",
            "131275  7583630          TRIBUNAL REGIONAL DO TRABALHO DA 5 REGIAO   \n",
            "131276  7583631         TRIBUNAL REGIONAL DO TRABALHO DA 19 REGIAO   \n",
            "131277  7583645         TRIBUNAL REGIONAL DO TRABALHO DA 22 REGIAO   \n",
            "131278  7583649         TRIBUNAL REGIONAL DO TRABALHO DA 16 REGIAO   \n",
            "131279  7583653         TRIBUNAL REGIONAL DO TRABALHO DA 20 REGIAO   \n",
            "131280  7530214                             VS SERVICE COMPANY LLC   \n",
            "131281  7587678                                     ATRIUS MSO LLC   \n",
            "131284  1361841                                           WWT - TB   \n",
            "131285  6755471                             WWT TELCOBUY WAREHOUSE   \n",
            "131286  7542219                                                WWT   \n",
            "131287  7578324                                             SPACEX   \n",
            "131288   373080          WILLIAM MORRIS ENDEAVOR ENTERTAINMENT LLC   \n",
            "131289   526807                          LIVE NATION WORLDWIDE INC   \n",
            "131290  1404056                                 LIVE NATION UK LTD   \n",
            "131291    10803                                    LIVE NATION INC   \n",
            "131292   526808                            LIVE NATION MERCHANDISE   \n",
            "131293  2349266                          LIVE NATION ENTERTAINMENT   \n",
            "131295   322621                                        LIVE NATION   \n",
            "131299   230514                                          GREEN DOT   \n",
            "131300   577848                                     GREEN DOT CORP   \n",
            "198435   318129                                   BANK OF BOTSWANA   \n",
            "198510  7446627                                     MOZA BANCO S.A   \n",
            "198525  2430400                              STANBIC BANK BOTSWANA   \n",
            "198555    61473                          STANBIC BANK BOTSWANA LTD   \n",
            "198570    61475                            STANBIC BANK ZAMBIA LTD   \n",
            "198615  7455333                              STANBIC BANK ZIMBABWE   \n",
            "198675  7562745                                   STANBIC ESWATINI   \n",
            "198705  7471636                            STANDARD BANK DE ANGOLA   \n",
            "198765  2427828                               STANDARD BANK MALAWI   \n",
            "198825  5877555                    STANDARD BANK MAURITIUS LIMITED   \n",
            "198855  1557940                           STANDARD BANK MOZAMBIQUE   \n",
            "198870  7298962                              STANDARD BANK NAMIBIA   \n",
            "198900  6861539                      STANDARD BANK SARL MOZAMBIQUE   \n",
            "198930  7455456                            STANDARD BANK SWAZILAND   \n",
            "198960  7415545                              STANDARD LESOTHO BANK   \n",
            "199135      NaN                                        Axian Group   \n",
            "199162   266605                       Central Bank of Zimbabwe CBZ   \n",
            "199189  1091726                          DEBSWANA CORPORATE CENTER   \n",
            "199216  2421974                                DEBSWANA DIAMOND CO   \n",
            "199270  2596249                           GOVERNMENT ONLINE CENTER   \n",
            "199648  2555079                          MAURITIUS COMMERCIAL BANK   \n",
            "199891  2429403  MAURITIUS COMMERCIAL BANK CONSULTING SERVICES LTD   \n",
            "199945  2640146                     MAURITIUS COMMERCIAL BANK ICPS   \n",
            "199999  2557129                      MAURITIUS COMMERCIAL BANK LTD   \n",
            "200296      NaN  MAURITIUS COMMERCIAL BANK Mauritius Commercial...   \n",
            "200323   577096                  THE MAURITIUS COMMERCIAL BANK LTD   \n",
            "200485  2633433  THE MAURITIUS COMMERCIAL BANK LTD Mauritius Co...   \n",
            "200539   319214                                              Telma   \n",
            "200593  1039568                   BFA BANCO DE FOMENTO ANGOLA SARL   \n",
            "200736  4267076                                      MTN SWAZILAND   \n",
            "200862  1557675              MTN SWAZILAND MTN SOUTH SUDAN LIMITED   \n",
            "200876  1351207                                         MTN ZAMBIA   \n",
            "207073  7567955                                       MTN ESWATINI   \n",
            "\n",
            "       Country Name FY24 Account Segmentation  \\\n",
            "131275          NaN                 Segment 3   \n",
            "131276          NaN                 Segment 3   \n",
            "131277          NaN                 Segment 3   \n",
            "131278          NaN                 Segment 3   \n",
            "131279          NaN                 Segment 3   \n",
            "131280          NaN                 Segment 3   \n",
            "131281          NaN                 Segment 1   \n",
            "131284          NaN                 Segment 3   \n",
            "131285          NaN                 Segment 3   \n",
            "131286          NaN                 Segment 3   \n",
            "131287          NaN                 Segment 3   \n",
            "131288          NaN                 Segment 3   \n",
            "131289          NaN                 Segment 3   \n",
            "131290          NaN                 Segment 3   \n",
            "131291          NaN                 Segment 3   \n",
            "131292          NaN                 Segment 3   \n",
            "131293          NaN                 Segment 3   \n",
            "131295          NaN                 Segment 3   \n",
            "131299          NaN                 Segment 3   \n",
            "131300          NaN                 Segment 3   \n",
            "198435          NaN                 Segment 1   \n",
            "198510          NaN                 Segment 1   \n",
            "198525          NaN                 Segment 1   \n",
            "198555          NaN                 Segment 1   \n",
            "198570          NaN                 Segment 1   \n",
            "198615          NaN                 Segment 1   \n",
            "198675          NaN                 Segment 1   \n",
            "198705          NaN                 Segment 1   \n",
            "198765          NaN                 Segment 1   \n",
            "198825          NaN                 Segment 1   \n",
            "198855          NaN                 Segment 1   \n",
            "198870          NaN                 Segment 1   \n",
            "198900          NaN                 Segment 1   \n",
            "198930          NaN                 Segment 1   \n",
            "198960          NaN                 Segment 1   \n",
            "199135          NaN                 Segment 3   \n",
            "199162          NaN                 Segment 3   \n",
            "199189          NaN                 Segment 3   \n",
            "199216          NaN                 Segment 3   \n",
            "199270          NaN                 Segment 3   \n",
            "199648          NaN                 Segment 3   \n",
            "199891          NaN                 Segment 3   \n",
            "199945          NaN                 Segment 3   \n",
            "199999          NaN                 Segment 3   \n",
            "200296          NaN                 Segment 3   \n",
            "200323          NaN                 Segment 3   \n",
            "200485          NaN                 Segment 3   \n",
            "200539          NaN                 Segment 3   \n",
            "200593          NaN                 Segment 3   \n",
            "200736          NaN                 Segment 1   \n",
            "200862          NaN                 Segment 1   \n",
            "200876          NaN                 Segment 1   \n",
            "207073          NaN                 Segment 1   \n",
            "\n",
            "                                      DAAL NB  \n",
            "131275          TRIBUNAL SUPERIOR DO TRABALHO  \n",
            "131276          TRIBUNAL SUPERIOR DO TRABALHO  \n",
            "131277          TRIBUNAL SUPERIOR DO TRABALHO  \n",
            "131278          TRIBUNAL SUPERIOR DO TRABALHO  \n",
            "131279          TRIBUNAL SUPERIOR DO TRABALHO  \n",
            "131280                       VICTORIAS SECRET  \n",
            "131281                     UNITEDHEALTH GROUP  \n",
            "131284                  WORLD WIDE TECHNOLOGY  \n",
            "131285                 WWT TELCOBUY WAREHOUSE  \n",
            "131286                  WORLD WIDE TECHNOLOGY  \n",
            "131287                                 SPACEX  \n",
            "131288  WILLIAM MORRIS ENDEAVOR ENTERTAINMENT  \n",
            "131289              LIVE NATION ENTERTAINMENT  \n",
            "131290              LIVE NATION ENTERTAINMENT  \n",
            "131291              LIVE NATION ENTERTAINMENT  \n",
            "131292              LIVE NATION ENTERTAINMENT  \n",
            "131293              LIVE NATION ENTERTAINMENT  \n",
            "131295              LIVE NATION ENTERTAINMENT  \n",
            "131299                              GREEN DOT  \n",
            "131300                              GREEN DOT  \n",
            "198435                 STANDARD BANK CA + IOI  \n",
            "198510                 STANDARD BANK CA + IOI  \n",
            "198525                 STANDARD BANK CA + IOI  \n",
            "198555                 STANDARD BANK CA + IOI  \n",
            "198570                 STANDARD BANK CA + IOI  \n",
            "198615                 STANDARD BANK CA + IOI  \n",
            "198675                 STANDARD BANK CA + IOI  \n",
            "198705                 STANDARD BANK CA + IOI  \n",
            "198765                 STANDARD BANK CA + IOI  \n",
            "198825                 STANDARD BANK CA + IOI  \n",
            "198855                 STANDARD BANK CA + IOI  \n",
            "198870                 STANDARD BANK CA + IOI  \n",
            "198900                 STANDARD BANK CA + IOI  \n",
            "198930                 STANDARD BANK CA + IOI  \n",
            "198960                 STANDARD BANK CA + IOI  \n",
            "199135                            AXIAN GROUP  \n",
            "199162           CENTRAL BANK OF ZIMBABWE CBZ  \n",
            "199189              DEBSWANA CORPORATE CENTER  \n",
            "199216                    DEBSWANA DIAMOND CO  \n",
            "199270               GOVERNMENT ONLINE CENTRE  \n",
            "199648                              MCB GROUP  \n",
            "199891                              MCB GROUP  \n",
            "199945                              MCB GROUP  \n",
            "199999                              MCB GROUP  \n",
            "200296                              MCB GROUP  \n",
            "200323                              MCB GROUP  \n",
            "200485                              MCB GROUP  \n",
            "200539                                  TELMA  \n",
            "200593                        UNITEL - ANGOLA  \n",
            "200736                      MTN GROUP ESA IOI  \n",
            "200862                      MTN GROUP ESA IOI  \n",
            "200876                      MTN GROUP ESA IOI  \n",
            "207073                      MTN GROUP ESA IOI  \n",
            "Number of rows with null country name:  53\n"
          ]
        }
      ],
      "source": [
        "# Print rows with null values in the 'Country name' column\n",
        "rows_with_null_country_name = df[df['Country Name'].isnull()]\n",
        "print(\"Rows with null 'Country Name':\")\n",
        "print(rows_with_null_country_name)\n",
        "\n",
        "print(\"Number of rows with null country name: \", len(rows_with_null_country_name))"
      ]
    },
    {
      "cell_type": "code",
      "execution_count": 35,
      "metadata": {},
      "outputs": [],
      "source": [
        "# Drop rows with null values in the \"country\" column\n",
        "df = df.dropna(subset=['Country Name'])"
      ]
    },
    {
      "cell_type": "code",
      "execution_count": 36,
      "metadata": {
        "colab": {
          "base_uri": "https://localhost:8080/"
        },
        "id": "prt4hQT8GdAb",
        "outputId": "56cd91be-e808-4149-b2f2-775ca48b265e"
      },
      "outputs": [
        {
          "data": {
            "text/plain": [
              "CDB ID                       3612\n",
              "OSC Account Name                0\n",
              "Country Name                    0\n",
              "FY24 Account Segmentation       0\n",
              "DAAL NB                         0\n",
              "dtype: int64"
            ]
          },
          "execution_count": 36,
          "metadata": {},
          "output_type": "execute_result"
        }
      ],
      "source": [
        "# Find null values\n",
        "df.isnull().sum()"
      ]
    },
    {
      "cell_type": "code",
      "execution_count": null,
      "metadata": {
        "id": "leo0TNTCGdDI"
      },
      "outputs": [],
      "source": []
    },
    {
      "cell_type": "markdown",
      "metadata": {
        "id": "fxAeRHDAGwd5"
      },
      "source": [
        "## Remove White Space Characters:\n",
        "### To remove white space characters (leading, trailing) from the 'Account(Customer_Name)' column, we can use .str.strip():\n"
      ]
    },
    {
      "cell_type": "code",
      "execution_count": 37,
      "metadata": {
        "colab": {
          "base_uri": "https://localhost:8080/",
          "height": 493
        },
        "id": "2JWtICDxGdGL",
        "outputId": "b70f3163-2637-44a2-f65e-0d73291dad14"
      },
      "outputs": [
        {
          "data": {
            "text/html": [
              "<div>\n",
              "<style scoped>\n",
              "    .dataframe tbody tr th:only-of-type {\n",
              "        vertical-align: middle;\n",
              "    }\n",
              "\n",
              "    .dataframe tbody tr th {\n",
              "        vertical-align: top;\n",
              "    }\n",
              "\n",
              "    .dataframe thead th {\n",
              "        text-align: right;\n",
              "    }\n",
              "</style>\n",
              "<table border=\"1\" class=\"dataframe\">\n",
              "  <thead>\n",
              "    <tr style=\"text-align: right;\">\n",
              "      <th></th>\n",
              "      <th>CDB ID</th>\n",
              "      <th>OSC Account Name</th>\n",
              "      <th>Country Name</th>\n",
              "      <th>FY24 Account Segmentation</th>\n",
              "      <th>DAAL NB</th>\n",
              "    </tr>\n",
              "  </thead>\n",
              "  <tbody>\n",
              "    <tr>\n",
              "      <th>4</th>\n",
              "      <td>7434745</td>\n",
              "      <td>ALLIANZ TECHNOLOGY OF AMERICA, INC.</td>\n",
              "      <td>US</td>\n",
              "      <td>Segment 2</td>\n",
              "      <td>ALLIANZ</td>\n",
              "    </tr>\n",
              "    <tr>\n",
              "      <th>8</th>\n",
              "      <td>11670</td>\n",
              "      <td>SUPERIOR COURT OF CALIFORNIA,VENTURA COUNTY</td>\n",
              "      <td>US</td>\n",
              "      <td>Longtail</td>\n",
              "      <td>COUNTY OF VENTURA CA</td>\n",
              "    </tr>\n",
              "    <tr>\n",
              "      <th>12</th>\n",
              "      <td>2470066</td>\n",
              "      <td>AMERICAN BEEF SA DE CV</td>\n",
              "      <td>MX</td>\n",
              "      <td>Longtail</td>\n",
              "      <td>AMERICAN BEEF</td>\n",
              "    </tr>\n",
              "    <tr>\n",
              "      <th>13</th>\n",
              "      <td>2463882</td>\n",
              "      <td>BTG PACTUAL CASA DE BOLSA SA DE CV</td>\n",
              "      <td>MX</td>\n",
              "      <td>Longtail</td>\n",
              "      <td>BTG PACTUAL MEXICO</td>\n",
              "    </tr>\n",
              "    <tr>\n",
              "      <th>14</th>\n",
              "      <td>472954</td>\n",
              "      <td>CS RECURSOS GEOTÉRMICO ICE</td>\n",
              "      <td>CR</td>\n",
              "      <td>Longtail</td>\n",
              "      <td>C S RECURSOS GEOTERMICO I C E</td>\n",
              "    </tr>\n",
              "    <tr>\n",
              "      <th>...</th>\n",
              "      <td>...</td>\n",
              "      <td>...</td>\n",
              "      <td>...</td>\n",
              "      <td>...</td>\n",
              "      <td>...</td>\n",
              "    </tr>\n",
              "    <tr>\n",
              "      <th>204743</th>\n",
              "      <td>564177</td>\n",
              "      <td>IEOC EXPLORATION B.V</td>\n",
              "      <td>EG</td>\n",
              "      <td>Segment 3</td>\n",
              "      <td>IEOC EXPLORATION B.V</td>\n",
              "    </tr>\n",
              "    <tr>\n",
              "      <th>206620</th>\n",
              "      <td>NaN</td>\n",
              "      <td>OPUS TIGÁZ Zrt.</td>\n",
              "      <td>HU</td>\n",
              "      <td>Longtail</td>\n",
              "      <td>OPUS TIGÁZ ZRT.</td>\n",
              "    </tr>\n",
              "    <tr>\n",
              "      <th>206621</th>\n",
              "      <td>NaN</td>\n",
              "      <td>OPUS TITÁSZ Zrt.</td>\n",
              "      <td>HU</td>\n",
              "      <td>Longtail</td>\n",
              "      <td>OPUS TITÁSZ ZRT.</td>\n",
              "    </tr>\n",
              "    <tr>\n",
              "      <th>223831</th>\n",
              "      <td>NaN</td>\n",
              "      <td>CHILDREN AND FAMILY COURTS ADVISORY AND SUPPOR...</td>\n",
              "      <td>GB</td>\n",
              "      <td>Segment 2</td>\n",
              "      <td>MINISTRY OF JUSTICE</td>\n",
              "    </tr>\n",
              "    <tr>\n",
              "      <th>225612</th>\n",
              "      <td>1572894</td>\n",
              "      <td>CHESLYN HAY SPORTS &amp; COMMUNITY HIGH SCHOOL</td>\n",
              "      <td>GB</td>\n",
              "      <td>Segment 4</td>\n",
              "      <td>UKI COLLEGES UNIVERSITIES AND PROFESSIONAL SCH...</td>\n",
              "    </tr>\n",
              "  </tbody>\n",
              "</table>\n",
              "<p>133 rows × 5 columns</p>\n",
              "</div>"
            ],
            "text/plain": [
              "         CDB ID                                   OSC Account Name  \\\n",
              "4       7434745                ALLIANZ TECHNOLOGY OF AMERICA, INC.   \n",
              "8         11670        SUPERIOR COURT OF CALIFORNIA,VENTURA COUNTY   \n",
              "12      2470066                             AMERICAN BEEF SA DE CV   \n",
              "13      2463882                 BTG PACTUAL CASA DE BOLSA SA DE CV   \n",
              "14       472954                         CS RECURSOS GEOTÉRMICO ICE   \n",
              "...         ...                                                ...   \n",
              "204743   564177                              IEOC EXPLORATION B.V    \n",
              "206620      NaN                                   OPUS TIGÁZ Zrt.    \n",
              "206621      NaN                                  OPUS TITÁSZ Zrt.    \n",
              "223831      NaN  CHILDREN AND FAMILY COURTS ADVISORY AND SUPPOR...   \n",
              "225612  1572894        CHESLYN HAY SPORTS & COMMUNITY HIGH SCHOOL    \n",
              "\n",
              "       Country Name FY24 Account Segmentation  \\\n",
              "4                US                 Segment 2   \n",
              "8                US                  Longtail   \n",
              "12               MX                  Longtail   \n",
              "13               MX                  Longtail   \n",
              "14               CR                  Longtail   \n",
              "...             ...                       ...   \n",
              "204743           EG                 Segment 3   \n",
              "206620           HU                  Longtail   \n",
              "206621           HU                  Longtail   \n",
              "223831           GB                 Segment 2   \n",
              "225612           GB                 Segment 4   \n",
              "\n",
              "                                                  DAAL NB  \n",
              "4                                                 ALLIANZ  \n",
              "8                                    COUNTY OF VENTURA CA  \n",
              "12                                          AMERICAN BEEF  \n",
              "13                                     BTG PACTUAL MEXICO  \n",
              "14                          C S RECURSOS GEOTERMICO I C E  \n",
              "...                                                   ...  \n",
              "204743                              IEOC EXPLORATION B.V   \n",
              "206620                                   OPUS TIGÁZ ZRT.   \n",
              "206621                                  OPUS TITÁSZ ZRT.   \n",
              "223831                                MINISTRY OF JUSTICE  \n",
              "225612  UKI COLLEGES UNIVERSITIES AND PROFESSIONAL SCH...  \n",
              "\n",
              "[133 rows x 5 columns]"
            ]
          },
          "execution_count": 37,
          "metadata": {},
          "output_type": "execute_result"
        }
      ],
      "source": [
        "# Create a boolean mask to check for leading or trailing white spaces\n",
        "mask = df['OSC Account Name'].str.strip() != df['OSC Account Name']\n",
        "\n",
        "# Use the mask to filter and print the rows with extra white spaces\n",
        "rows_with_extra_spaces = df[mask]\n",
        "rows_with_extra_spaces"
      ]
    },
    {
      "cell_type": "code",
      "execution_count": 38,
      "metadata": {
        "id": "9ZpTG0czGdJm"
      },
      "outputs": [],
      "source": [
        "df['OSC Account Name'] = df['OSC Account Name'].str.strip()"
      ]
    },
    {
      "cell_type": "code",
      "execution_count": 39,
      "metadata": {
        "colab": {
          "base_uri": "https://localhost:8080/",
          "height": 53
        },
        "id": "sEEpWjCFHor6",
        "outputId": "481d2911-402a-4a7e-ef6f-f595813f4652"
      },
      "outputs": [
        {
          "data": {
            "text/html": [
              "<div>\n",
              "<style scoped>\n",
              "    .dataframe tbody tr th:only-of-type {\n",
              "        vertical-align: middle;\n",
              "    }\n",
              "\n",
              "    .dataframe tbody tr th {\n",
              "        vertical-align: top;\n",
              "    }\n",
              "\n",
              "    .dataframe thead th {\n",
              "        text-align: right;\n",
              "    }\n",
              "</style>\n",
              "<table border=\"1\" class=\"dataframe\">\n",
              "  <thead>\n",
              "    <tr style=\"text-align: right;\">\n",
              "      <th></th>\n",
              "      <th>CDB ID</th>\n",
              "      <th>OSC Account Name</th>\n",
              "      <th>Country Name</th>\n",
              "      <th>FY24 Account Segmentation</th>\n",
              "      <th>DAAL NB</th>\n",
              "    </tr>\n",
              "  </thead>\n",
              "  <tbody>\n",
              "  </tbody>\n",
              "</table>\n",
              "</div>"
            ],
            "text/plain": [
              "Empty DataFrame\n",
              "Columns: [CDB ID, OSC Account Name, Country Name, FY24 Account Segmentation, DAAL NB]\n",
              "Index: []"
            ]
          },
          "execution_count": 39,
          "metadata": {},
          "output_type": "execute_result"
        }
      ],
      "source": [
        "# Create a boolean mask to check for leading or trailing white spaces\n",
        "mask = df['OSC Account Name'].str.strip() != df['OSC Account Name']\n",
        "\n",
        "# Use the mask to filter and print the rows with extra white spaces\n",
        "rows_with_extra_spaces = df[mask]\n",
        "rows_with_extra_spaces"
      ]
    },
    {
      "cell_type": "code",
      "execution_count": 40,
      "metadata": {},
      "outputs": [],
      "source": [
        "df['DAAL NB'] = df['DAAL NB'].str.strip()"
      ]
    },
    {
      "cell_type": "markdown",
      "metadata": {
        "id": "wT1gvZwaIjHh"
      },
      "source": [
        "## Remove UMLAUT Characters:\n",
        "If you want to remove UMLAUT characters like \"ü,\" you can use Python's unidecode library to convert them to their closest ASCII equivalent:\n",
        "\n",
        "### Use the unidecode function to transliterate Umlaut characters in the 'Account(Customer_Name)' column\n",
        "### This code will replace Umlaut characters with their closest English alphabet equivalents. For example, \"ü\" will be replaced with \"u,\" \"ä\" with \"a,\" and \"ö\" with \"o.\""
      ]
    },
    {
      "cell_type": "code",
      "execution_count": 41,
      "metadata": {
        "colab": {
          "base_uri": "https://localhost:8080/"
        },
        "id": "dGrrMb47KRuo",
        "outputId": "e8f9deb1-e8c5-4335-c336-48b45dad88c7"
      },
      "outputs": [
        {
          "name": "stdout",
          "output_type": "stream",
          "text": [
            "Defaulting to user installation because normal site-packages is not writeable\n",
            "Collecting unidecode\n",
            "  Downloading Unidecode-1.3.7-py3-none-any.whl (235 kB)\n",
            "                                              0.0/235.5 kB ? eta -:--:--\n",
            "     -----                                   30.7/235.5 kB 1.3 MB/s eta 0:00:01\n",
            "     ---------                             61.4/235.5 kB 656.4 kB/s eta 0:00:01\n",
            "     --------------                        92.2/235.5 kB 871.5 kB/s eta 0:00:01\n",
            "     ------------------                   122.9/235.5 kB 722.1 kB/s eta 0:00:01\n",
            "     --------------------------           174.1/235.5 kB 748.1 kB/s eta 0:00:01\n",
            "     ----------------------------------   225.3/235.5 kB 808.4 kB/s eta 0:00:01\n",
            "     ------------------------------------ 235.5/235.5 kB 801.6 kB/s eta 0:00:00\n",
            "Installing collected packages: unidecode\n",
            "Successfully installed unidecode-1.3.7\n",
            "Note: you may need to restart the kernel to use updated packages.\n"
          ]
        },
        {
          "name": "stderr",
          "output_type": "stream",
          "text": [
            "\n",
            "[notice] A new release of pip is available: 23.1.2 -> 23.3.1\n",
            "[notice] To update, run: python.exe -m pip install --upgrade pip\n"
          ]
        }
      ],
      "source": [
        "pip install unidecode"
      ]
    },
    {
      "cell_type": "code",
      "execution_count": 42,
      "metadata": {
        "id": "1hE5sc6OLep5"
      },
      "outputs": [],
      "source": [
        "from unidecode import unidecode"
      ]
    },
    {
      "cell_type": "code",
      "execution_count": 43,
      "metadata": {
        "colab": {
          "base_uri": "https://localhost:8080/",
          "height": 458
        },
        "id": "Ie9pOP9BHoua",
        "outputId": "5559da1e-d771-45b2-c073-c59e98db903e"
      },
      "outputs": [
        {
          "data": {
            "text/html": [
              "<div>\n",
              "<style scoped>\n",
              "    .dataframe tbody tr th:only-of-type {\n",
              "        vertical-align: middle;\n",
              "    }\n",
              "\n",
              "    .dataframe tbody tr th {\n",
              "        vertical-align: top;\n",
              "    }\n",
              "\n",
              "    .dataframe thead th {\n",
              "        text-align: right;\n",
              "    }\n",
              "</style>\n",
              "<table border=\"1\" class=\"dataframe\">\n",
              "  <thead>\n",
              "    <tr style=\"text-align: right;\">\n",
              "      <th></th>\n",
              "      <th>CDB ID</th>\n",
              "      <th>OSC Account Name</th>\n",
              "      <th>Country Name</th>\n",
              "      <th>FY24 Account Segmentation</th>\n",
              "      <th>DAAL NB</th>\n",
              "    </tr>\n",
              "  </thead>\n",
              "  <tbody>\n",
              "    <tr>\n",
              "      <th>14</th>\n",
              "      <td>472954</td>\n",
              "      <td>CS RECURSOS GEOTÉRMICO ICE</td>\n",
              "      <td>CR</td>\n",
              "      <td>Longtail</td>\n",
              "      <td>C S RECURSOS GEOTERMICO I C E</td>\n",
              "    </tr>\n",
              "    <tr>\n",
              "      <th>27</th>\n",
              "      <td>663876</td>\n",
              "      <td>0GARIB INFORMÁTICA E ELETRONICA LTDA</td>\n",
              "      <td>BR</td>\n",
              "      <td>Longtail</td>\n",
              "      <td>0GARIB INFORMÃÂTICA E ELETRONICA LTDA</td>\n",
              "    </tr>\n",
              "    <tr>\n",
              "      <th>130</th>\n",
              "      <td>1644694</td>\n",
              "      <td>24 7 INTELIGÊNCIA DIGITAL LTDA</td>\n",
              "      <td>BR</td>\n",
              "      <td>Longtail</td>\n",
              "      <td>24 7 INTELIGÃÂNCIA DIGITAL LTDA</td>\n",
              "    </tr>\n",
              "    <tr>\n",
              "      <th>137</th>\n",
              "      <td>1647387</td>\n",
              "      <td>26 TABELIÃO DE NOTAS DA CAPITAL</td>\n",
              "      <td>BR</td>\n",
              "      <td>Longtail</td>\n",
              "      <td>26 TABELIÃÂO DE NOTAS DA CAPITAL</td>\n",
              "    </tr>\n",
              "    <tr>\n",
              "      <th>148</th>\n",
              "      <td>612408</td>\n",
              "      <td>2MI TECNOLGOIA E INFORMÁTICA</td>\n",
              "      <td>BR</td>\n",
              "      <td>Longtail</td>\n",
              "      <td>2MI TECNOLGOIA E INFORMÃÂTICA</td>\n",
              "    </tr>\n",
              "    <tr>\n",
              "      <th>...</th>\n",
              "      <td>...</td>\n",
              "      <td>...</td>\n",
              "      <td>...</td>\n",
              "      <td>...</td>\n",
              "      <td>...</td>\n",
              "    </tr>\n",
              "    <tr>\n",
              "      <th>228391</th>\n",
              "      <td>1420624</td>\n",
              "      <td>ST PETER’S C OF E PRIMARY SCHOOL</td>\n",
              "      <td>GB</td>\n",
              "      <td>Segment 4</td>\n",
              "      <td>UKI ELEMENTARY AND SECONDARY SCHOOLS</td>\n",
              "    </tr>\n",
              "    <tr>\n",
              "      <th>228392</th>\n",
              "      <td>7298641</td>\n",
              "      <td>ST PETER’S PRIMARY SCHOOL</td>\n",
              "      <td>GB</td>\n",
              "      <td>Segment 4</td>\n",
              "      <td>UKI ELEMENTARY AND SECONDARY SCHOOLS</td>\n",
              "    </tr>\n",
              "    <tr>\n",
              "      <th>228393</th>\n",
              "      <td>79292</td>\n",
              "      <td>ST PETERÂ€™S CE (A) FIRST SCHOOL</td>\n",
              "      <td>GB</td>\n",
              "      <td>Segment 4</td>\n",
              "      <td>UKI ELEMENTARY AND SECONDARY SCHOOLS</td>\n",
              "    </tr>\n",
              "    <tr>\n",
              "      <th>228405</th>\n",
              "      <td>646364</td>\n",
              "      <td>ST STEPHEN’S PRIMARY SCHOOL</td>\n",
              "      <td>GB</td>\n",
              "      <td>Segment 4</td>\n",
              "      <td>UKI ELEMENTARY AND SECONDARY SCHOOLS</td>\n",
              "    </tr>\n",
              "    <tr>\n",
              "      <th>228419</th>\n",
              "      <td>337559</td>\n",
              "      <td>ST THOMAS’ CE PRIMARY SCHOOL</td>\n",
              "      <td>GB</td>\n",
              "      <td>Segment 4</td>\n",
              "      <td>UKI ELEMENTARY AND SECONDARY SCHOOLS</td>\n",
              "    </tr>\n",
              "  </tbody>\n",
              "</table>\n",
              "<p>5365 rows × 5 columns</p>\n",
              "</div>"
            ],
            "text/plain": [
              "         CDB ID                      OSC Account Name Country Name  \\\n",
              "14       472954            CS RECURSOS GEOTÉRMICO ICE           CR   \n",
              "27       663876  0GARIB INFORMÁTICA E ELETRONICA LTDA           BR   \n",
              "130     1644694        24 7 INTELIGÊNCIA DIGITAL LTDA           BR   \n",
              "137     1647387       26 TABELIÃO DE NOTAS DA CAPITAL           BR   \n",
              "148      612408          2MI TECNOLGOIA E INFORMÁTICA           BR   \n",
              "...         ...                                   ...          ...   \n",
              "228391  1420624      ST PETER’S C OF E PRIMARY SCHOOL           GB   \n",
              "228392  7298641             ST PETER’S PRIMARY SCHOOL           GB   \n",
              "228393    79292      ST PETERÂ€™S CE (A) FIRST SCHOOL           GB   \n",
              "228405   646364           ST STEPHEN’S PRIMARY SCHOOL           GB   \n",
              "228419   337559          ST THOMAS’ CE PRIMARY SCHOOL           GB   \n",
              "\n",
              "       FY24 Account Segmentation                                  DAAL NB  \n",
              "14                      Longtail            C S RECURSOS GEOTERMICO I C E  \n",
              "27                      Longtail  0GARIB INFORMÃÂTICA E ELETRONICA LTDA  \n",
              "130                     Longtail        24 7 INTELIGÃÂNCIA DIGITAL LTDA  \n",
              "137                     Longtail       26 TABELIÃÂO DE NOTAS DA CAPITAL  \n",
              "148                     Longtail          2MI TECNOLGOIA E INFORMÃÂTICA  \n",
              "...                          ...                                      ...  \n",
              "228391                 Segment 4     UKI ELEMENTARY AND SECONDARY SCHOOLS  \n",
              "228392                 Segment 4     UKI ELEMENTARY AND SECONDARY SCHOOLS  \n",
              "228393                 Segment 4     UKI ELEMENTARY AND SECONDARY SCHOOLS  \n",
              "228405                 Segment 4     UKI ELEMENTARY AND SECONDARY SCHOOLS  \n",
              "228419                 Segment 4     UKI ELEMENTARY AND SECONDARY SCHOOLS  \n",
              "\n",
              "[5365 rows x 5 columns]"
            ]
          },
          "execution_count": 43,
          "metadata": {},
          "output_type": "execute_result"
        }
      ],
      "source": [
        "# Create a boolean mask to check for Umlaut characters\n",
        "mask = df['OSC Account Name'].apply(lambda x: x != unidecode(x))\n",
        "\n",
        "# Use the mask to filter and print the rows with Umlaut characters\n",
        "rows_with_umlaut = df[mask]\n",
        "rows_with_umlaut"
      ]
    },
    {
      "cell_type": "code",
      "execution_count": 44,
      "metadata": {
        "id": "mGKq6HPgHoxO"
      },
      "outputs": [],
      "source": [
        "df['OSC Account Name'] = df['OSC Account Name'].apply(unidecode)"
      ]
    },
    {
      "cell_type": "code",
      "execution_count": 45,
      "metadata": {
        "colab": {
          "base_uri": "https://localhost:8080/",
          "height": 53
        },
        "id": "-VBWYy6QHozp",
        "outputId": "df0c9ade-a52d-4adb-e471-7bc823e86eab"
      },
      "outputs": [
        {
          "data": {
            "text/html": [
              "<div>\n",
              "<style scoped>\n",
              "    .dataframe tbody tr th:only-of-type {\n",
              "        vertical-align: middle;\n",
              "    }\n",
              "\n",
              "    .dataframe tbody tr th {\n",
              "        vertical-align: top;\n",
              "    }\n",
              "\n",
              "    .dataframe thead th {\n",
              "        text-align: right;\n",
              "    }\n",
              "</style>\n",
              "<table border=\"1\" class=\"dataframe\">\n",
              "  <thead>\n",
              "    <tr style=\"text-align: right;\">\n",
              "      <th></th>\n",
              "      <th>CDB ID</th>\n",
              "      <th>OSC Account Name</th>\n",
              "      <th>Country Name</th>\n",
              "      <th>FY24 Account Segmentation</th>\n",
              "      <th>DAAL NB</th>\n",
              "    </tr>\n",
              "  </thead>\n",
              "  <tbody>\n",
              "  </tbody>\n",
              "</table>\n",
              "</div>"
            ],
            "text/plain": [
              "Empty DataFrame\n",
              "Columns: [CDB ID, OSC Account Name, Country Name, FY24 Account Segmentation, DAAL NB]\n",
              "Index: []"
            ]
          },
          "execution_count": 45,
          "metadata": {},
          "output_type": "execute_result"
        }
      ],
      "source": [
        "# Create a boolean mask to check for Umlaut characters\n",
        "mask = df['OSC Account Name'].apply(lambda x: x != unidecode(x))\n",
        "\n",
        "# Use the mask to filter and print the rows with Umlaut characters\n",
        "rows_with_umlaut = df[mask]\n",
        "rows_with_umlaut"
      ]
    },
    {
      "cell_type": "code",
      "execution_count": 46,
      "metadata": {},
      "outputs": [
        {
          "data": {
            "text/html": [
              "<div>\n",
              "<style scoped>\n",
              "    .dataframe tbody tr th:only-of-type {\n",
              "        vertical-align: middle;\n",
              "    }\n",
              "\n",
              "    .dataframe tbody tr th {\n",
              "        vertical-align: top;\n",
              "    }\n",
              "\n",
              "    .dataframe thead th {\n",
              "        text-align: right;\n",
              "    }\n",
              "</style>\n",
              "<table border=\"1\" class=\"dataframe\">\n",
              "  <thead>\n",
              "    <tr style=\"text-align: right;\">\n",
              "      <th></th>\n",
              "      <th>CDB ID</th>\n",
              "      <th>OSC Account Name</th>\n",
              "      <th>Country Name</th>\n",
              "      <th>FY24 Account Segmentation</th>\n",
              "      <th>DAAL NB</th>\n",
              "    </tr>\n",
              "  </thead>\n",
              "  <tbody>\n",
              "    <tr>\n",
              "      <th>15</th>\n",
              "      <td>5874935</td>\n",
              "      <td>ESCUELA SUPERIOR DE ARTES DE YUCATAN</td>\n",
              "      <td>MX</td>\n",
              "      <td>Longtail</td>\n",
              "      <td>ÃÂ ESCUELA SUPERIOR DE ARTES DE YUCATAN</td>\n",
              "    </tr>\n",
              "    <tr>\n",
              "      <th>16</th>\n",
              "      <td>1259324</td>\n",
              "      <td>MILLINGTON FIRST BAPTIST CHURCH</td>\n",
              "      <td>US</td>\n",
              "      <td>Longtail</td>\n",
              "      <td>ÃÂ MILLINGTON FIRST BAPTIST CHURCH</td>\n",
              "    </tr>\n",
              "    <tr>\n",
              "      <th>17</th>\n",
              "      <td>574225</td>\n",
              "      <td>PROALCO SAS</td>\n",
              "      <td>CO</td>\n",
              "      <td>Longtail</td>\n",
              "      <td>ÃÂ PROALCO SAS</td>\n",
              "    </tr>\n",
              "    <tr>\n",
              "      <th>27</th>\n",
              "      <td>663876</td>\n",
              "      <td>0GARIB INFORMATICA E ELETRONICA LTDA</td>\n",
              "      <td>BR</td>\n",
              "      <td>Longtail</td>\n",
              "      <td>0GARIB INFORMÃÂTICA E ELETRONICA LTDA</td>\n",
              "    </tr>\n",
              "    <tr>\n",
              "      <th>130</th>\n",
              "      <td>1644694</td>\n",
              "      <td>24 7 INTELIGENCIA DIGITAL LTDA</td>\n",
              "      <td>BR</td>\n",
              "      <td>Longtail</td>\n",
              "      <td>24 7 INTELIGÃÂNCIA DIGITAL LTDA</td>\n",
              "    </tr>\n",
              "    <tr>\n",
              "      <th>...</th>\n",
              "      <td>...</td>\n",
              "      <td>...</td>\n",
              "      <td>...</td>\n",
              "      <td>...</td>\n",
              "      <td>...</td>\n",
              "    </tr>\n",
              "    <tr>\n",
              "      <th>224201</th>\n",
              "      <td>2618911</td>\n",
              "      <td>NURNBERGER ALLGEMEINE VERSICHERUNGS AG</td>\n",
              "      <td>DE</td>\n",
              "      <td>Segment 2</td>\n",
              "      <td>NÜRNBERGER BETEILIGUNGS-AG</td>\n",
              "    </tr>\n",
              "    <tr>\n",
              "      <th>224202</th>\n",
              "      <td>1429950</td>\n",
              "      <td>NURNBERGER ALLGEMEINE VERSICHERUNGS-AG</td>\n",
              "      <td>DE</td>\n",
              "      <td>Segment 2</td>\n",
              "      <td>NÜRNBERGER BETEILIGUNGS-AG</td>\n",
              "    </tr>\n",
              "    <tr>\n",
              "      <th>224203</th>\n",
              "      <td>1173167</td>\n",
              "      <td>NURNBERGER LEBENSVERSICHERUNG AG</td>\n",
              "      <td>DE</td>\n",
              "      <td>Segment 2</td>\n",
              "      <td>NÜRNBERGER BETEILIGUNGS-AG</td>\n",
              "    </tr>\n",
              "    <tr>\n",
              "      <th>224204</th>\n",
              "      <td>6762722</td>\n",
              "      <td>NURNBERGER VERSICHERUNG</td>\n",
              "      <td>DE</td>\n",
              "      <td>Segment 2</td>\n",
              "      <td>NÜRNBERGER BETEILIGUNGS-AG</td>\n",
              "    </tr>\n",
              "    <tr>\n",
              "      <th>224205</th>\n",
              "      <td>6832979</td>\n",
              "      <td>SCHORGHUBER CORPORATE IT GMBH</td>\n",
              "      <td>DE</td>\n",
              "      <td>Segment 2</td>\n",
              "      <td>SCHÖRGHUBER UNTERNEHMENSGRUPPE (SUG)</td>\n",
              "    </tr>\n",
              "  </tbody>\n",
              "</table>\n",
              "<p>3226 rows × 5 columns</p>\n",
              "</div>"
            ],
            "text/plain": [
              "         CDB ID                        OSC Account Name Country Name  \\\n",
              "15      5874935    ESCUELA SUPERIOR DE ARTES DE YUCATAN           MX   \n",
              "16      1259324         MILLINGTON FIRST BAPTIST CHURCH           US   \n",
              "17       574225                             PROALCO SAS           CO   \n",
              "27       663876    0GARIB INFORMATICA E ELETRONICA LTDA           BR   \n",
              "130     1644694          24 7 INTELIGENCIA DIGITAL LTDA           BR   \n",
              "...         ...                                     ...          ...   \n",
              "224201  2618911  NURNBERGER ALLGEMEINE VERSICHERUNGS AG           DE   \n",
              "224202  1429950  NURNBERGER ALLGEMEINE VERSICHERUNGS-AG           DE   \n",
              "224203  1173167        NURNBERGER LEBENSVERSICHERUNG AG           DE   \n",
              "224204  6762722                 NURNBERGER VERSICHERUNG           DE   \n",
              "224205  6832979           SCHORGHUBER CORPORATE IT GMBH           DE   \n",
              "\n",
              "       FY24 Account Segmentation                                   DAAL NB  \n",
              "15                      Longtail  ÃÂ ESCUELA SUPERIOR DE ARTES DE YUCATAN  \n",
              "16                      Longtail       ÃÂ MILLINGTON FIRST BAPTIST CHURCH  \n",
              "17                      Longtail                           ÃÂ PROALCO SAS  \n",
              "27                      Longtail   0GARIB INFORMÃÂTICA E ELETRONICA LTDA  \n",
              "130                     Longtail         24 7 INTELIGÃÂNCIA DIGITAL LTDA  \n",
              "...                          ...                                       ...  \n",
              "224201                 Segment 2                NÜRNBERGER BETEILIGUNGS-AG  \n",
              "224202                 Segment 2                NÜRNBERGER BETEILIGUNGS-AG  \n",
              "224203                 Segment 2                NÜRNBERGER BETEILIGUNGS-AG  \n",
              "224204                 Segment 2                NÜRNBERGER BETEILIGUNGS-AG  \n",
              "224205                 Segment 2      SCHÖRGHUBER UNTERNEHMENSGRUPPE (SUG)  \n",
              "\n",
              "[3226 rows x 5 columns]"
            ]
          },
          "execution_count": 46,
          "metadata": {},
          "output_type": "execute_result"
        }
      ],
      "source": [
        "# Create a boolean mask to check for Umlaut characters\n",
        "mask = df['DAAL NB'].apply(lambda x: x != unidecode(x))\n",
        "\n",
        "# Use the mask to filter and print the rows with Umlaut characters\n",
        "rows_with_umlaut = df[mask]\n",
        "rows_with_umlaut"
      ]
    },
    {
      "cell_type": "code",
      "execution_count": 47,
      "metadata": {},
      "outputs": [],
      "source": [
        "df['DAAL NB'] = df['DAAL NB'].apply(unidecode)"
      ]
    },
    {
      "cell_type": "code",
      "execution_count": 48,
      "metadata": {},
      "outputs": [
        {
          "data": {
            "text/html": [
              "<div>\n",
              "<style scoped>\n",
              "    .dataframe tbody tr th:only-of-type {\n",
              "        vertical-align: middle;\n",
              "    }\n",
              "\n",
              "    .dataframe tbody tr th {\n",
              "        vertical-align: top;\n",
              "    }\n",
              "\n",
              "    .dataframe thead th {\n",
              "        text-align: right;\n",
              "    }\n",
              "</style>\n",
              "<table border=\"1\" class=\"dataframe\">\n",
              "  <thead>\n",
              "    <tr style=\"text-align: right;\">\n",
              "      <th></th>\n",
              "      <th>CDB ID</th>\n",
              "      <th>OSC Account Name</th>\n",
              "      <th>Country Name</th>\n",
              "      <th>FY24 Account Segmentation</th>\n",
              "      <th>DAAL NB</th>\n",
              "    </tr>\n",
              "  </thead>\n",
              "  <tbody>\n",
              "  </tbody>\n",
              "</table>\n",
              "</div>"
            ],
            "text/plain": [
              "Empty DataFrame\n",
              "Columns: [CDB ID, OSC Account Name, Country Name, FY24 Account Segmentation, DAAL NB]\n",
              "Index: []"
            ]
          },
          "execution_count": 48,
          "metadata": {},
          "output_type": "execute_result"
        }
      ],
      "source": [
        "# Create a boolean mask to check for Umlaut characters\n",
        "mask = df['DAAL NB'].apply(lambda x: x != unidecode(x))\n",
        "\n",
        "# Use the mask to filter and print the rows with Umlaut characters\n",
        "rows_with_umlaut = df[mask]\n",
        "rows_with_umlaut"
      ]
    },
    {
      "cell_type": "markdown",
      "metadata": {
        "id": "bzusy8XVL8Dm"
      },
      "source": [
        "## Remove Stop Words:\n",
        "### To remove stop words, you'll need to define a list of stop words and then filter them out from the 'OSC Account Name' column:"
      ]
    },
    {
      "cell_type": "code",
      "execution_count": 49,
      "metadata": {
        "id": "cXXmqbitHo4q"
      },
      "outputs": [],
      "source": [
        "# Convert 'Name' column values to uppercase\n",
        "df['OSC Account Name'] = df['OSC Account Name'].str.upper()"
      ]
    },
    {
      "cell_type": "code",
      "execution_count": 50,
      "metadata": {},
      "outputs": [],
      "source": [
        "df['OSC Account Name'] = df['OSC Account Name'].str.replace('[.,-]', '', regex=True)\n",
        "df['DAAL NB'] = df['DAAL NB'].str.replace('[.,-]', '', regex=True)"
      ]
    },
    {
      "cell_type": "code",
      "execution_count": 51,
      "metadata": {
        "id": "pzCq3t5RHo8M"
      },
      "outputs": [],
      "source": [
        "stop_words = [\".\",\",\",\"PVT\",\"PRIVATE\", \"LIMITED\",'PLC',\"and\", \"THE\",\"INC\",'CO','COLTD','LTD','SA', 'S/A','PTE','BHD','CORP','CORPORATION','S', 'DE', 'RL',\n",
        "              'DE', 'CV','&','COMPANY', 'LTDA','LLC',...]  # Add more stop words as needed\n",
        "\n",
        "# Remove stop words from the 'Account(Customer_Name)' column\n",
        "df['OSC Account Name'] = df['OSC Account Name'].apply( lambda x: ' '.join([word for word in x.split() if word not in stop_words]) )\n"
      ]
    },
    {
      "cell_type": "code",
      "execution_count": 52,
      "metadata": {},
      "outputs": [],
      "source": [
        "# Remove stop words from the 'Account(Customer_Name)' column\n",
        "df['DAAL NB'] = df['DAAL NB'].apply( lambda x: ' '.join([word for word in x.split() if word not in stop_words]) )"
      ]
    },
    {
      "cell_type": "code",
      "execution_count": 53,
      "metadata": {
        "colab": {
          "base_uri": "https://localhost:8080/",
          "height": 81
        },
        "id": "w16zZB7_fkgP",
        "outputId": "1b80b93c-3287-4313-a128-01dcfe06ecd5"
      },
      "outputs": [
        {
          "data": {
            "text/html": [
              "<div>\n",
              "<style scoped>\n",
              "    .dataframe tbody tr th:only-of-type {\n",
              "        vertical-align: middle;\n",
              "    }\n",
              "\n",
              "    .dataframe tbody tr th {\n",
              "        vertical-align: top;\n",
              "    }\n",
              "\n",
              "    .dataframe thead th {\n",
              "        text-align: right;\n",
              "    }\n",
              "</style>\n",
              "<table border=\"1\" class=\"dataframe\">\n",
              "  <thead>\n",
              "    <tr style=\"text-align: right;\">\n",
              "      <th></th>\n",
              "      <th>CDB ID</th>\n",
              "      <th>OSC Account Name</th>\n",
              "      <th>Country Name</th>\n",
              "      <th>FY24 Account Segmentation</th>\n",
              "      <th>DAAL NB</th>\n",
              "    </tr>\n",
              "  </thead>\n",
              "  <tbody>\n",
              "  </tbody>\n",
              "</table>\n",
              "</div>"
            ],
            "text/plain": [
              "Empty DataFrame\n",
              "Columns: [CDB ID, OSC Account Name, Country Name, FY24 Account Segmentation, DAAL NB]\n",
              "Index: []"
            ]
          },
          "execution_count": 53,
          "metadata": {},
          "output_type": "execute_result"
        }
      ],
      "source": [
        "# Find the row with CDB_ID == 12345\n",
        "specific_row = df[df['CDB ID'] == 7434745]\n",
        "specific_row"
      ]
    },
    {
      "cell_type": "code",
      "execution_count": 54,
      "metadata": {
        "colab": {
          "base_uri": "https://localhost:8080/",
          "height": 53
        },
        "id": "0kVyF3JhMIxD",
        "outputId": "71a1e660-a9b1-4105-9dfe-77c21c32faf8"
      },
      "outputs": [
        {
          "data": {
            "text/html": [
              "<div>\n",
              "<style scoped>\n",
              "    .dataframe tbody tr th:only-of-type {\n",
              "        vertical-align: middle;\n",
              "    }\n",
              "\n",
              "    .dataframe tbody tr th {\n",
              "        vertical-align: top;\n",
              "    }\n",
              "\n",
              "    .dataframe thead th {\n",
              "        text-align: right;\n",
              "    }\n",
              "</style>\n",
              "<table border=\"1\" class=\"dataframe\">\n",
              "  <thead>\n",
              "    <tr style=\"text-align: right;\">\n",
              "      <th></th>\n",
              "      <th>CDB ID</th>\n",
              "      <th>OSC Account Name</th>\n",
              "      <th>Country Name</th>\n",
              "      <th>FY24 Account Segmentation</th>\n",
              "      <th>DAAL NB</th>\n",
              "    </tr>\n",
              "  </thead>\n",
              "  <tbody>\n",
              "  </tbody>\n",
              "</table>\n",
              "</div>"
            ],
            "text/plain": [
              "Empty DataFrame\n",
              "Columns: [CDB ID, OSC Account Name, Country Name, FY24 Account Segmentation, DAAL NB]\n",
              "Index: []"
            ]
          },
          "execution_count": 54,
          "metadata": {},
          "output_type": "execute_result"
        }
      ],
      "source": [
        "# Find the row with CDB_ID == 12345\n",
        "specific_row = df[df['CDB ID'] == 1142871]\n",
        "specific_row"
      ]
    },
    {
      "cell_type": "code",
      "execution_count": 55,
      "metadata": {
        "id": "mXI4zp7aMI0e"
      },
      "outputs": [
        {
          "data": {
            "text/html": [
              "<div>\n",
              "<style scoped>\n",
              "    .dataframe tbody tr th:only-of-type {\n",
              "        vertical-align: middle;\n",
              "    }\n",
              "\n",
              "    .dataframe tbody tr th {\n",
              "        vertical-align: top;\n",
              "    }\n",
              "\n",
              "    .dataframe thead th {\n",
              "        text-align: right;\n",
              "    }\n",
              "</style>\n",
              "<table border=\"1\" class=\"dataframe\">\n",
              "  <thead>\n",
              "    <tr style=\"text-align: right;\">\n",
              "      <th></th>\n",
              "      <th>CDB ID</th>\n",
              "      <th>OSC Account Name</th>\n",
              "      <th>Country Name</th>\n",
              "      <th>FY24 Account Segmentation</th>\n",
              "      <th>DAAL NB</th>\n",
              "    </tr>\n",
              "  </thead>\n",
              "  <tbody>\n",
              "    <tr>\n",
              "      <th>0</th>\n",
              "      <td>7425027</td>\n",
              "      <td>1976</td>\n",
              "      <td>PE</td>\n",
              "      <td>Longtail</td>\n",
              "      <td>1976</td>\n",
              "    </tr>\n",
              "    <tr>\n",
              "      <th>1</th>\n",
              "      <td>523314</td>\n",
              "      <td>37135</td>\n",
              "      <td>DO</td>\n",
              "      <td>Longtail</td>\n",
              "      <td>37135</td>\n",
              "    </tr>\n",
              "    <tr>\n",
              "      <th>2</th>\n",
              "      <td>1080194</td>\n",
              "      <td>44988</td>\n",
              "      <td>AR</td>\n",
              "      <td>Longtail</td>\n",
              "      <td>44258</td>\n",
              "    </tr>\n",
              "    <tr>\n",
              "      <th>3</th>\n",
              "      <td>7561885</td>\n",
              "      <td>50624412411</td>\n",
              "      <td>CR</td>\n",
              "      <td>Longtail</td>\n",
              "      <td>50624412411</td>\n",
              "    </tr>\n",
              "    <tr>\n",
              "      <th>4</th>\n",
              "      <td>7434745</td>\n",
              "      <td>ALLIANZ TECHNOLOGY OF AMERICA</td>\n",
              "      <td>US</td>\n",
              "      <td>Segment 2</td>\n",
              "      <td>ALLIANZ</td>\n",
              "    </tr>\n",
              "    <tr>\n",
              "      <th>...</th>\n",
              "      <td>...</td>\n",
              "      <td>...</td>\n",
              "      <td>...</td>\n",
              "      <td>...</td>\n",
              "      <td>...</td>\n",
              "    </tr>\n",
              "    <tr>\n",
              "      <th>229645</th>\n",
              "      <td>7568158</td>\n",
              "      <td>WREXHAM COUNCIL</td>\n",
              "      <td>GB</td>\n",
              "      <td>Segment 4</td>\n",
              "      <td>UKI COUNCIL</td>\n",
              "    </tr>\n",
              "    <tr>\n",
              "      <th>229646</th>\n",
              "      <td>647360</td>\n",
              "      <td>WYCHAVON DISTRICT COUNCIL</td>\n",
              "      <td>GB</td>\n",
              "      <td>Segment 4</td>\n",
              "      <td>UKI COUNCIL</td>\n",
              "    </tr>\n",
              "    <tr>\n",
              "      <th>229649</th>\n",
              "      <td>1316172</td>\n",
              "      <td>WYCOMBE DISTRICT COUNCIL</td>\n",
              "      <td>GB</td>\n",
              "      <td>Segment 4</td>\n",
              "      <td>UKI COUNCIL</td>\n",
              "    </tr>\n",
              "    <tr>\n",
              "      <th>229650</th>\n",
              "      <td>1473192</td>\n",
              "      <td>WYRE BOROUGH COUNCIL</td>\n",
              "      <td>GB</td>\n",
              "      <td>Segment 4</td>\n",
              "      <td>UKI COUNCIL</td>\n",
              "    </tr>\n",
              "    <tr>\n",
              "      <th>229651</th>\n",
              "      <td>956771</td>\n",
              "      <td>WYRE FOREST DISTRICT COUNCIL</td>\n",
              "      <td>GB</td>\n",
              "      <td>Segment 4</td>\n",
              "      <td>UKI COUNCIL</td>\n",
              "    </tr>\n",
              "  </tbody>\n",
              "</table>\n",
              "<p>134227 rows × 5 columns</p>\n",
              "</div>"
            ],
            "text/plain": [
              "         CDB ID               OSC Account Name Country Name  \\\n",
              "0       7425027                           1976           PE   \n",
              "1        523314                          37135           DO   \n",
              "2       1080194                          44988           AR   \n",
              "3       7561885                    50624412411           CR   \n",
              "4       7434745  ALLIANZ TECHNOLOGY OF AMERICA           US   \n",
              "...         ...                            ...          ...   \n",
              "229645  7568158                WREXHAM COUNCIL           GB   \n",
              "229646   647360      WYCHAVON DISTRICT COUNCIL           GB   \n",
              "229649  1316172       WYCOMBE DISTRICT COUNCIL           GB   \n",
              "229650  1473192           WYRE BOROUGH COUNCIL           GB   \n",
              "229651   956771   WYRE FOREST DISTRICT COUNCIL           GB   \n",
              "\n",
              "       FY24 Account Segmentation      DAAL NB  \n",
              "0                       Longtail         1976  \n",
              "1                       Longtail        37135  \n",
              "2                       Longtail        44258  \n",
              "3                       Longtail  50624412411  \n",
              "4                      Segment 2      ALLIANZ  \n",
              "...                          ...          ...  \n",
              "229645                 Segment 4  UKI COUNCIL  \n",
              "229646                 Segment 4  UKI COUNCIL  \n",
              "229649                 Segment 4  UKI COUNCIL  \n",
              "229650                 Segment 4  UKI COUNCIL  \n",
              "229651                 Segment 4  UKI COUNCIL  \n",
              "\n",
              "[134227 rows x 5 columns]"
            ]
          },
          "execution_count": 55,
          "metadata": {},
          "output_type": "execute_result"
        }
      ],
      "source": [
        "df"
      ]
    },
    {
      "cell_type": "code",
      "execution_count": 56,
      "metadata": {},
      "outputs": [
        {
          "name": "stdout",
          "output_type": "stream",
          "text": [
            "Number of duplicate rows: 7169\n"
          ]
        }
      ],
      "source": [
        "# Check for duplicate rows without considering the 'CDB ID' column\n",
        "columns_to_check = ['OSC Account Name', 'Country Name', 'FY24 Account Segmentation', 'DAAL NB']\n",
        "duplicate_rows = df.duplicated(subset=columns_to_check, keep='first')\n",
        "\n",
        "# Count the number of duplicate rows\n",
        "num_duplicates = duplicate_rows.sum()\n",
        "\n",
        "print(f\"Number of duplicate rows: {num_duplicates}\")"
      ]
    },
    {
      "cell_type": "code",
      "execution_count": 57,
      "metadata": {},
      "outputs": [
        {
          "name": "stdout",
          "output_type": "stream",
          "text": [
            "Duplicate rows without considering 'CDB ID' column:\n"
          ]
        },
        {
          "data": {
            "text/html": [
              "<div>\n",
              "<style scoped>\n",
              "    .dataframe tbody tr th:only-of-type {\n",
              "        vertical-align: middle;\n",
              "    }\n",
              "\n",
              "    .dataframe tbody tr th {\n",
              "        vertical-align: top;\n",
              "    }\n",
              "\n",
              "    .dataframe thead th {\n",
              "        text-align: right;\n",
              "    }\n",
              "</style>\n",
              "<table border=\"1\" class=\"dataframe\">\n",
              "  <thead>\n",
              "    <tr style=\"text-align: right;\">\n",
              "      <th></th>\n",
              "      <th>CDB ID</th>\n",
              "      <th>OSC Account Name</th>\n",
              "      <th>Country Name</th>\n",
              "      <th>FY24 Account Segmentation</th>\n",
              "      <th>DAAL NB</th>\n",
              "    </tr>\n",
              "  </thead>\n",
              "  <tbody>\n",
              "    <tr>\n",
              "      <th>105</th>\n",
              "      <td>1152296</td>\n",
              "      <td>20 20 FINANCIAL CONSULTING</td>\n",
              "      <td>US</td>\n",
              "      <td>Longtail</td>\n",
              "      <td>20/20 FINANCIAL CONSULTING</td>\n",
              "    </tr>\n",
              "    <tr>\n",
              "      <th>204</th>\n",
              "      <td>384758</td>\n",
              "      <td>3M</td>\n",
              "      <td>US</td>\n",
              "      <td>Segment 3</td>\n",
              "      <td>3M</td>\n",
              "    </tr>\n",
              "    <tr>\n",
              "      <th>312</th>\n",
              "      <td>2510275</td>\n",
              "      <td>7 ELEVEN MEXICO</td>\n",
              "      <td>MX</td>\n",
              "      <td>Segment 3</td>\n",
              "      <td>7 ELEVEN</td>\n",
              "    </tr>\n",
              "    <tr>\n",
              "      <th>346</th>\n",
              "      <td>61892</td>\n",
              "      <td>99 CENTS ONLY STORES</td>\n",
              "      <td>US</td>\n",
              "      <td>Longtail</td>\n",
              "      <td>99 CENTS ONLY STORES</td>\n",
              "    </tr>\n",
              "    <tr>\n",
              "      <th>354</th>\n",
              "      <td>835401</td>\n",
              "      <td>9TH CIRCUIT COURT</td>\n",
              "      <td>US</td>\n",
              "      <td>Segment 1</td>\n",
              "      <td>US COURTS</td>\n",
              "    </tr>\n",
              "    <tr>\n",
              "      <th>...</th>\n",
              "      <td>...</td>\n",
              "      <td>...</td>\n",
              "      <td>...</td>\n",
              "      <td>...</td>\n",
              "      <td>...</td>\n",
              "    </tr>\n",
              "    <tr>\n",
              "      <th>228559</th>\n",
              "      <td>1160687</td>\n",
              "      <td>HOLLINS TECHNOLOGY COLLEGE</td>\n",
              "      <td>GB</td>\n",
              "      <td>Segment 4</td>\n",
              "      <td>UKI ELEMENTARY AND SECONDARY SCHOOLS</td>\n",
              "    </tr>\n",
              "    <tr>\n",
              "      <th>228566</th>\n",
              "      <td>593976</td>\n",
              "      <td>KINGS SCHOOL</td>\n",
              "      <td>GB</td>\n",
              "      <td>Segment 4</td>\n",
              "      <td>UKI ELEMENTARY AND SECONDARY SCHOOLS</td>\n",
              "    </tr>\n",
              "    <tr>\n",
              "      <th>228600</th>\n",
              "      <td>1521703</td>\n",
              "      <td>SWANAGE SCHOOL</td>\n",
              "      <td>GB</td>\n",
              "      <td>Segment 4</td>\n",
              "      <td>UKI ELEMENTARY AND SECONDARY SCHOOLS</td>\n",
              "    </tr>\n",
              "    <tr>\n",
              "      <th>229354</th>\n",
              "      <td>956442</td>\n",
              "      <td>PENNINE ACUTE HOSPITALS NHS TRUST</td>\n",
              "      <td>GB</td>\n",
              "      <td>Segment 4</td>\n",
              "      <td>UKI NATIONAL HEALTH SERVICE (NHS)</td>\n",
              "    </tr>\n",
              "    <tr>\n",
              "      <th>229392</th>\n",
              "      <td>6756541</td>\n",
              "      <td>WRIGHTINGTON WIGAN LEIGH NHS</td>\n",
              "      <td>GB</td>\n",
              "      <td>Segment 4</td>\n",
              "      <td>UKI NATIONAL HEALTH SERVICE (NHS)</td>\n",
              "    </tr>\n",
              "  </tbody>\n",
              "</table>\n",
              "<p>7169 rows × 5 columns</p>\n",
              "</div>"
            ],
            "text/plain": [
              "         CDB ID                   OSC Account Name Country Name  \\\n",
              "105     1152296         20 20 FINANCIAL CONSULTING           US   \n",
              "204      384758                                 3M           US   \n",
              "312     2510275                    7 ELEVEN MEXICO           MX   \n",
              "346       61892               99 CENTS ONLY STORES           US   \n",
              "354      835401                  9TH CIRCUIT COURT           US   \n",
              "...         ...                                ...          ...   \n",
              "228559  1160687         HOLLINS TECHNOLOGY COLLEGE           GB   \n",
              "228566   593976                       KINGS SCHOOL           GB   \n",
              "228600  1521703                     SWANAGE SCHOOL           GB   \n",
              "229354   956442  PENNINE ACUTE HOSPITALS NHS TRUST           GB   \n",
              "229392  6756541       WRIGHTINGTON WIGAN LEIGH NHS           GB   \n",
              "\n",
              "       FY24 Account Segmentation                               DAAL NB  \n",
              "105                     Longtail            20/20 FINANCIAL CONSULTING  \n",
              "204                    Segment 3                                    3M  \n",
              "312                    Segment 3                              7 ELEVEN  \n",
              "346                     Longtail                  99 CENTS ONLY STORES  \n",
              "354                    Segment 1                             US COURTS  \n",
              "...                          ...                                   ...  \n",
              "228559                 Segment 4  UKI ELEMENTARY AND SECONDARY SCHOOLS  \n",
              "228566                 Segment 4  UKI ELEMENTARY AND SECONDARY SCHOOLS  \n",
              "228600                 Segment 4  UKI ELEMENTARY AND SECONDARY SCHOOLS  \n",
              "229354                 Segment 4     UKI NATIONAL HEALTH SERVICE (NHS)  \n",
              "229392                 Segment 4     UKI NATIONAL HEALTH SERVICE (NHS)  \n",
              "\n",
              "[7169 rows x 5 columns]"
            ]
          },
          "execution_count": 57,
          "metadata": {},
          "output_type": "execute_result"
        }
      ],
      "source": [
        "# Filter and print the duplicate rows\n",
        "duplicate_df = df[duplicate_rows]\n",
        "print(\"Duplicate rows without considering 'CDB ID' column:\")\n",
        "duplicate_df"
      ]
    },
    {
      "cell_type": "code",
      "execution_count": 58,
      "metadata": {},
      "outputs": [
        {
          "data": {
            "text/plain": [
              "(134227, 5)"
            ]
          },
          "execution_count": 58,
          "metadata": {},
          "output_type": "execute_result"
        }
      ],
      "source": [
        "df.shape"
      ]
    },
    {
      "cell_type": "code",
      "execution_count": 59,
      "metadata": {},
      "outputs": [],
      "source": [
        "# Drop duplicated rows keeping the first occurrence without considering first column\n",
        "columns_to_check = ['OSC Account Name', 'Country Name', 'FY24 Account Segmentation', 'DAAL NB']\n",
        "\n",
        "df = df.drop_duplicates(subset=columns_to_check, keep='first')"
      ]
    },
    {
      "cell_type": "code",
      "execution_count": 60,
      "metadata": {},
      "outputs": [
        {
          "data": {
            "text/plain": [
              "(127058, 5)"
            ]
          },
          "execution_count": 60,
          "metadata": {},
          "output_type": "execute_result"
        }
      ],
      "source": [
        "df.shape"
      ]
    },
    {
      "cell_type": "code",
      "execution_count": 61,
      "metadata": {},
      "outputs": [],
      "source": [
        "df.to_csv('../output/cleaned_daal2.csv', index=False)"
      ]
    },
    {
      "cell_type": "code",
      "execution_count": null,
      "metadata": {},
      "outputs": [],
      "source": []
    }
  ],
  "metadata": {
    "colab": {
      "provenance": []
    },
    "kernelspec": {
      "display_name": "Python 3",
      "name": "python3"
    },
    "language_info": {
      "codemirror_mode": {
        "name": "ipython",
        "version": 3
      },
      "file_extension": ".py",
      "mimetype": "text/x-python",
      "name": "python",
      "nbconvert_exporter": "python",
      "pygments_lexer": "ipython3",
      "version": "0.0.0"
    }
  },
  "nbformat": 4,
  "nbformat_minor": 0
}
