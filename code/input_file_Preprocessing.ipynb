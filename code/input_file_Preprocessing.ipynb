{
  "cells": [
    {
      "cell_type": "code",
      "execution_count": 2,
      "id": "53a3cf51",
      "metadata": {
        "colab": {
          "base_uri": "https://localhost:8080/"
        },
        "id": "53a3cf51",
        "outputId": "aae87d04-3587-4c4a-c116-eee439c949df"
      },
      "outputs": [
        {
          "name": "stdout",
          "output_type": "stream",
          "text": [
            "Defaulting to user installation because normal site-packages is not writeable\n",
            "Requirement already satisfied: unidecode in c:\\users\\lenovo\\appdata\\roaming\\python\\python311\\site-packages (1.3.7)\n",
            "Note: you may need to restart the kernel to use updated packages.\n"
          ]
        },
        {
          "name": "stderr",
          "output_type": "stream",
          "text": [
            "\n",
            "[notice] A new release of pip is available: 23.1.2 -> 23.3.1\n",
            "[notice] To update, run: python.exe -m pip install --upgrade pip\n"
          ]
        }
      ],
      "source": [
        "pip install unidecode"
      ]
    },
    {
      "cell_type": "code",
      "execution_count": 3,
      "id": "48b8aa53",
      "metadata": {
        "colab": {
          "base_uri": "https://localhost:8080/",
          "height": 363
        },
        "id": "48b8aa53",
        "outputId": "dea1c5db-3a78-42b6-ddc5-ca858463d79d"
      },
      "outputs": [
        {
          "data": {
            "text/html": [
              "<div>\n",
              "<style scoped>\n",
              "    .dataframe tbody tr th:only-of-type {\n",
              "        vertical-align: middle;\n",
              "    }\n",
              "\n",
              "    .dataframe tbody tr th {\n",
              "        vertical-align: top;\n",
              "    }\n",
              "\n",
              "    .dataframe thead th {\n",
              "        text-align: right;\n",
              "    }\n",
              "</style>\n",
              "<table border=\"1\" class=\"dataframe\">\n",
              "  <thead>\n",
              "    <tr style=\"text-align: right;\">\n",
              "      <th></th>\n",
              "      <th>CDB_ID</th>\n",
              "      <th>Party_NumberĿ</th>\n",
              "      <th>Account(Customer_Name)</th>\n",
              "      <th>Country_Code_Only</th>\n",
              "    </tr>\n",
              "  </thead>\n",
              "  <tbody>\n",
              "    <tr>\n",
              "      <th>0</th>\n",
              "      <td>1</td>\n",
              "      <td>230401</td>\n",
              "      <td>FLEXERA SOFTWARE INC</td>\n",
              "      <td>US</td>\n",
              "    </tr>\n",
              "    <tr>\n",
              "      <th>1</th>\n",
              "      <td>2</td>\n",
              "      <td>230402</td>\n",
              "      <td>TIANJIN SWCX TECHNOLOGY CORP., LTD</td>\n",
              "      <td>CN</td>\n",
              "    </tr>\n",
              "    <tr>\n",
              "      <th>2</th>\n",
              "      <td>3</td>\n",
              "      <td>230403</td>\n",
              "      <td>SUNGARD AVAILABILITY SERVICES</td>\n",
              "      <td>IN</td>\n",
              "    </tr>\n",
              "    <tr>\n",
              "      <th>3</th>\n",
              "      <td>4</td>\n",
              "      <td>230404</td>\n",
              "      <td>CLINSE LABS PRIVATE LIMITED</td>\n",
              "      <td>IN</td>\n",
              "    </tr>\n",
              "    <tr>\n",
              "      <th>4</th>\n",
              "      <td>5</td>\n",
              "      <td>230405</td>\n",
              "      <td>MYLAN INC</td>\n",
              "      <td>US</td>\n",
              "    </tr>\n",
              "    <tr>\n",
              "      <th>5</th>\n",
              "      <td>6</td>\n",
              "      <td>230406</td>\n",
              "      <td>COCHIN SHIPYARD LTD</td>\n",
              "      <td>IN</td>\n",
              "    </tr>\n",
              "    <tr>\n",
              "      <th>6</th>\n",
              "      <td>7</td>\n",
              "      <td>230407</td>\n",
              "      <td>KOTAK MAHINDRA GENERAL INSURANCE LTD</td>\n",
              "      <td>IN</td>\n",
              "    </tr>\n",
              "    <tr>\n",
              "      <th>7</th>\n",
              "      <td>8</td>\n",
              "      <td>230408</td>\n",
              "      <td>GUJARAT GAS COMPANY LIMITED</td>\n",
              "      <td>IN</td>\n",
              "    </tr>\n",
              "    <tr>\n",
              "      <th>8</th>\n",
              "      <td>9</td>\n",
              "      <td>230409</td>\n",
              "      <td>LLOYDS BANKING GROUP</td>\n",
              "      <td>IN</td>\n",
              "    </tr>\n",
              "    <tr>\n",
              "      <th>9</th>\n",
              "      <td>10</td>\n",
              "      <td>230410</td>\n",
              "      <td>RAJCOMP INFORMATION SERVICES LTD</td>\n",
              "      <td>IN</td>\n",
              "    </tr>\n",
              "  </tbody>\n",
              "</table>\n",
              "</div>"
            ],
            "text/plain": [
              "   CDB_ID  Party_NumberĿ                Account(Customer_Name)  \\\n",
              "0       1         230401                  FLEXERA SOFTWARE INC   \n",
              "1       2         230402    TIANJIN SWCX TECHNOLOGY CORP., LTD   \n",
              "2       3         230403         SUNGARD AVAILABILITY SERVICES   \n",
              "3       4         230404           CLINSE LABS PRIVATE LIMITED   \n",
              "4       5         230405                             MYLAN INC   \n",
              "5       6         230406                   COCHIN SHIPYARD LTD   \n",
              "6       7         230407  KOTAK MAHINDRA GENERAL INSURANCE LTD   \n",
              "7       8         230408           GUJARAT GAS COMPANY LIMITED   \n",
              "8       9         230409                  LLOYDS BANKING GROUP   \n",
              "9      10         230410      RAJCOMP INFORMATION SERVICES LTD   \n",
              "\n",
              "  Country_Code_Only  \n",
              "0                US  \n",
              "1                CN  \n",
              "2                IN  \n",
              "3                IN  \n",
              "4                US  \n",
              "5                IN  \n",
              "6                IN  \n",
              "7                IN  \n",
              "8                IN  \n",
              "9                IN  "
            ]
          },
          "execution_count": 3,
          "metadata": {},
          "output_type": "execute_result"
        }
      ],
      "source": [
        "import numpy as np\n",
        "import warnings\n",
        "warnings.filterwarnings('ignore')\n",
        "import pandas as pd\n",
        "data = pd.read_csv('../input/Input_file.csv')\n",
        "data.head(10)"
      ]
    },
    {
      "cell_type": "code",
      "execution_count": 4,
      "id": "7b1de3d5",
      "metadata": {
        "colab": {
          "base_uri": "https://localhost:8080/"
        },
        "id": "7b1de3d5",
        "outputId": "a60ad80e-1ae7-4cc9-a304-f91efa16ef81"
      },
      "outputs": [
        {
          "name": "stdout",
          "output_type": "stream",
          "text": [
            "<class 'pandas.core.frame.DataFrame'>\n",
            "RangeIndex: 5442 entries, 0 to 5441\n",
            "Data columns (total 4 columns):\n",
            " #   Column                  Non-Null Count  Dtype \n",
            "---  ------                  --------------  ----- \n",
            " 0   CDB_ID                  5442 non-null   int64 \n",
            " 1   Party_NumberĿ           5442 non-null   int64 \n",
            " 2   Account(Customer_Name)  5442 non-null   object\n",
            " 3   Country_Code_Only       5442 non-null   object\n",
            "dtypes: int64(2), object(2)\n",
            "memory usage: 170.2+ KB\n"
          ]
        }
      ],
      "source": [
        "data.info()"
      ]
    },
    {
      "cell_type": "code",
      "execution_count": 5,
      "id": "539c531b",
      "metadata": {
        "colab": {
          "base_uri": "https://localhost:8080/",
          "height": 423
        },
        "id": "539c531b",
        "outputId": "f69ca0d9-4bf6-4c30-9423-0cb78e6261fd"
      },
      "outputs": [
        {
          "data": {
            "text/html": [
              "<div>\n",
              "<style scoped>\n",
              "    .dataframe tbody tr th:only-of-type {\n",
              "        vertical-align: middle;\n",
              "    }\n",
              "\n",
              "    .dataframe tbody tr th {\n",
              "        vertical-align: top;\n",
              "    }\n",
              "\n",
              "    .dataframe thead th {\n",
              "        text-align: right;\n",
              "    }\n",
              "</style>\n",
              "<table border=\"1\" class=\"dataframe\">\n",
              "  <thead>\n",
              "    <tr style=\"text-align: right;\">\n",
              "      <th></th>\n",
              "      <th>CDB_ID</th>\n",
              "      <th>Party_NumberĿ</th>\n",
              "      <th>Account(Customer_Name)</th>\n",
              "      <th>Country_Code_Only</th>\n",
              "    </tr>\n",
              "  </thead>\n",
              "  <tbody>\n",
              "    <tr>\n",
              "      <th>0</th>\n",
              "      <td>1</td>\n",
              "      <td>230401</td>\n",
              "      <td>FLEXERA SOFTWARE INC</td>\n",
              "      <td>US</td>\n",
              "    </tr>\n",
              "    <tr>\n",
              "      <th>1</th>\n",
              "      <td>2</td>\n",
              "      <td>230402</td>\n",
              "      <td>TIANJIN SWCX TECHNOLOGY CORP., LTD</td>\n",
              "      <td>CN</td>\n",
              "    </tr>\n",
              "    <tr>\n",
              "      <th>2</th>\n",
              "      <td>3</td>\n",
              "      <td>230403</td>\n",
              "      <td>SUNGARD AVAILABILITY SERVICES</td>\n",
              "      <td>IN</td>\n",
              "    </tr>\n",
              "    <tr>\n",
              "      <th>3</th>\n",
              "      <td>4</td>\n",
              "      <td>230404</td>\n",
              "      <td>CLINSE LABS PRIVATE LIMITED</td>\n",
              "      <td>IN</td>\n",
              "    </tr>\n",
              "    <tr>\n",
              "      <th>4</th>\n",
              "      <td>5</td>\n",
              "      <td>230405</td>\n",
              "      <td>MYLAN INC</td>\n",
              "      <td>US</td>\n",
              "    </tr>\n",
              "    <tr>\n",
              "      <th>...</th>\n",
              "      <td>...</td>\n",
              "      <td>...</td>\n",
              "      <td>...</td>\n",
              "      <td>...</td>\n",
              "    </tr>\n",
              "    <tr>\n",
              "      <th>5437</th>\n",
              "      <td>37164</td>\n",
              "      <td>235838</td>\n",
              "      <td>JHU PRESS</td>\n",
              "      <td>US</td>\n",
              "    </tr>\n",
              "    <tr>\n",
              "      <th>5438</th>\n",
              "      <td>37191</td>\n",
              "      <td>235839</td>\n",
              "      <td>LG CHEM KOREA</td>\n",
              "      <td>KR</td>\n",
              "    </tr>\n",
              "    <tr>\n",
              "      <th>5439</th>\n",
              "      <td>37218</td>\n",
              "      <td>235840</td>\n",
              "      <td>FPT TELECOM INTERNATIONAL CO LTD</td>\n",
              "      <td>VN</td>\n",
              "    </tr>\n",
              "    <tr>\n",
              "      <th>5440</th>\n",
              "      <td>37245</td>\n",
              "      <td>235841</td>\n",
              "      <td>VIRGIN MANAGEMENT LTD</td>\n",
              "      <td>GB</td>\n",
              "    </tr>\n",
              "    <tr>\n",
              "      <th>5441</th>\n",
              "      <td>37272</td>\n",
              "      <td>235842</td>\n",
              "      <td>MITSUI CO SEAFOODSLTD</td>\n",
              "      <td>JP</td>\n",
              "    </tr>\n",
              "  </tbody>\n",
              "</table>\n",
              "<p>5442 rows × 4 columns</p>\n",
              "</div>"
            ],
            "text/plain": [
              "      CDB_ID  Party_NumberĿ              Account(Customer_Name)  \\\n",
              "0          1         230401                FLEXERA SOFTWARE INC   \n",
              "1          2         230402  TIANJIN SWCX TECHNOLOGY CORP., LTD   \n",
              "2          3         230403       SUNGARD AVAILABILITY SERVICES   \n",
              "3          4         230404         CLINSE LABS PRIVATE LIMITED   \n",
              "4          5         230405                           MYLAN INC   \n",
              "...      ...            ...                                 ...   \n",
              "5437   37164         235838                           JHU PRESS   \n",
              "5438   37191         235839                       LG CHEM KOREA   \n",
              "5439   37218         235840    FPT TELECOM INTERNATIONAL CO LTD   \n",
              "5440   37245         235841               VIRGIN MANAGEMENT LTD   \n",
              "5441   37272         235842               MITSUI CO SEAFOODSLTD   \n",
              "\n",
              "     Country_Code_Only  \n",
              "0                   US  \n",
              "1                   CN  \n",
              "2                   IN  \n",
              "3                   IN  \n",
              "4                   US  \n",
              "...                ...  \n",
              "5437                US  \n",
              "5438                KR  \n",
              "5439                VN  \n",
              "5440                GB  \n",
              "5441                JP  \n",
              "\n",
              "[5442 rows x 4 columns]"
            ]
          },
          "execution_count": 5,
          "metadata": {},
          "output_type": "execute_result"
        }
      ],
      "source": [
        "data"
      ]
    },
    {
      "cell_type": "code",
      "execution_count": 6,
      "id": "e5db80d2",
      "metadata": {
        "colab": {
          "base_uri": "https://localhost:8080/"
        },
        "id": "e5db80d2",
        "outputId": "83686cdb-f61f-4d40-f475-bbda42f2d587"
      },
      "outputs": [
        {
          "name": "stdout",
          "output_type": "stream",
          "text": [
            "(5442, 4)\n"
          ]
        }
      ],
      "source": [
        "# Dimension of the dataset\n",
        "print(np.shape(data))"
      ]
    },
    {
      "cell_type": "code",
      "execution_count": 7,
      "id": "59662bbb",
      "metadata": {
        "colab": {
          "base_uri": "https://localhost:8080/"
        },
        "id": "59662bbb",
        "outputId": "b2fb9be2-5366-4772-e594-d7fc6c08ec2c"
      },
      "outputs": [
        {
          "data": {
            "text/plain": [
              "CDB_ID                    0\n",
              "Party_NumberĿ             0\n",
              "Account(Customer_Name)    0\n",
              "Country_Code_Only         0\n",
              "dtype: int64"
            ]
          },
          "execution_count": 7,
          "metadata": {},
          "output_type": "execute_result"
        }
      ],
      "source": [
        "# Find null values\n",
        "data.isnull().sum()"
      ]
    },
    {
      "cell_type": "markdown",
      "id": "jKTq8Va1CcDX",
      "metadata": {
        "id": "jKTq8Va1CcDX"
      },
      "source": [
        "## Remove White Space Characters:\n",
        "To remove white space characters (leading, trailing) from the 'Account(Customer_Name)' column, we can use .str.strip():"
      ]
    },
    {
      "cell_type": "code",
      "execution_count": 8,
      "id": "zfAoeDydPgOt",
      "metadata": {
        "id": "zfAoeDydPgOt"
      },
      "outputs": [],
      "source": [
        "# Find the row with CDB_ID == 26\n",
        "# specific_row = data.loc[data['CDB_ID'] == 26]\n",
        "# specific_row"
      ]
    },
    {
      "cell_type": "code",
      "execution_count": 9,
      "id": "4dgjNE4ARK9b",
      "metadata": {
        "colab": {
          "base_uri": "https://localhost:8080/",
          "height": 990
        },
        "id": "4dgjNE4ARK9b",
        "outputId": "305e7b6c-9596-4566-cce1-a6d3122132b0"
      },
      "outputs": [
        {
          "data": {
            "text/html": [
              "<div>\n",
              "<style scoped>\n",
              "    .dataframe tbody tr th:only-of-type {\n",
              "        vertical-align: middle;\n",
              "    }\n",
              "\n",
              "    .dataframe tbody tr th {\n",
              "        vertical-align: top;\n",
              "    }\n",
              "\n",
              "    .dataframe thead th {\n",
              "        text-align: right;\n",
              "    }\n",
              "</style>\n",
              "<table border=\"1\" class=\"dataframe\">\n",
              "  <thead>\n",
              "    <tr style=\"text-align: right;\">\n",
              "      <th></th>\n",
              "      <th>CDB_ID</th>\n",
              "      <th>Party_NumberĿ</th>\n",
              "      <th>Account(Customer_Name)</th>\n",
              "      <th>Country_Code_Only</th>\n",
              "    </tr>\n",
              "  </thead>\n",
              "  <tbody>\n",
              "    <tr>\n",
              "      <th>23</th>\n",
              "      <td>26</td>\n",
              "      <td>230424</td>\n",
              "      <td>OLAM INFORMATION SERVICES PRIVATE LTD</td>\n",
              "      <td>IN</td>\n",
              "    </tr>\n",
              "    <tr>\n",
              "      <th>205</th>\n",
              "      <td>248</td>\n",
              "      <td>230606</td>\n",
              "      <td>GALAXYCORE  (ZHEJIANG)  CO.,LTD.</td>\n",
              "      <td>CN</td>\n",
              "    </tr>\n",
              "    <tr>\n",
              "      <th>531</th>\n",
              "      <td>746</td>\n",
              "      <td>230932</td>\n",
              "      <td>VALTORI VAKA</td>\n",
              "      <td>FI</td>\n",
              "    </tr>\n",
              "    <tr>\n",
              "      <th>723</th>\n",
              "      <td>1100</td>\n",
              "      <td>231124</td>\n",
              "      <td>KING YUAN ELECTRONICS CO LTD</td>\n",
              "      <td>TW</td>\n",
              "    </tr>\n",
              "    <tr>\n",
              "      <th>1026</th>\n",
              "      <td>1783</td>\n",
              "      <td>231427</td>\n",
              "      <td>DAWNING TECHNOLOGY INC</td>\n",
              "      <td>TW</td>\n",
              "    </tr>\n",
              "    <tr>\n",
              "      <th>1810</th>\n",
              "      <td>4136</td>\n",
              "      <td>232211</td>\n",
              "      <td>PHOENIX PIONEER TECHNOLOGY CO LTD</td>\n",
              "      <td>TW</td>\n",
              "    </tr>\n",
              "    <tr>\n",
              "      <th>1828</th>\n",
              "      <td>4210</td>\n",
              "      <td>232229</td>\n",
              "      <td>APACER TECHNOLOGY INC</td>\n",
              "      <td>TW</td>\n",
              "    </tr>\n",
              "    <tr>\n",
              "      <th>1832</th>\n",
              "      <td>4218</td>\n",
              "      <td>232233</td>\n",
              "      <td>DAEHWA PHARMACEUTICAL CO LTD</td>\n",
              "      <td>KR</td>\n",
              "    </tr>\n",
              "    <tr>\n",
              "      <th>1907</th>\n",
              "      <td>4494</td>\n",
              "      <td>232308</td>\n",
              "      <td>INTERASIA LINES LTD</td>\n",
              "      <td>TW</td>\n",
              "    </tr>\n",
              "    <tr>\n",
              "      <th>2159</th>\n",
              "      <td>5530</td>\n",
              "      <td>232560</td>\n",
              "      <td>OPTIMUM TELECOM ALGERIE\\t</td>\n",
              "      <td>DZ</td>\n",
              "    </tr>\n",
              "    <tr>\n",
              "      <th>2279</th>\n",
              "      <td>5984</td>\n",
              "      <td>232680</td>\n",
              "      <td>AL SOOR FUEL MARKETING CO</td>\n",
              "      <td>KW</td>\n",
              "    </tr>\n",
              "    <tr>\n",
              "      <th>2686</th>\n",
              "      <td>7910</td>\n",
              "      <td>233087</td>\n",
              "      <td>TOYOTA LEASING (THAILAND) CO LTD</td>\n",
              "      <td>TH</td>\n",
              "    </tr>\n",
              "    <tr>\n",
              "      <th>2819</th>\n",
              "      <td>8681</td>\n",
              "      <td>233220</td>\n",
              "      <td>SJM RESORTS S A</td>\n",
              "      <td>MO</td>\n",
              "    </tr>\n",
              "    <tr>\n",
              "      <th>2820</th>\n",
              "      <td>8686</td>\n",
              "      <td>233221</td>\n",
              "      <td>QTERMINALS</td>\n",
              "      <td>QA</td>\n",
              "    </tr>\n",
              "    <tr>\n",
              "      <th>3026</th>\n",
              "      <td>10127</td>\n",
              "      <td>233427</td>\n",
              "      <td>CENTURYLINK PERU S A</td>\n",
              "      <td>EC</td>\n",
              "    </tr>\n",
              "    <tr>\n",
              "      <th>3583</th>\n",
              "      <td>14130</td>\n",
              "      <td>233984</td>\n",
              "      <td>CSI Solar Power Group Co.,LTD</td>\n",
              "      <td>CN</td>\n",
              "    </tr>\n",
              "    <tr>\n",
              "      <th>3703</th>\n",
              "      <td>15158</td>\n",
              "      <td>234104</td>\n",
              "      <td>SDTM SOCIÉTÉ MAROCAINE DE DISTRIBUTION ET DE T...</td>\n",
              "      <td>MA</td>\n",
              "    </tr>\n",
              "    <tr>\n",
              "      <th>3727</th>\n",
              "      <td>15296</td>\n",
              "      <td>234128</td>\n",
              "      <td>FREE-FREE INDUSTRIAL CORP</td>\n",
              "      <td>TW</td>\n",
              "    </tr>\n",
              "    <tr>\n",
              "      <th>3758</th>\n",
              "      <td>15605</td>\n",
              "      <td>234159</td>\n",
              "      <td>QATAR RAIL COMPANY</td>\n",
              "      <td>QA</td>\n",
              "    </tr>\n",
              "    <tr>\n",
              "      <th>3818</th>\n",
              "      <td>16164</td>\n",
              "      <td>234219</td>\n",
              "      <td>DB FINANCIAL INVESTMENT CO LTD</td>\n",
              "      <td>KR</td>\n",
              "    </tr>\n",
              "    <tr>\n",
              "      <th>3850</th>\n",
              "      <td>16491</td>\n",
              "      <td>234251</td>\n",
              "      <td>ARAB BANKING CORP</td>\n",
              "      <td>SA</td>\n",
              "    </tr>\n",
              "    <tr>\n",
              "      <th>4261</th>\n",
              "      <td>20601</td>\n",
              "      <td>234662</td>\n",
              "      <td>MANNAI TRADING COMPANY WLL</td>\n",
              "      <td>QA</td>\n",
              "    </tr>\n",
              "    <tr>\n",
              "      <th>4346</th>\n",
              "      <td>21542</td>\n",
              "      <td>234747</td>\n",
              "      <td>LETISTE PRAHA A S</td>\n",
              "      <td>CZ</td>\n",
              "    </tr>\n",
              "    <tr>\n",
              "      <th>4477</th>\n",
              "      <td>23056</td>\n",
              "      <td>234878</td>\n",
              "      <td>MANE CHILE S A</td>\n",
              "      <td>CL</td>\n",
              "    </tr>\n",
              "    <tr>\n",
              "      <th>4894</th>\n",
              "      <td>28521</td>\n",
              "      <td>235295</td>\n",
              "      <td>CERAGEM CO LTD</td>\n",
              "      <td>KR</td>\n",
              "    </tr>\n",
              "    <tr>\n",
              "      <th>4958</th>\n",
              "      <td>29523</td>\n",
              "      <td>235359</td>\n",
              "      <td>MEDINA SILVA LTDA</td>\n",
              "      <td>CL</td>\n",
              "    </tr>\n",
              "    <tr>\n",
              "      <th>5194</th>\n",
              "      <td>32801</td>\n",
              "      <td>235595</td>\n",
              "      <td>COTEMAR S A DE C V</td>\n",
              "      <td>MX</td>\n",
              "    </tr>\n",
              "    <tr>\n",
              "      <th>5251</th>\n",
              "      <td>33731</td>\n",
              "      <td>235652</td>\n",
              "      <td>CHIA TAI CO LTD</td>\n",
              "      <td>TH</td>\n",
              "    </tr>\n",
              "    <tr>\n",
              "      <th>5303</th>\n",
              "      <td>34595</td>\n",
              "      <td>235704</td>\n",
              "      <td>VIVOZON PHARMACEUTICAL INC</td>\n",
              "      <td>KR</td>\n",
              "    </tr>\n",
              "    <tr>\n",
              "      <th>5373</th>\n",
              "      <td>35689</td>\n",
              "      <td>235774</td>\n",
              "      <td>FINTECH S A</td>\n",
              "      <td>IN</td>\n",
              "    </tr>\n",
              "  </tbody>\n",
              "</table>\n",
              "</div>"
            ],
            "text/plain": [
              "      CDB_ID  Party_NumberĿ  \\\n",
              "23        26         230424   \n",
              "205      248         230606   \n",
              "531      746         230932   \n",
              "723     1100         231124   \n",
              "1026    1783         231427   \n",
              "1810    4136         232211   \n",
              "1828    4210         232229   \n",
              "1832    4218         232233   \n",
              "1907    4494         232308   \n",
              "2159    5530         232560   \n",
              "2279    5984         232680   \n",
              "2686    7910         233087   \n",
              "2819    8681         233220   \n",
              "2820    8686         233221   \n",
              "3026   10127         233427   \n",
              "3583   14130         233984   \n",
              "3703   15158         234104   \n",
              "3727   15296         234128   \n",
              "3758   15605         234159   \n",
              "3818   16164         234219   \n",
              "3850   16491         234251   \n",
              "4261   20601         234662   \n",
              "4346   21542         234747   \n",
              "4477   23056         234878   \n",
              "4894   28521         235295   \n",
              "4958   29523         235359   \n",
              "5194   32801         235595   \n",
              "5251   33731         235652   \n",
              "5303   34595         235704   \n",
              "5373   35689         235774   \n",
              "\n",
              "                                 Account(Customer_Name) Country_Code_Only  \n",
              "23                OLAM INFORMATION SERVICES PRIVATE LTD                IN  \n",
              "205               GALAXYCORE  (ZHEJIANG)  CO.,LTD.                     CN  \n",
              "531                                        VALTORI VAKA                FI  \n",
              "723                       KING YUAN ELECTRONICS CO LTD                 TW  \n",
              "1026                            DAWNING TECHNOLOGY INC                 TW  \n",
              "1810                 PHOENIX PIONEER TECHNOLOGY CO LTD                 TW  \n",
              "1828                             APACER TECHNOLOGY INC                 TW  \n",
              "1832                      DAEHWA PHARMACEUTICAL CO LTD                 KR  \n",
              "1907                               INTERASIA LINES LTD                 TW  \n",
              "2159                          OPTIMUM TELECOM ALGERIE\\t                DZ  \n",
              "2279                         AL SOOR FUEL MARKETING CO                 KW  \n",
              "2686                  TOYOTA LEASING (THAILAND) CO LTD                 TH  \n",
              "2819                                   SJM RESORTS S A                 MO  \n",
              "2820                                        QTERMINALS                 QA  \n",
              "3026                              CENTURYLINK PERU S A                 EC  \n",
              "3583                     CSI Solar Power Group Co.,LTD                 CN  \n",
              "3703  SDTM SOCIÉTÉ MAROCAINE DE DISTRIBUTION ET DE T...                MA  \n",
              "3727                         FREE-FREE INDUSTRIAL CORP                 TW  \n",
              "3758                                QATAR RAIL COMPANY                 QA  \n",
              "3818                    DB FINANCIAL INVESTMENT CO LTD                 KR  \n",
              "3850                                 ARAB BANKING CORP                 SA  \n",
              "4261                        MANNAI TRADING COMPANY WLL                 QA  \n",
              "4346                                 LETISTE PRAHA A S                 CZ  \n",
              "4477                                    MANE CHILE S A                 CL  \n",
              "4894                                    CERAGEM CO LTD                 KR  \n",
              "4958                                 MEDINA SILVA LTDA                 CL  \n",
              "5194                                COTEMAR S A DE C V                 MX  \n",
              "5251                                   CHIA TAI CO LTD                 TH  \n",
              "5303                        VIVOZON PHARMACEUTICAL INC                 KR  \n",
              "5373                                       FINTECH S A                 IN  "
            ]
          },
          "execution_count": 9,
          "metadata": {},
          "output_type": "execute_result"
        }
      ],
      "source": [
        "# Create a boolean mask to check for leading or trailing white spaces\n",
        "mask = data['Account(Customer_Name)'].str.strip() != data['Account(Customer_Name)']\n",
        "\n",
        "# Use the mask to filter and print the rows with extra white spaces\n",
        "rows_with_extra_spaces = data[mask]\n",
        "rows_with_extra_spaces"
      ]
    },
    {
      "cell_type": "code",
      "execution_count": 10,
      "id": "FFOL4Ye7-1y5",
      "metadata": {
        "id": "FFOL4Ye7-1y5"
      },
      "outputs": [],
      "source": [
        "data['Account(Customer_Name)'] = data['Account(Customer_Name)'].str.strip()\n"
      ]
    },
    {
      "cell_type": "code",
      "execution_count": 11,
      "id": "31RDaLamRoQT",
      "metadata": {
        "colab": {
          "base_uri": "https://localhost:8080/",
          "height": 53
        },
        "id": "31RDaLamRoQT",
        "outputId": "69e9eb34-0cd9-42f2-efaf-8c36b311e7f4"
      },
      "outputs": [
        {
          "data": {
            "text/html": [
              "<div>\n",
              "<style scoped>\n",
              "    .dataframe tbody tr th:only-of-type {\n",
              "        vertical-align: middle;\n",
              "    }\n",
              "\n",
              "    .dataframe tbody tr th {\n",
              "        vertical-align: top;\n",
              "    }\n",
              "\n",
              "    .dataframe thead th {\n",
              "        text-align: right;\n",
              "    }\n",
              "</style>\n",
              "<table border=\"1\" class=\"dataframe\">\n",
              "  <thead>\n",
              "    <tr style=\"text-align: right;\">\n",
              "      <th></th>\n",
              "      <th>CDB_ID</th>\n",
              "      <th>Party_NumberĿ</th>\n",
              "      <th>Account(Customer_Name)</th>\n",
              "      <th>Country_Code_Only</th>\n",
              "    </tr>\n",
              "  </thead>\n",
              "  <tbody>\n",
              "  </tbody>\n",
              "</table>\n",
              "</div>"
            ],
            "text/plain": [
              "Empty DataFrame\n",
              "Columns: [CDB_ID, Party_NumberĿ, Account(Customer_Name), Country_Code_Only]\n",
              "Index: []"
            ]
          },
          "execution_count": 11,
          "metadata": {},
          "output_type": "execute_result"
        }
      ],
      "source": [
        "# Create a boolean mask to check for leading or trailing white spaces\n",
        "mask = data['Account(Customer_Name)'].str.strip() != data['Account(Customer_Name)']\n",
        "\n",
        "# Use the mask to filter and print the rows with extra white spaces\n",
        "rows_with_extra_spaces = data[mask]\n",
        "rows_with_extra_spaces"
      ]
    },
    {
      "cell_type": "markdown",
      "id": "J4SMZ-k6G-R9",
      "metadata": {
        "id": "J4SMZ-k6G-R9"
      },
      "source": [
        "## Remove UMLAUT Characters:\n",
        "If you want to remove UMLAUT characters like \"ü,\" you can use Python's unidecode library to convert them to their closest ASCII equivalent:\n",
        "### Use the unidecode function to transliterate Umlaut characters in the 'Account(Customer_Name)' column\n",
        "### This code will replace Umlaut characters with their closest English alphabet equivalents. For example, \"ü\" will be replaced with \"u,\" \"ä\" with \"a,\" and \"ö\" with \"o.\""
      ]
    },
    {
      "cell_type": "code",
      "execution_count": 12,
      "id": "YHF0XeSP_SKt",
      "metadata": {
        "colab": {
          "base_uri": "https://localhost:8080/"
        },
        "id": "YHF0XeSP_SKt",
        "outputId": "8ae032f6-0aeb-4497-9d62-e29bedc8010c"
      },
      "outputs": [
        {
          "name": "stdout",
          "output_type": "stream",
          "text": [
            "EDEKA HANDELSGESELSCHAFT SÜDWEST\n"
          ]
        }
      ],
      "source": [
        "# Find the row with CDB_ID == 12345\n",
        "specific_row = data.loc[data['CDB_ID'] == 11606]\n",
        "\n",
        "# Print the specific row\n",
        "# print(specific_row)\n",
        "\n",
        "# Find the value of the column in the specific row\n",
        "customer_name = specific_row.at[specific_row.index[0], 'Account(Customer_Name)']\n",
        "print(customer_name)"
      ]
    },
    {
      "cell_type": "code",
      "execution_count": 13,
      "id": "KWz_L2xlAABt",
      "metadata": {
        "colab": {
          "base_uri": "https://localhost:8080/"
        },
        "id": "KWz_L2xlAABt",
        "outputId": "d7a097be-b66d-4ec8-c78c-c68abb28c553"
      },
      "outputs": [
        {
          "name": "stdout",
          "output_type": "stream",
          "text": [
            "COMPANHIA DE DESENVOLVIMENTO DO VALE DO SÃO FRANCISCO\n"
          ]
        }
      ],
      "source": [
        "# Find the row with CDB_ID == 13958\n",
        "specific_row = data.loc[data['CDB_ID'] == 8851]\n",
        "\n",
        "# Print the specific row\n",
        "# print(specific_row)\n",
        "\n",
        "# Find the value of the column in the specific row\n",
        "customer_name = specific_row.at[specific_row.index[0], 'Account(Customer_Name)']\n",
        "print(customer_name)"
      ]
    },
    {
      "cell_type": "code",
      "execution_count": 14,
      "metadata": {},
      "outputs": [],
      "source": [
        "from unidecode import unidecode"
      ]
    },
    {
      "cell_type": "code",
      "execution_count": 15,
      "id": "k2DydOmpSbTW",
      "metadata": {
        "colab": {
          "base_uri": "https://localhost:8080/",
          "height": 423
        },
        "id": "k2DydOmpSbTW",
        "outputId": "28dd61f6-2b38-412b-db23-4d05c9203c7e"
      },
      "outputs": [
        {
          "data": {
            "text/html": [
              "<div>\n",
              "<style scoped>\n",
              "    .dataframe tbody tr th:only-of-type {\n",
              "        vertical-align: middle;\n",
              "    }\n",
              "\n",
              "    .dataframe tbody tr th {\n",
              "        vertical-align: top;\n",
              "    }\n",
              "\n",
              "    .dataframe thead th {\n",
              "        text-align: right;\n",
              "    }\n",
              "</style>\n",
              "<table border=\"1\" class=\"dataframe\">\n",
              "  <thead>\n",
              "    <tr style=\"text-align: right;\">\n",
              "      <th></th>\n",
              "      <th>CDB_ID</th>\n",
              "      <th>Party_NumberĿ</th>\n",
              "      <th>Account(Customer_Name)</th>\n",
              "      <th>Country_Code_Only</th>\n",
              "    </tr>\n",
              "  </thead>\n",
              "  <tbody>\n",
              "    <tr>\n",
              "      <th>154</th>\n",
              "      <td>186</td>\n",
              "      <td>230555</td>\n",
              "      <td>STADTWERKE TÜBINGEN GMBH</td>\n",
              "      <td>DE</td>\n",
              "    </tr>\n",
              "    <tr>\n",
              "      <th>384</th>\n",
              "      <td>496</td>\n",
              "      <td>230785</td>\n",
              "      <td>Ayuntamiento de Málaga - Centro Municipal de I...</td>\n",
              "      <td>ES</td>\n",
              "    </tr>\n",
              "    <tr>\n",
              "      <th>601</th>\n",
              "      <td>878</td>\n",
              "      <td>231002</td>\n",
              "      <td>BANQUE NATIONALE POUR LE DÉVELOPPEMENT ECONOMIQUE</td>\n",
              "      <td>SN</td>\n",
              "    </tr>\n",
              "    <tr>\n",
              "      <th>604</th>\n",
              "      <td>881</td>\n",
              "      <td>231005</td>\n",
              "      <td>CVC BRASIL OPERADORA E AGÊNCIA DE VIAGENS S/A</td>\n",
              "      <td>BR</td>\n",
              "    </tr>\n",
              "    <tr>\n",
              "      <th>737</th>\n",
              "      <td>1127</td>\n",
              "      <td>231138</td>\n",
              "      <td>MILLI SAVUNMA BAKANLIĞI</td>\n",
              "      <td>TR</td>\n",
              "    </tr>\n",
              "    <tr>\n",
              "      <th>...</th>\n",
              "      <td>...</td>\n",
              "      <td>...</td>\n",
              "      <td>...</td>\n",
              "      <td>...</td>\n",
              "    </tr>\n",
              "    <tr>\n",
              "      <th>5240</th>\n",
              "      <td>33579</td>\n",
              "      <td>235641</td>\n",
              "      <td>COMPAGNIE DES BAUXITES DE GUINÉE</td>\n",
              "      <td>CI</td>\n",
              "    </tr>\n",
              "    <tr>\n",
              "      <th>5258</th>\n",
              "      <td>33783</td>\n",
              "      <td>235659</td>\n",
              "      <td>MTSS II IP-INSTITUTO DE INFORMÁTICA</td>\n",
              "      <td>PT</td>\n",
              "    </tr>\n",
              "    <tr>\n",
              "      <th>5270</th>\n",
              "      <td>33955</td>\n",
              "      <td>235671</td>\n",
              "      <td>HAYAT EGYPT HYGIENIC PRODUCTS S.A.E.</td>\n",
              "      <td>EG</td>\n",
              "    </tr>\n",
              "    <tr>\n",
              "      <th>5297</th>\n",
              "      <td>34497</td>\n",
              "      <td>235698</td>\n",
              "      <td>TCU TRIBUNAL DE CONTAS DA UNIÃO</td>\n",
              "      <td>BR</td>\n",
              "    </tr>\n",
              "    <tr>\n",
              "      <th>5304</th>\n",
              "      <td>34598</td>\n",
              "      <td>235705</td>\n",
              "      <td>NEMZETI ÚTDÍJFIZETÉSI SZOLGÁLTATÓ ZRT</td>\n",
              "      <td>HU</td>\n",
              "    </tr>\n",
              "  </tbody>\n",
              "</table>\n",
              "<p>108 rows × 4 columns</p>\n",
              "</div>"
            ],
            "text/plain": [
              "      CDB_ID  Party_NumberĿ  \\\n",
              "154      186         230555   \n",
              "384      496         230785   \n",
              "601      878         231002   \n",
              "604      881         231005   \n",
              "737     1127         231138   \n",
              "...      ...            ...   \n",
              "5240   33579         235641   \n",
              "5258   33783         235659   \n",
              "5270   33955         235671   \n",
              "5297   34497         235698   \n",
              "5304   34598         235705   \n",
              "\n",
              "                                 Account(Customer_Name) Country_Code_Only  \n",
              "154                            STADTWERKE TÜBINGEN GMBH                DE  \n",
              "384   Ayuntamiento de Málaga - Centro Municipal de I...                ES  \n",
              "601   BANQUE NATIONALE POUR LE DÉVELOPPEMENT ECONOMIQUE                SN  \n",
              "604       CVC BRASIL OPERADORA E AGÊNCIA DE VIAGENS S/A                BR  \n",
              "737                             MILLI SAVUNMA BAKANLIĞI                TR  \n",
              "...                                                 ...               ...  \n",
              "5240                   COMPAGNIE DES BAUXITES DE GUINÉE                CI  \n",
              "5258                MTSS II IP-INSTITUTO DE INFORMÁTICA                PT  \n",
              "5270               HAYAT EGYPT HYGIENIC PRODUCTS S.A.E.                EG  \n",
              "5297                    TCU TRIBUNAL DE CONTAS DA UNIÃO                BR  \n",
              "5304              NEMZETI ÚTDÍJFIZETÉSI SZOLGÁLTATÓ ZRT                HU  \n",
              "\n",
              "[108 rows x 4 columns]"
            ]
          },
          "execution_count": 15,
          "metadata": {},
          "output_type": "execute_result"
        }
      ],
      "source": [
        "# Create a boolean mask to check for Umlaut characters\n",
        "mask = data['Account(Customer_Name)'].apply(lambda x: x != unidecode(x))\n",
        "\n",
        "# Use the mask to filter and print the rows with Umlaut characters\n",
        "rows_with_umlaut = data[mask]\n",
        "rows_with_umlaut"
      ]
    },
    {
      "cell_type": "code",
      "execution_count": 16,
      "id": "UNMBHvHZ_1tT",
      "metadata": {
        "id": "UNMBHvHZ_1tT"
      },
      "outputs": [],
      "source": [
        "data['Account(Customer_Name)'] = data['Account(Customer_Name)'].apply(unidecode)"
      ]
    },
    {
      "cell_type": "code",
      "execution_count": 17,
      "id": "CLF2k9tTSq0H",
      "metadata": {
        "colab": {
          "base_uri": "https://localhost:8080/",
          "height": 53
        },
        "id": "CLF2k9tTSq0H",
        "outputId": "e1afd439-9e01-410f-ff50-5b4cf612cb92"
      },
      "outputs": [
        {
          "data": {
            "text/html": [
              "<div>\n",
              "<style scoped>\n",
              "    .dataframe tbody tr th:only-of-type {\n",
              "        vertical-align: middle;\n",
              "    }\n",
              "\n",
              "    .dataframe tbody tr th {\n",
              "        vertical-align: top;\n",
              "    }\n",
              "\n",
              "    .dataframe thead th {\n",
              "        text-align: right;\n",
              "    }\n",
              "</style>\n",
              "<table border=\"1\" class=\"dataframe\">\n",
              "  <thead>\n",
              "    <tr style=\"text-align: right;\">\n",
              "      <th></th>\n",
              "      <th>CDB_ID</th>\n",
              "      <th>Party_NumberĿ</th>\n",
              "      <th>Account(Customer_Name)</th>\n",
              "      <th>Country_Code_Only</th>\n",
              "    </tr>\n",
              "  </thead>\n",
              "  <tbody>\n",
              "  </tbody>\n",
              "</table>\n",
              "</div>"
            ],
            "text/plain": [
              "Empty DataFrame\n",
              "Columns: [CDB_ID, Party_NumberĿ, Account(Customer_Name), Country_Code_Only]\n",
              "Index: []"
            ]
          },
          "execution_count": 17,
          "metadata": {},
          "output_type": "execute_result"
        }
      ],
      "source": [
        "# Create a boolean mask to check for Umlaut characters\n",
        "mask = data['Account(Customer_Name)'].apply(lambda x: x != unidecode(x))\n",
        "\n",
        "# Use the mask to filter and print the rows with Umlaut characters\n",
        "rows_with_umlaut = data[mask]\n",
        "rows_with_umlaut"
      ]
    },
    {
      "cell_type": "code",
      "execution_count": 18,
      "id": "nTrhRogQAg28",
      "metadata": {
        "colab": {
          "base_uri": "https://localhost:8080/"
        },
        "id": "nTrhRogQAg28",
        "outputId": "2b0c976f-5022-4c47-fd35-d9e5757569cc"
      },
      "outputs": [
        {
          "name": "stdout",
          "output_type": "stream",
          "text": [
            "EDEKA HANDELSGESELSCHAFT SUDWEST\n"
          ]
        }
      ],
      "source": [
        "# Find the row with CDB_ID == 12345\n",
        "specific_row = data.loc[data['CDB_ID'] == 11606]\n",
        "\n",
        "# Print the specific row\n",
        "# print(specific_row)\n",
        "\n",
        "# Find the value of the column in the specific row\n",
        "customer_name = specific_row.at[specific_row.index[0], 'Account(Customer_Name)']\n",
        "print(customer_name)"
      ]
    },
    {
      "cell_type": "markdown",
      "id": "3e05aaAyHOuO",
      "metadata": {
        "id": "3e05aaAyHOuO"
      },
      "source": [
        "## Remove Stop Words:\n",
        "To remove stop words, you'll need to define a list of stop words and then filter them out from the 'Account(Customer_Name)' column:"
      ]
    },
    {
      "cell_type": "code",
      "execution_count": 19,
      "metadata": {},
      "outputs": [],
      "source": [
        "data['Account(Customer_Name)'] = data['Account(Customer_Name)'].str.replace('[.,-]', '', regex=True)\n"
      ]
    },
    {
      "cell_type": "code",
      "execution_count": 20,
      "id": "O6qaeRaxA2v2",
      "metadata": {
        "colab": {
          "base_uri": "https://localhost:8080/"
        },
        "id": "O6qaeRaxA2v2",
        "outputId": "21c2fbd1-aaf8-4ae7-dd60-5277296490c9"
      },
      "outputs": [
        {
          "name": "stdout",
          "output_type": "stream",
          "text": [
            "CLINSE LABS PRIVATE LIMITED\n"
          ]
        }
      ],
      "source": [
        "# Find the row with CDB_ID == 12345\n",
        "specific_row = data.loc[data['CDB_ID'] == 4]\n",
        "\n",
        "# Print the specific row\n",
        "# print(specific_row)\n",
        "\n",
        "# Find the value of the column in the specific row\n",
        "customer_name = specific_row.at[specific_row.index[0], 'Account(Customer_Name)']\n",
        "print(customer_name)"
      ]
    },
    {
      "cell_type": "code",
      "execution_count": 21,
      "id": "kXNlGgRBB37l",
      "metadata": {
        "id": "kXNlGgRBB37l"
      },
      "outputs": [],
      "source": [
        "# Convert 'Name' column values to uppercase\n",
        "data['Account(Customer_Name)'] = data['Account(Customer_Name)'].str.upper()"
      ]
    },
    {
      "cell_type": "code",
      "execution_count": 22,
      "id": "YqW32ZfuA2yj",
      "metadata": {
        "id": "YqW32ZfuA2yj"
      },
      "outputs": [],
      "source": [
        "stop_words = [\".\",\",\",\"PVT\",\"PRIVATE\", \"LIMITED\",'PLC',\"and\", \"THE\",\"INC\",'CO','COLTD','LTD','SA', 'S/A','PTE','BHD','CORP','CORPORATION','S', 'DE', 'RL',\n",
        "              'DE', 'CV','&','COMPANY', 'LTDA','LLC',...]  # Add more stop words as needed\n",
        "\n",
        "# Remove stop words from the 'Account(Customer_Name)' column\n",
        "data['Account(Customer_Name)'] = data['Account(Customer_Name)'].apply( lambda x: ' '.join([word for word in x.split() if word not in stop_words]) )\n"
      ]
    },
    {
      "cell_type": "code",
      "execution_count": 23,
      "id": "efxszuGJA21w",
      "metadata": {
        "colab": {
          "base_uri": "https://localhost:8080/"
        },
        "id": "efxszuGJA21w",
        "outputId": "dd564849-1cba-4687-d79d-8af3c73e7bbe"
      },
      "outputs": [
        {
          "name": "stdout",
          "output_type": "stream",
          "text": [
            "CLINSE LABS\n"
          ]
        }
      ],
      "source": [
        "# Find the row with CDB_ID == 12345\n",
        "specific_row = data.loc[data['CDB_ID'] == 4]\n",
        "\n",
        "# Print the specific row\n",
        "# print(specific_row)\n",
        "\n",
        "# Find the value of the column in the specific row\n",
        "customer_name = specific_row.at[specific_row.index[0], 'Account(Customer_Name)']\n",
        "print(customer_name)"
      ]
    },
    {
      "cell_type": "markdown",
      "id": "LcZDMRRrNMgh",
      "metadata": {
        "id": "LcZDMRRrNMgh"
      },
      "source": [
        "## Remove Special Characters:\n",
        "To remove special characters from the 'Account(Customer_Name)' column, you can use regular expressions and the str.replace() method. For example, to remove all non-alphanumeric characters, you can do:"
      ]
    },
    {
      "cell_type": "code",
      "execution_count": 24,
      "id": "UJ289o7GUqDs",
      "metadata": {
        "colab": {
          "base_uri": "https://localhost:8080/",
          "height": 423
        },
        "id": "UJ289o7GUqDs",
        "outputId": "a7075969-f659-4d64-bed2-bfecb7123516"
      },
      "outputs": [
        {
          "data": {
            "text/html": [
              "<div>\n",
              "<style scoped>\n",
              "    .dataframe tbody tr th:only-of-type {\n",
              "        vertical-align: middle;\n",
              "    }\n",
              "\n",
              "    .dataframe tbody tr th {\n",
              "        vertical-align: top;\n",
              "    }\n",
              "\n",
              "    .dataframe thead th {\n",
              "        text-align: right;\n",
              "    }\n",
              "</style>\n",
              "<table border=\"1\" class=\"dataframe\">\n",
              "  <thead>\n",
              "    <tr style=\"text-align: right;\">\n",
              "      <th></th>\n",
              "      <th>CDB_ID</th>\n",
              "      <th>Party_NumberĿ</th>\n",
              "      <th>Account(Customer_Name)</th>\n",
              "      <th>Country_Code_Only</th>\n",
              "    </tr>\n",
              "  </thead>\n",
              "  <tbody>\n",
              "    <tr>\n",
              "      <th>26</th>\n",
              "      <td>32</td>\n",
              "      <td>230427</td>\n",
              "      <td>PT BANK MANDIRI (PERSERO) TBK</td>\n",
              "      <td>ID</td>\n",
              "    </tr>\n",
              "    <tr>\n",
              "      <th>46</th>\n",
              "      <td>54</td>\n",
              "      <td>230447</td>\n",
              "      <td>KING FAHD UNIVERSITY OF PETROLEUM MINERALS (KF...</td>\n",
              "      <td>SA</td>\n",
              "    </tr>\n",
              "    <tr>\n",
              "      <th>62</th>\n",
              "      <td>71</td>\n",
              "      <td>230463</td>\n",
              "      <td>TECHNICAL AND VOCATIONAL TRAINING [TVTC]</td>\n",
              "      <td>SA</td>\n",
              "    </tr>\n",
              "    <tr>\n",
              "      <th>81</th>\n",
              "      <td>96</td>\n",
              "      <td>230482</td>\n",
              "      <td>SIEN (QINGDAO) INTEGRATED CIRCUITS</td>\n",
              "      <td>CN</td>\n",
              "    </tr>\n",
              "    <tr>\n",
              "      <th>85</th>\n",
              "      <td>101</td>\n",
              "      <td>230486</td>\n",
              "      <td>WEIPU (XIAMEN) SCIENCE &amp;TECHNOLOGY</td>\n",
              "      <td>CN</td>\n",
              "    </tr>\n",
              "    <tr>\n",
              "      <th>...</th>\n",
              "      <td>...</td>\n",
              "      <td>...</td>\n",
              "      <td>...</td>\n",
              "      <td>...</td>\n",
              "    </tr>\n",
              "    <tr>\n",
              "      <th>5407</th>\n",
              "      <td>36354</td>\n",
              "      <td>235808</td>\n",
              "      <td>INGRAM MICRO MEXICO C/O TRAFFIMEX</td>\n",
              "      <td>US</td>\n",
              "    </tr>\n",
              "    <tr>\n",
              "      <th>5415</th>\n",
              "      <td>36570</td>\n",
              "      <td>235816</td>\n",
              "      <td>PERENCO UK [LDN]</td>\n",
              "      <td>GB</td>\n",
              "    </tr>\n",
              "    <tr>\n",
              "      <th>5417</th>\n",
              "      <td>36624</td>\n",
              "      <td>235818</td>\n",
              "      <td>PERENCO TD [NDJ]</td>\n",
              "      <td>GB</td>\n",
              "    </tr>\n",
              "    <tr>\n",
              "      <th>5427</th>\n",
              "      <td>36894</td>\n",
              "      <td>235828</td>\n",
              "      <td>SHELL E&amp;P</td>\n",
              "      <td>US</td>\n",
              "    </tr>\n",
              "    <tr>\n",
              "      <th>5430</th>\n",
              "      <td>36975</td>\n",
              "      <td>235831</td>\n",
              "      <td>CREDIT SUISSE SECURITIES (CHINA)</td>\n",
              "      <td>CN</td>\n",
              "    </tr>\n",
              "  </tbody>\n",
              "</table>\n",
              "<p>360 rows × 4 columns</p>\n",
              "</div>"
            ],
            "text/plain": [
              "      CDB_ID  Party_NumberĿ  \\\n",
              "26        32         230427   \n",
              "46        54         230447   \n",
              "62        71         230463   \n",
              "81        96         230482   \n",
              "85       101         230486   \n",
              "...      ...            ...   \n",
              "5407   36354         235808   \n",
              "5415   36570         235816   \n",
              "5417   36624         235818   \n",
              "5427   36894         235828   \n",
              "5430   36975         235831   \n",
              "\n",
              "                                 Account(Customer_Name) Country_Code_Only  \n",
              "26                        PT BANK MANDIRI (PERSERO) TBK                ID  \n",
              "46    KING FAHD UNIVERSITY OF PETROLEUM MINERALS (KF...                SA  \n",
              "62             TECHNICAL AND VOCATIONAL TRAINING [TVTC]                SA  \n",
              "81                   SIEN (QINGDAO) INTEGRATED CIRCUITS                CN  \n",
              "85                   WEIPU (XIAMEN) SCIENCE &TECHNOLOGY                CN  \n",
              "...                                                 ...               ...  \n",
              "5407                  INGRAM MICRO MEXICO C/O TRAFFIMEX                US  \n",
              "5415                                   PERENCO UK [LDN]                GB  \n",
              "5417                                   PERENCO TD [NDJ]                GB  \n",
              "5427                                          SHELL E&P                US  \n",
              "5430                   CREDIT SUISSE SECURITIES (CHINA)                CN  \n",
              "\n",
              "[360 rows x 4 columns]"
            ]
          },
          "execution_count": 24,
          "metadata": {},
          "output_type": "execute_result"
        }
      ],
      "source": [
        "import re\n",
        "# Define a regular expression pattern to match all non-alphanumeric characters\n",
        "special_char_pattern = re.compile(r'[^a-zA-Z0-9\\s]')\n",
        "\n",
        "# Create a boolean mask to check for the presence of special characters\n",
        "mask = data['Account(Customer_Name)'].str.contains(special_char_pattern)\n",
        "\n",
        "# Use the mask to filter and print the rows with special characters\n",
        "rows_with_special_chars = data[mask]\n",
        "rows_with_special_chars"
      ]
    },
    {
      "cell_type": "code",
      "execution_count": 25,
      "id": "ZS5uHGhaVA5H",
      "metadata": {
        "colab": {
          "base_uri": "https://localhost:8080/",
          "height": 81
        },
        "id": "ZS5uHGhaVA5H",
        "outputId": "a59cff15-df3b-4609-86b7-5092368778f2"
      },
      "outputs": [
        {
          "data": {
            "text/html": [
              "<div>\n",
              "<style scoped>\n",
              "    .dataframe tbody tr th:only-of-type {\n",
              "        vertical-align: middle;\n",
              "    }\n",
              "\n",
              "    .dataframe tbody tr th {\n",
              "        vertical-align: top;\n",
              "    }\n",
              "\n",
              "    .dataframe thead th {\n",
              "        text-align: right;\n",
              "    }\n",
              "</style>\n",
              "<table border=\"1\" class=\"dataframe\">\n",
              "  <thead>\n",
              "    <tr style=\"text-align: right;\">\n",
              "      <th></th>\n",
              "      <th>CDB_ID</th>\n",
              "      <th>Party_NumberĿ</th>\n",
              "      <th>Account(Customer_Name)</th>\n",
              "      <th>Country_Code_Only</th>\n",
              "    </tr>\n",
              "  </thead>\n",
              "  <tbody>\n",
              "    <tr>\n",
              "      <th>480</th>\n",
              "      <td>657</td>\n",
              "      <td>230881</td>\n",
              "      <td>MARSH MCLENNAN COMPANIES</td>\n",
              "      <td>US</td>\n",
              "    </tr>\n",
              "  </tbody>\n",
              "</table>\n",
              "</div>"
            ],
            "text/plain": [
              "     CDB_ID  Party_NumberĿ    Account(Customer_Name) Country_Code_Only\n",
              "480     657         230881  MARSH MCLENNAN COMPANIES                US"
            ]
          },
          "execution_count": 25,
          "metadata": {},
          "output_type": "execute_result"
        }
      ],
      "source": [
        "specific_row = data.loc[data['CDB_ID'] == 657]\n",
        "specific_row"
      ]
    },
    {
      "cell_type": "code",
      "execution_count": 26,
      "id": "9GSzqxwaA24-",
      "metadata": {
        "id": "9GSzqxwaA24-"
      },
      "outputs": [],
      "source": [
        "data['Account(Customer_Name)'] = data['Account(Customer_Name)'].str.replace(r'[^a-zA-Z0-9\\s]', '', regex=True)"
      ]
    },
    {
      "cell_type": "code",
      "execution_count": 27,
      "id": "W-5xTGNOVIxx",
      "metadata": {
        "colab": {
          "base_uri": "https://localhost:8080/",
          "height": 53
        },
        "id": "W-5xTGNOVIxx",
        "outputId": "5f6fe467-8cea-4be3-e017-fc2a8b316cd9"
      },
      "outputs": [
        {
          "data": {
            "text/html": [
              "<div>\n",
              "<style scoped>\n",
              "    .dataframe tbody tr th:only-of-type {\n",
              "        vertical-align: middle;\n",
              "    }\n",
              "\n",
              "    .dataframe tbody tr th {\n",
              "        vertical-align: top;\n",
              "    }\n",
              "\n",
              "    .dataframe thead th {\n",
              "        text-align: right;\n",
              "    }\n",
              "</style>\n",
              "<table border=\"1\" class=\"dataframe\">\n",
              "  <thead>\n",
              "    <tr style=\"text-align: right;\">\n",
              "      <th></th>\n",
              "      <th>CDB_ID</th>\n",
              "      <th>Party_NumberĿ</th>\n",
              "      <th>Account(Customer_Name)</th>\n",
              "      <th>Country_Code_Only</th>\n",
              "    </tr>\n",
              "  </thead>\n",
              "  <tbody>\n",
              "  </tbody>\n",
              "</table>\n",
              "</div>"
            ],
            "text/plain": [
              "Empty DataFrame\n",
              "Columns: [CDB_ID, Party_NumberĿ, Account(Customer_Name), Country_Code_Only]\n",
              "Index: []"
            ]
          },
          "execution_count": 27,
          "metadata": {},
          "output_type": "execute_result"
        }
      ],
      "source": [
        "special_char_pattern = re.compile(r'[^a-zA-Z0-9\\s]')\n",
        "\n",
        "# Create a boolean mask to check for the presence of special characters\n",
        "mask = data['Account(Customer_Name)'].str.contains(special_char_pattern)\n",
        "\n",
        "# Use the mask to filter and print the rows with special characters\n",
        "rows_with_special_chars = data[mask]\n",
        "rows_with_special_chars"
      ]
    },
    {
      "cell_type": "code",
      "execution_count": 28,
      "id": "WFB3yYzUA27b",
      "metadata": {
        "colab": {
          "base_uri": "https://localhost:8080/",
          "height": 81
        },
        "id": "WFB3yYzUA27b",
        "outputId": "3ad2a9c3-9f62-4c95-e0c9-a5a7e8203143"
      },
      "outputs": [
        {
          "data": {
            "text/html": [
              "<div>\n",
              "<style scoped>\n",
              "    .dataframe tbody tr th:only-of-type {\n",
              "        vertical-align: middle;\n",
              "    }\n",
              "\n",
              "    .dataframe tbody tr th {\n",
              "        vertical-align: top;\n",
              "    }\n",
              "\n",
              "    .dataframe thead th {\n",
              "        text-align: right;\n",
              "    }\n",
              "</style>\n",
              "<table border=\"1\" class=\"dataframe\">\n",
              "  <thead>\n",
              "    <tr style=\"text-align: right;\">\n",
              "      <th></th>\n",
              "      <th>CDB_ID</th>\n",
              "      <th>Party_NumberĿ</th>\n",
              "      <th>Account(Customer_Name)</th>\n",
              "      <th>Country_Code_Only</th>\n",
              "    </tr>\n",
              "  </thead>\n",
              "  <tbody>\n",
              "    <tr>\n",
              "      <th>480</th>\n",
              "      <td>657</td>\n",
              "      <td>230881</td>\n",
              "      <td>MARSH MCLENNAN COMPANIES</td>\n",
              "      <td>US</td>\n",
              "    </tr>\n",
              "  </tbody>\n",
              "</table>\n",
              "</div>"
            ],
            "text/plain": [
              "     CDB_ID  Party_NumberĿ    Account(Customer_Name) Country_Code_Only\n",
              "480     657         230881  MARSH MCLENNAN COMPANIES                US"
            ]
          },
          "execution_count": 28,
          "metadata": {},
          "output_type": "execute_result"
        }
      ],
      "source": [
        "specific_row = data.loc[data['CDB_ID'] == 657]\n",
        "specific_row"
      ]
    },
    {
      "cell_type": "code",
      "execution_count": 29,
      "id": "We5Y_cKEMqM1",
      "metadata": {
        "id": "We5Y_cKEMqM1"
      },
      "outputs": [],
      "source": [
        "data.to_csv('../output/cleaned_input.csv', index=False)"
      ]
    },
    {
      "cell_type": "code",
      "execution_count": null,
      "id": "482Kep_JMqZI",
      "metadata": {
        "id": "482Kep_JMqZI"
      },
      "outputs": [],
      "source": []
    },
    {
      "cell_type": "code",
      "execution_count": null,
      "id": "3u-BX8G3MqcE",
      "metadata": {
        "id": "3u-BX8G3MqcE"
      },
      "outputs": [],
      "source": []
    },
    {
      "cell_type": "code",
      "execution_count": null,
      "id": "3FcgJkTTMqfL",
      "metadata": {
        "id": "3FcgJkTTMqfL"
      },
      "outputs": [],
      "source": []
    },
    {
      "cell_type": "code",
      "execution_count": null,
      "id": "Tk4uEUcoMqiM",
      "metadata": {
        "id": "Tk4uEUcoMqiM"
      },
      "outputs": [],
      "source": []
    },
    {
      "cell_type": "code",
      "execution_count": null,
      "id": "_hLkIDMeMqlL",
      "metadata": {
        "id": "_hLkIDMeMqlL"
      },
      "outputs": [],
      "source": []
    },
    {
      "cell_type": "code",
      "execution_count": null,
      "id": "BSyR4G_3Mqok",
      "metadata": {
        "id": "BSyR4G_3Mqok"
      },
      "outputs": [],
      "source": []
    },
    {
      "cell_type": "code",
      "execution_count": null,
      "id": "e0u6kRclMrQK",
      "metadata": {
        "id": "e0u6kRclMrQK"
      },
      "outputs": [],
      "source": []
    },
    {
      "cell_type": "code",
      "execution_count": null,
      "id": "6ZdLlNS_MrS8",
      "metadata": {
        "id": "6ZdLlNS_MrS8"
      },
      "outputs": [],
      "source": []
    },
    {
      "cell_type": "code",
      "execution_count": null,
      "id": "xSwPzGaeMrWY",
      "metadata": {
        "id": "xSwPzGaeMrWY"
      },
      "outputs": [],
      "source": []
    },
    {
      "cell_type": "code",
      "execution_count": null,
      "id": "QY51rHxwA3As",
      "metadata": {
        "id": "QY51rHxwA3As"
      },
      "outputs": [],
      "source": []
    },
    {
      "cell_type": "code",
      "execution_count": null,
      "id": "N0T1r8FfA3GO",
      "metadata": {
        "id": "N0T1r8FfA3GO"
      },
      "outputs": [],
      "source": []
    },
    {
      "cell_type": "code",
      "execution_count": null,
      "id": "BdzUjopQA3HR",
      "metadata": {
        "id": "BdzUjopQA3HR"
      },
      "outputs": [],
      "source": []
    },
    {
      "cell_type": "code",
      "execution_count": 30,
      "id": "AAKYxsuC-y-X",
      "metadata": {
        "colab": {
          "base_uri": "https://localhost:8080/"
        },
        "id": "AAKYxsuC-y-X",
        "outputId": "3bbf0266-1132-43b2-c029-3f1a5192f8fa"
      },
      "outputs": [
        {
          "data": {
            "text/plain": [
              "5213"
            ]
          },
          "execution_count": 30,
          "metadata": {},
          "output_type": "execute_result"
        }
      ],
      "source": [
        "data['Account(Customer_Name)'].nunique()"
      ]
    },
    {
      "cell_type": "code",
      "execution_count": null,
      "id": "e89fd1ea",
      "metadata": {
        "id": "e89fd1ea"
      },
      "outputs": [],
      "source": []
    },
    {
      "cell_type": "code",
      "execution_count": null,
      "id": "537a5df5",
      "metadata": {
        "id": "537a5df5"
      },
      "outputs": [],
      "source": []
    },
    {
      "cell_type": "code",
      "execution_count": null,
      "id": "d129ee48",
      "metadata": {
        "id": "d129ee48"
      },
      "outputs": [],
      "source": []
    },
    {
      "cell_type": "code",
      "execution_count": null,
      "id": "26d86314",
      "metadata": {
        "id": "26d86314"
      },
      "outputs": [],
      "source": []
    }
  ],
  "metadata": {
    "colab": {
      "provenance": []
    },
    "kernelspec": {
      "display_name": "Python 3 (ipykernel)",
      "language": "python",
      "name": "python3"
    },
    "language_info": {
      "codemirror_mode": {
        "name": "ipython",
        "version": 3
      },
      "file_extension": ".py",
      "mimetype": "text/x-python",
      "name": "python",
      "nbconvert_exporter": "python",
      "pygments_lexer": "ipython3",
      "version": "3.11.3"
    }
  },
  "nbformat": 4,
  "nbformat_minor": 5
}
